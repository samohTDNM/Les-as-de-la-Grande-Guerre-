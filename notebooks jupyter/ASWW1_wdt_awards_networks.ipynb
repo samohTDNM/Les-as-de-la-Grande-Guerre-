{
 "cells": [
  {
   "cell_type": "markdown",
   "metadata": {},
   "source": [
    "# Networks of Awards\n",
    "\n",
    "\n",
    "\n"
   ]
  },
  {
   "cell_type": "code",
   "execution_count": 32,
   "metadata": {},
   "outputs": [],
   "source": [
    "### Librairie à installer dans l'environnement conda (si on exécute en local)\n",
    "# qui sera choisi pour exécuter le carnet\n",
    "\n",
    "%matplotlib inline\n",
    "\n",
    "from SPARQLWrapper import SPARQLWrapper, JSON, TURTLE, XML, RDFXML\n",
    "import pandas as pd\n",
    "\n",
    "import scipy.stats as stats\n",
    "\n",
    "import networkx as nx\n",
    "from networkx.algorithms import bipartite\n",
    "\n",
    "import matplotlib.pyplot as plt\n",
    "import matplotlib.patches as patches\n",
    "\n",
    "import numpy as np\n",
    "import seaborn as sns\n",
    "import math\n",
    "import os"
   ]
  },
  {
   "cell_type": "code",
   "execution_count": 33,
   "metadata": {},
   "outputs": [],
   "source": [
    "### Librairies déjà installées avec Python\n",
    "import pprint\n",
    "import csv\n",
    "\n",
    "import sqlite3 as sql\n",
    "\n",
    "import time\n",
    "import datetime\n",
    "from dateutil import parser\n",
    "\n",
    "\n",
    "from shutil import copyfile\n"
   ]
  },
  {
   "cell_type": "code",
   "execution_count": 34,
   "metadata": {},
   "outputs": [],
   "source": [
    "### Importer un module de fonctions crées ad hoc\n",
    "##  ATTENTION : le fichier 'sparql_functions.py' doit se trouver \n",
    "#   dans un dossier qui se situe dans le chemin ('path') de recherche\n",
    "#   vu par le présent carnet Jupyter afin que\n",
    "#   l'importation fonctionne correctement\n",
    "\n",
    "import sys\n",
    "from importlib import reload\n",
    "\n",
    "# Add parent directory to the path\n",
    "sys.path.insert(0, '..')\n",
    "\n",
    "### If you want to add the parent-parent directory,\n",
    "sys.path.insert(0, '../..')\n",
    "\n",
    "\n",
    "import sparql_functions as spqf\n",
    "import network_analysis_functions as naf"
   ]
  },
  {
   "cell_type": "code",
   "execution_count": 35,
   "metadata": {},
   "outputs": [
    {
     "name": "stdout",
     "output_type": "stream",
     "text": [
      "<module 'network_analysis_functions' from 'c:\\\\UniNe\\\\Master année 1\\\\semestre 2\\\\Les-as-de-la-Grande-Guerre-\\\\notebooks jupyter\\\\network_analysis_functions.py'>\n"
     ]
    }
   ],
   "source": [
    "print(reload(naf))  "
   ]
  },
  {
   "cell_type": "markdown",
   "metadata": {},
   "source": [
    "## Get the data from the triplestore\n",
    "\n",
    "Ce carnet s’appuie sur les mêmes relations (et donc les mêmes données) que celles utilisées dans l’analyse bivariée des décorations et des alliances. Il s’agit plus précisément des liens entre les pilotes et les distinctions militaires qu’ils ont reçues, ainsi que leur appartenance nationale (ou bloc d’alliance).\n",
    "\n",
    "Dans ce carnet, nous proposons une lecture en termes de réseau de ces relations, en construisant une structure de graphe basée sur les décorations attribuées.\n",
    "\n",
    "L’objectif est de mettre en évidence les structures sous-jacentes dans le système de récompenses militaires pendant la Première Guerre mondiale, d’identifier les pays ou alliances les plus centraux dans ce réseau, et de déceler d’éventuels regroupements (clusters) de pays en fonction de leur profil de distinctions.\n"
   ]
  },
  {
   "cell_type": "code",
   "execution_count": 36,
   "metadata": {},
   "outputs": [],
   "source": [
    "## define SPARQL enpoint\n",
    "endpoint = \"https://ag1gha303ygjmx4r.allegrograph.cloud/repositories/As-de-la-Guerre\""
   ]
  },
  {
   "cell_type": "code",
   "execution_count": 37,
   "metadata": {},
   "outputs": [],
   "source": [
    "query = \"\"\"\n",
    "PREFIX wdt:  <http://www.wikidata.org/prop/direct/>\n",
    "PREFIX rdfs: <http://www.w3.org/2000/01/rdf-schema#>\n",
    "PREFIX xsd:  <http://www.w3.org/2001/XMLSchema#>\n",
    "\n",
    "SELECT DISTINCT\n",
    "  ?ace ?aceLabel\n",
    "  ?allegiance ?allegLabel\n",
    "  ?award ?awardLabel\n",
    "  ?birthYear\n",
    "WHERE {\n",
    "  GRAPH <https://github.com/samohTDNM/as-ww1/blob/main/docs/wikidata-import.md> {\n",
    "\n",
    "    ?ace rdfs:label ?aceLabel .\n",
    "    ?ace wdt:P945 ?allegiance .\n",
    "    ?allegiance rdfs:label ?allegLabel .\n",
    "\n",
    "    OPTIONAL {\n",
    "      ?ace wdt:P166 ?award .\n",
    "      ?award rdfs:label ?awardLabel .\n",
    "    }\n",
    "    OPTIONAL {\n",
    "      ?ace wdt:P569 ?birthDate .\n",
    "      BIND(xsd:integer(SUBSTR(STR(?birthDate), 1, 4)) AS ?birthYear)\n",
    "    }\n",
    "  }\n",
    "}\n",
    "ORDER BY ?birthYear\n",
    "\n",
    "\n",
    "\"\"\""
   ]
  },
  {
   "cell_type": "code",
   "execution_count": 38,
   "metadata": {},
   "outputs": [
    {
     "name": "stdout",
     "output_type": "stream",
     "text": [
      "2383\n",
      "[['http://www.wikidata.org/entity/Q4757076',\n",
      "  'Andrew George Board',\n",
      "  'http://www.wikidata.org/entity/Q174193',\n",
      "  'United Kingdom of Great Britain and Ireland',\n",
      "  'http://www.wikidata.org/entity/Q12177413',\n",
      "  'Companion of the Order of St Michael and St George',\n",
      "  '1878'],\n",
      " ['http://www.wikidata.org/entity/Q7087865',\n",
      "  'Oliver Swann',\n",
      "  'http://www.wikidata.org/entity/Q174193',\n",
      "  'United Kingdom of Great Britain and Ireland',\n",
      "  'http://www.wikidata.org/entity/Q12177470',\n",
      "  'Knight Commander of the Order of the Bath',\n",
      "  '1878'],\n",
      " ['http://www.wikidata.org/entity/Q4757076',\n",
      "  'Andrew George Board',\n",
      "  'http://www.wikidata.org/entity/Q174193',\n",
      "  'United Kingdom of Great Britain and Ireland',\n",
      "  'http://www.wikidata.org/entity/Q615838',\n",
      "  'Distinguished Service Order',\n",
      "  '1878']]\n"
     ]
    }
   ],
   "source": [
    "### Executer la requête avec les fonctions de la librairie locale\n",
    "try:\n",
    "    qr = spqf.get_json_sparql_result(endpoint,query)\n",
    "    out = [l for l in spqf.sparql_result_to_list(qr)]\n",
    "    print(len(out))\n",
    "    pprint.pprint(out[100:103])\n",
    "except Exception as e:\n",
    "    print(e)    \n"
   ]
  },
  {
   "cell_type": "markdown",
   "metadata": {},
   "source": [
    "## Inspect the data\n"
   ]
  },
  {
   "cell_type": "code",
   "execution_count": 39,
   "metadata": {},
   "outputs": [
    {
     "name": "stdout",
     "output_type": "stream",
     "text": [
      "Nombre de lignes : 2383\n"
     ]
    },
    {
     "data": {
      "text/html": [
       "<div>\n",
       "<style scoped>\n",
       "    .dataframe tbody tr th:only-of-type {\n",
       "        vertical-align: middle;\n",
       "    }\n",
       "\n",
       "    .dataframe tbody tr th {\n",
       "        vertical-align: top;\n",
       "    }\n",
       "\n",
       "    .dataframe thead th {\n",
       "        text-align: right;\n",
       "    }\n",
       "</style>\n",
       "<table border=\"1\" class=\"dataframe\">\n",
       "  <thead>\n",
       "    <tr style=\"text-align: right;\">\n",
       "      <th></th>\n",
       "      <th>aceUri</th>\n",
       "      <th>aceLabel</th>\n",
       "      <th>allegianceUri</th>\n",
       "      <th>allegianceLabel</th>\n",
       "      <th>awardUri</th>\n",
       "      <th>awardLabel</th>\n",
       "      <th>birthYear</th>\n",
       "    </tr>\n",
       "  </thead>\n",
       "  <tbody>\n",
       "    <tr>\n",
       "      <th>100</th>\n",
       "      <td>http://www.wikidata.org/entity/Q4757076</td>\n",
       "      <td>Andrew George Board</td>\n",
       "      <td>http://www.wikidata.org/entity/Q174193</td>\n",
       "      <td>United Kingdom of Great Britain and Ireland</td>\n",
       "      <td>http://www.wikidata.org/entity/Q12177413</td>\n",
       "      <td>Companion of the Order of St Michael and St Ge...</td>\n",
       "      <td>1878</td>\n",
       "    </tr>\n",
       "    <tr>\n",
       "      <th>101</th>\n",
       "      <td>http://www.wikidata.org/entity/Q7087865</td>\n",
       "      <td>Oliver Swann</td>\n",
       "      <td>http://www.wikidata.org/entity/Q174193</td>\n",
       "      <td>United Kingdom of Great Britain and Ireland</td>\n",
       "      <td>http://www.wikidata.org/entity/Q12177470</td>\n",
       "      <td>Knight Commander of the Order of the Bath</td>\n",
       "      <td>1878</td>\n",
       "    </tr>\n",
       "    <tr>\n",
       "      <th>102</th>\n",
       "      <td>http://www.wikidata.org/entity/Q4757076</td>\n",
       "      <td>Andrew George Board</td>\n",
       "      <td>http://www.wikidata.org/entity/Q174193</td>\n",
       "      <td>United Kingdom of Great Britain and Ireland</td>\n",
       "      <td>http://www.wikidata.org/entity/Q615838</td>\n",
       "      <td>Distinguished Service Order</td>\n",
       "      <td>1878</td>\n",
       "    </tr>\n",
       "  </tbody>\n",
       "</table>\n",
       "</div>"
      ],
      "text/plain": [
       "                                      aceUri             aceLabel  \\\n",
       "100  http://www.wikidata.org/entity/Q4757076  Andrew George Board   \n",
       "101  http://www.wikidata.org/entity/Q7087865         Oliver Swann   \n",
       "102  http://www.wikidata.org/entity/Q4757076  Andrew George Board   \n",
       "\n",
       "                              allegianceUri  \\\n",
       "100  http://www.wikidata.org/entity/Q174193   \n",
       "101  http://www.wikidata.org/entity/Q174193   \n",
       "102  http://www.wikidata.org/entity/Q174193   \n",
       "\n",
       "                                 allegianceLabel  \\\n",
       "100  United Kingdom of Great Britain and Ireland   \n",
       "101  United Kingdom of Great Britain and Ireland   \n",
       "102  United Kingdom of Great Britain and Ireland   \n",
       "\n",
       "                                     awardUri  \\\n",
       "100  http://www.wikidata.org/entity/Q12177413   \n",
       "101  http://www.wikidata.org/entity/Q12177470   \n",
       "102    http://www.wikidata.org/entity/Q615838   \n",
       "\n",
       "                                            awardLabel birthYear  \n",
       "100  Companion of the Order of St Michael and St Ge...      1878  \n",
       "101          Knight Commander of the Order of the Bath      1878  \n",
       "102                        Distinguished Service Order      1878  "
      ]
     },
     "execution_count": 39,
     "metadata": {},
     "output_type": "execute_result"
    }
   ],
   "source": [
    "df_awards = pd.DataFrame(out)\n",
    "df_awards.columns = [\n",
    "    'aceUri',\n",
    "    'aceLabel',\n",
    "    'allegianceUri',\n",
    "    'allegianceLabel',\n",
    "    'awardUri',\n",
    "    'awardLabel',\n",
    "    'birthYear'\n",
    "]\n",
    "print('Nombre de lignes :', len(df_awards))\n",
    "df_awards.iloc[100:103, :]\n"
   ]
  },
  {
   "cell_type": "markdown",
   "metadata": {},
   "source": [
    "### Distribution of relationships in relation to birthYears of organisations members"
   ]
  },
  {
   "cell_type": "code",
   "execution_count": 40,
   "metadata": {},
   "outputs": [
    {
     "name": "stdout",
     "output_type": "stream",
     "text": [
      "[1850, 1855, 1860, 1865, 1870, 1875, 1880, 1885, 1890, 1895, 1900]\n"
     ]
    }
   ],
   "source": [
    "l_5 = list(range(1850, 1905, 5))\n",
    "print(l_5)"
   ]
  },
  {
   "cell_type": "code",
   "execution_count": 41,
   "metadata": {},
   "outputs": [],
   "source": [
    "### We adapt the periods manually,\n",
    "# we would like to have eleven periods\n",
    "# making sense from an historical point of view \n",
    "lc = [1855, 1860, 1865, 1870, 1875, 1880, 1885, 1890, 1895, 1900, 1905]"
   ]
  },
  {
   "cell_type": "code",
   "execution_count": 42,
   "metadata": {},
   "outputs": [],
   "source": [
    "### convert birthYear to integer\n",
    "df_awards.birthYear = df_awards.birthYear.apply(lambda x : int(x))"
   ]
  },
  {
   "cell_type": "code",
   "execution_count": 43,
   "metadata": {},
   "outputs": [],
   "source": [
    "### En premier lieu, on nettoit les données de bases pour éviter les doublons (tels que \"Kingdom of Italy\" et \"Italy\")\n",
    "\n",
    "df_awards[\"allegianceLabel\"] = df_awards[\"allegianceLabel\"].str.strip()\n",
    "\n",
    "allegiance_clean_map = {\n",
    "    # Italy\n",
    "    \"Kingdom of Italy\": \"Italy\",\n",
    "    \"Italy\": \"Italy\",\n",
    "\n",
    "    # UK and dominions\n",
    "    \"United Kingdom of Great Britain and Ireland\": \"United Kingdom\",\n",
    "    \"United Kingdom\": \"United Kingdom\",\n",
    "    \"British Empire\": \"United Kingdom\",\n",
    "\n",
    "    # Germany\n",
    "    \"Germany\": \"Germany\",\n",
    "    \"German Empire\": \"Germany\",\n",
    "    \"German Reich\": \"Germany\",\n",
    "    \"Nazi Germany\": \"Germany\",\n",
    "    \"Kingdom of Saxony\": \"Germany\",\n",
    "    \"Kingdom of Prussia\": \"Germany\",\n",
    "    \"Kingdom of Bavaria\": \"Germany\",\n",
    "\n",
    "    # Austria-Hungary\n",
    "    \"Austria-Hungary\": \"Austria-Hungary\",\n",
    "    \"Austria–Hungary\": \"Austria-Hungary\",  # en-dash version\n",
    "    \"Austria\": \"Austria-Hungary\",\n",
    "    \"Hungary\": \"Austria-Hungary\",\n",
    "    \"Kingdom of Hungary\": \"Austria-Hungary\",\n",
    "\n",
    "    # Poland\n",
    "    \"Second Polish Republic\": \"Poland\",\n",
    "\n",
    "    # Romania\n",
    "    \"Kingdom of Romania\": \"Romania\",\n",
    "\n",
    "    # Hungary\n",
    "    \"Kingdom of Hungary\": \"Hungary\",\n",
    "    \"Hungary\": \"Hungary\",\n",
    "\n",
    "    # Russia\n",
    "    \"Russian Empire\": \"Russia\",\n",
    "    \"Soviet Union\": \"Russia\",\n",
    "}\n",
    "\n",
    "# Apply mapping\n",
    "df_awards[\"allegiance_clean\"] = df_awards[\"allegianceLabel\"].replace(allegiance_clean_map)\n",
    "\n"
   ]
  },
  {
   "cell_type": "code",
   "execution_count": 44,
   "metadata": {},
   "outputs": [
    {
     "data": {
      "text/html": [
       "<div>\n",
       "<style scoped>\n",
       "    .dataframe tbody tr th:only-of-type {\n",
       "        vertical-align: middle;\n",
       "    }\n",
       "\n",
       "    .dataframe tbody tr th {\n",
       "        vertical-align: top;\n",
       "    }\n",
       "\n",
       "    .dataframe thead th {\n",
       "        text-align: right;\n",
       "    }\n",
       "</style>\n",
       "<table border=\"1\" class=\"dataframe\">\n",
       "  <thead>\n",
       "    <tr style=\"text-align: right;\">\n",
       "      <th></th>\n",
       "      <th>aceUri</th>\n",
       "      <th>aceLabel</th>\n",
       "      <th>allegianceUri</th>\n",
       "      <th>allegianceLabel</th>\n",
       "      <th>awardUri</th>\n",
       "      <th>awardLabel</th>\n",
       "      <th>birthYear</th>\n",
       "      <th>allegiance_clean</th>\n",
       "      <th>periods</th>\n",
       "    </tr>\n",
       "  </thead>\n",
       "  <tbody>\n",
       "    <tr>\n",
       "      <th>1</th>\n",
       "      <td>http://www.wikidata.org/entity/Q6225085</td>\n",
       "      <td>John Capper</td>\n",
       "      <td>http://www.wikidata.org/entity/Q174193</td>\n",
       "      <td>United Kingdom of Great Britain and Ireland</td>\n",
       "      <td>http://www.wikidata.org/entity/Q12177470</td>\n",
       "      <td>Knight Commander of the Order of the Bath</td>\n",
       "      <td>1861</td>\n",
       "      <td>United Kingdom</td>\n",
       "      <td>1860-1864</td>\n",
       "    </tr>\n",
       "    <tr>\n",
       "      <th>5</th>\n",
       "      <td>http://www.wikidata.org/entity/Q57569</td>\n",
       "      <td>Prince Henry of Prussia</td>\n",
       "      <td>http://www.wikidata.org/entity/Q183</td>\n",
       "      <td>Germany</td>\n",
       "      <td>http://www.wikidata.org/entity/Q15117228</td>\n",
       "      <td>Knight of the Order of the Golden Fleece</td>\n",
       "      <td>1862</td>\n",
       "      <td>Germany</td>\n",
       "      <td>1860-1864</td>\n",
       "    </tr>\n",
       "    <tr>\n",
       "      <th>10</th>\n",
       "      <td>http://www.wikidata.org/entity/Q57569</td>\n",
       "      <td>Prince Henry of Prussia</td>\n",
       "      <td>http://www.wikidata.org/entity/Q183</td>\n",
       "      <td>Germany</td>\n",
       "      <td>http://www.wikidata.org/entity/Q1126563</td>\n",
       "      <td>Order of St. Andrew</td>\n",
       "      <td>1862</td>\n",
       "      <td>Germany</td>\n",
       "      <td>1860-1864</td>\n",
       "    </tr>\n",
       "  </tbody>\n",
       "</table>\n",
       "</div>"
      ],
      "text/plain": [
       "                                     aceUri                 aceLabel  \\\n",
       "1   http://www.wikidata.org/entity/Q6225085              John Capper   \n",
       "5     http://www.wikidata.org/entity/Q57569  Prince Henry of Prussia   \n",
       "10    http://www.wikidata.org/entity/Q57569  Prince Henry of Prussia   \n",
       "\n",
       "                             allegianceUri  \\\n",
       "1   http://www.wikidata.org/entity/Q174193   \n",
       "5      http://www.wikidata.org/entity/Q183   \n",
       "10     http://www.wikidata.org/entity/Q183   \n",
       "\n",
       "                                allegianceLabel  \\\n",
       "1   United Kingdom of Great Britain and Ireland   \n",
       "5                                       Germany   \n",
       "10                                      Germany   \n",
       "\n",
       "                                    awardUri  \\\n",
       "1   http://www.wikidata.org/entity/Q12177470   \n",
       "5   http://www.wikidata.org/entity/Q15117228   \n",
       "10   http://www.wikidata.org/entity/Q1126563   \n",
       "\n",
       "                                   awardLabel  birthYear allegiance_clean  \\\n",
       "1   Knight Commander of the Order of the Bath       1861   United Kingdom   \n",
       "5    Knight of the Order of the Golden Fleece       1862          Germany   \n",
       "10                        Order of St. Andrew       1862          Germany   \n",
       "\n",
       "      periods  \n",
       "1   1860-1864  \n",
       "5   1860-1864  \n",
       "10  1860-1864  "
      ]
     },
     "execution_count": 44,
     "metadata": {},
     "output_type": "execute_result"
    }
   ],
   "source": [
    "### fonction pd.cut : https://pandas.pydata.org/pandas-docs/stable/reference/api/pandas.cut.html\n",
    "# On ajoute une nouvelle colonne qui contient la période sur la base de la liste précédente\n",
    "# et de la valeur de l'année\n",
    "df_awards['periods'] = pd.cut(df_awards['birthYear'], lc, right=False)\n",
    "\n",
    "### Transformer le code ajouté pour qu'il soit plus lisible\n",
    "# noter qu'on a arrondi les valeurs\n",
    "df_awards['periods'] = df_awards['periods'].apply(lambda x : str(int(x.left))+'-'+ str(int(x.right)-1))\n",
    "\n",
    "# Inspection\n",
    "df_awards.iloc[[1,5,10]]"
   ]
  },
  {
   "cell_type": "code",
   "execution_count": 45,
   "metadata": {},
   "outputs": [
    {
     "name": "stdout",
     "output_type": "stream",
     "text": [
      "periods\n",
      "1860-1864     21\n",
      "1865-1869     18\n",
      "1870-1874     26\n",
      "1875-1879     77\n",
      "1880-1884    187\n",
      "1885-1889    376\n",
      "1890-1894    825\n",
      "1895-1899    813\n",
      "1900-1904     40\n",
      "dtype: int64\n"
     ]
    }
   ],
   "source": [
    "### Group by periods\n",
    "df_period = df_awards.groupby(by='periods', observed=True).size()\n",
    "print(df_period)"
   ]
  },
  {
   "cell_type": "code",
   "execution_count": 46,
   "metadata": {},
   "outputs": [
    {
     "data": {
      "image/png": "[encoded data removed]",
      "text/plain": [
       "<Figure size 800x600 with 1 Axes>"
      ]
     },
     "metadata": {},
     "output_type": "display_data"
    }
   ],
   "source": [
    "ax = df_period.plot(kind='bar',rot=50, fontsize=10, figsize=(8,6))\n",
    "ax.bar_label(ax.containers[-1], size=10)\n",
    "plt.ylabel('Number')\n",
    "plt.xlabel('Periods')\n",
    "plt.title('Distribution of awards in relation to generations')\n",
    "plt.show()"
   ]
  },
  {
   "cell_type": "markdown",
   "metadata": {},
   "source": [
    "### Inspect available relationships"
   ]
  },
  {
   "cell_type": "code",
   "execution_count": 47,
   "metadata": {},
   "outputs": [
    {
     "name": "stdout",
     "output_type": "stream",
     "text": [
      "awardLabel\n",
      "                                        218\n",
      "Croix de guerre 1914–1918               129\n",
      "Knight of the Legion of Honour          101\n",
      "Distinguished Flying Cross               75\n",
      "Medal of Military Valour                 74\n",
      "Silver Cross of the Virtuti Militari     54\n",
      "Military Cross                           53\n",
      "Médaille militaire                       48\n",
      "Distinguished Service Order              46\n",
      "Officer of the Legion of Honour          46\n",
      "dtype: int64\n"
     ]
    }
   ],
   "source": [
    "### On compte les awards les plus communs\n",
    "print(df_awards.groupby('awardLabel').size().sort_values(ascending=False).head(10))\n"
   ]
  },
  {
   "cell_type": "code",
   "execution_count": 48,
   "metadata": {},
   "outputs": [
    {
     "name": "stdout",
     "output_type": "stream",
     "text": [
      "     periods allegiance_clean  size\n",
      "0  1860-1864          Germany    11\n",
      "1  1860-1864            Italy     8\n",
      "2  1860-1864   United Kingdom     2\n",
      "3  1865-1869           France    10\n",
      "4  1865-1869          Germany     1\n",
      "5  1865-1869          Hungary     1\n",
      "6  1865-1869            Italy     1\n",
      "7  1865-1869   United Kingdom     4\n",
      "8  1865-1869    United States     1\n",
      "9  1870-1874           France     8\n"
     ]
    }
   ],
   "source": [
    "dfg_pr = df_awards.groupby(by=['periods', 'allegiance_clean'], observed=True, as_index=False).size()\n",
    "print(dfg_pr.head(10))\n",
    "\n"
   ]
  },
  {
   "cell_type": "code",
   "execution_count": 49,
   "metadata": {},
   "outputs": [
    {
     "data": {
      "image/png": "[encoded data removed]",
      "text/plain": [
       "<Figure size 800x600 with 1 Axes>"
      ]
     },
     "metadata": {},
     "output_type": "display_data"
    }
   ],
   "source": [
    "## le graphique suivant montre que nous avons trop d'allégeances pour des analyses claires. Il faut procéder à une sélection.\n",
    "%matplotlib inline\n",
    "plt.figure(figsize=(8, 6)) \n",
    "ax = sns.barplot(data=dfg_pr, x='periods', y='size', hue='allegiance_clean', palette='Blues')\n",
    "ax.tick_params(axis='x', labelrotation=45)\n"
   ]
  },
  {
   "cell_type": "markdown",
   "metadata": {},
   "source": [
    "### Clean up: choice of allegiances"
   ]
  },
  {
   "cell_type": "code",
   "execution_count": 50,
   "metadata": {},
   "outputs": [],
   "source": [
    "# Nettoyage + regroupement des allégeances dans des blocs cohérents\n",
    "allegiance_clean_map = {\n",
    "    # British Empire\n",
    "    \"United Kingdom of Great Britain and Ireland\": \"British Empire\",\n",
    "    \"United Kingdom\": \"British Empire\",\n",
    "    \"British Empire\": \"British Empire\",\n",
    "    \"Canada\": \"British Empire\",\n",
    "    \"Australia\": \"British Empire\",\n",
    "    \"New Zealand\": \"British Empire\",\n",
    "    \"Ireland\": \"British Empire\",\n",
    "\n",
    "    # France\n",
    "    \"France\": \"France\",\n",
    "\n",
    "    # Germany\n",
    "    \"Germany\": \"Germany\",\n",
    "    \"German Empire\": \"Germany\",\n",
    "    \"German Reich\": \"Germany\",\n",
    "    \"Nazi Germany\": \"Germany\",\n",
    "\n",
    "    # Austria-Hungary\n",
    "    \"Austria-Hungary\": \"Austria-Hungary\",\n",
    "    \"Austria–Hungary\": \"Austria-Hungary\",  # en-dash\n",
    "    \"Austria\": \"Austria-Hungary\",\n",
    "\n",
    "    # Italy\n",
    "    \"Italy\": \"Italy\",\n",
    "    \"Kingdom of Italy\": \"Italy\",\n",
    "\n",
    "    # USA\n",
    "    \"United States\": \"United States\",\n",
    "\n",
    "    # Russia\n",
    "    \"Russian Empire\": \"Russia\",\n",
    "    \"Soviet Union\": \"Russia\",\n",
    "    \"Russia\": \"Russia\",\n",
    "}\n",
    "\n"
   ]
  },
  {
   "cell_type": "code",
   "execution_count": 51,
   "metadata": {},
   "outputs": [
    {
     "data": {
      "text/html": [
       "<div>\n",
       "<style scoped>\n",
       "    .dataframe tbody tr th:only-of-type {\n",
       "        vertical-align: middle;\n",
       "    }\n",
       "\n",
       "    .dataframe tbody tr th {\n",
       "        vertical-align: top;\n",
       "    }\n",
       "\n",
       "    .dataframe thead th {\n",
       "        text-align: right;\n",
       "    }\n",
       "</style>\n",
       "<table border=\"1\" class=\"dataframe\">\n",
       "  <thead>\n",
       "    <tr style=\"text-align: right;\">\n",
       "      <th></th>\n",
       "      <th>aceUri</th>\n",
       "      <th>aceLabel</th>\n",
       "      <th>allegianceUri</th>\n",
       "      <th>allegianceLabel</th>\n",
       "      <th>awardUri</th>\n",
       "      <th>awardLabel</th>\n",
       "      <th>birthYear</th>\n",
       "      <th>allegiance_clean</th>\n",
       "      <th>periods</th>\n",
       "    </tr>\n",
       "  </thead>\n",
       "  <tbody>\n",
       "    <tr>\n",
       "      <th>1</th>\n",
       "      <td>http://www.wikidata.org/entity/Q6225085</td>\n",
       "      <td>John Capper</td>\n",
       "      <td>http://www.wikidata.org/entity/Q174193</td>\n",
       "      <td>United Kingdom of Great Britain and Ireland</td>\n",
       "      <td>http://www.wikidata.org/entity/Q12177470</td>\n",
       "      <td>Knight Commander of the Order of the Bath</td>\n",
       "      <td>1861</td>\n",
       "      <td>British Empire</td>\n",
       "      <td>1860-1864</td>\n",
       "    </tr>\n",
       "    <tr>\n",
       "      <th>20</th>\n",
       "      <td>http://www.wikidata.org/entity/Q193236</td>\n",
       "      <td>Gabriele D'Annunzio</td>\n",
       "      <td>http://www.wikidata.org/entity/Q172579</td>\n",
       "      <td>Kingdom of Italy</td>\n",
       "      <td>http://www.wikidata.org/entity/Q163700</td>\n",
       "      <td>Legion of Honour</td>\n",
       "      <td>1863</td>\n",
       "      <td>Italy</td>\n",
       "      <td>1860-1864</td>\n",
       "    </tr>\n",
       "    <tr>\n",
       "      <th>80</th>\n",
       "      <td>http://www.wikidata.org/entity/Q5481885</td>\n",
       "      <td>Francis McClean</td>\n",
       "      <td>http://www.wikidata.org/entity/Q174193</td>\n",
       "      <td>United Kingdom of Great Britain and Ireland</td>\n",
       "      <td>http://www.wikidata.org/entity/Q833163</td>\n",
       "      <td>Knight Bachelor</td>\n",
       "      <td>1876</td>\n",
       "      <td>British Empire</td>\n",
       "      <td>1875-1879</td>\n",
       "    </tr>\n",
       "  </tbody>\n",
       "</table>\n",
       "</div>"
      ],
      "text/plain": [
       "                                     aceUri             aceLabel  \\\n",
       "1   http://www.wikidata.org/entity/Q6225085          John Capper   \n",
       "20   http://www.wikidata.org/entity/Q193236  Gabriele D'Annunzio   \n",
       "80  http://www.wikidata.org/entity/Q5481885      Francis McClean   \n",
       "\n",
       "                             allegianceUri  \\\n",
       "1   http://www.wikidata.org/entity/Q174193   \n",
       "20  http://www.wikidata.org/entity/Q172579   \n",
       "80  http://www.wikidata.org/entity/Q174193   \n",
       "\n",
       "                                allegianceLabel  \\\n",
       "1   United Kingdom of Great Britain and Ireland   \n",
       "20                             Kingdom of Italy   \n",
       "80  United Kingdom of Great Britain and Ireland   \n",
       "\n",
       "                                    awardUri  \\\n",
       "1   http://www.wikidata.org/entity/Q12177470   \n",
       "20    http://www.wikidata.org/entity/Q163700   \n",
       "80    http://www.wikidata.org/entity/Q833163   \n",
       "\n",
       "                                   awardLabel  birthYear allegiance_clean  \\\n",
       "1   Knight Commander of the Order of the Bath       1861   British Empire   \n",
       "20                           Legion of Honour       1863            Italy   \n",
       "80                            Knight Bachelor       1876   British Empire   \n",
       "\n",
       "      periods  \n",
       "1   1860-1864  \n",
       "20  1860-1864  \n",
       "80  1875-1879  "
      ]
     },
     "execution_count": 51,
     "metadata": {},
     "output_type": "execute_result"
    }
   ],
   "source": [
    "df_awards[\"allegiance_clean\"] = df_awards[\"allegianceLabel\"].replace(allegiance_clean_map)\n",
    "\n",
    "\n",
    "main_alliances = [\n",
    "    \"France\", \"British Empire\", \"Germany\", \n",
    "    \"Austria-Hungary\", \"Italy\", \"United States\", \"Russia\"\n",
    "]\n",
    "\n",
    "# On regroupe le rest dans other\n",
    "df_awards[\"allegiance_clean\"] = df_awards[\"allegiance_clean\"].apply(\n",
    "    lambda x: x if x in main_alliances else \"Other\"\n",
    ")\n",
    "\n",
    "df_awards.iloc[[1,20,80]]"
   ]
  },
  {
   "cell_type": "code",
   "execution_count": 52,
   "metadata": {},
   "outputs": [
    {
     "name": "stdout",
     "output_type": "stream",
     "text": [
      "allegiance_clean\n",
      "France             621\n",
      "British Empire     474\n",
      "Other              338\n",
      "United States      309\n",
      "Germany            233\n",
      "Italy              198\n",
      "Russia             178\n",
      "Austria-Hungary     32\n",
      "Name: count, dtype: int64\n"
     ]
    }
   ],
   "source": [
    "## On vérifie que le regroupement a bien eu lieu\n",
    "print(df_awards[\"allegiance_clean\"].value_counts())\n",
    "\n"
   ]
  },
  {
   "cell_type": "markdown",
   "metadata": {},
   "source": [
    "#### Save dataframe to CSV"
   ]
  },
  {
   "cell_type": "code",
   "execution_count": 53,
   "metadata": {},
   "outputs": [],
   "source": [
    "###file_add = 'C:\\UniNe\\Master année 1\\semestre 2\\Les-as-de-la-Grande-Guerre-\\data\\main_awards_allegiance.csv'\n",
    "## df_awards.to_csv(file_add, index=False, sep=',', quotechar='\"')"
   ]
  },
  {
   "cell_type": "markdown",
   "metadata": {},
   "source": [
    "# Create graphs"
   ]
  },
  {
   "cell_type": "code",
   "execution_count": 54,
   "metadata": {},
   "outputs": [
    {
     "name": "stdout",
     "output_type": "stream",
     "text": [
      "Index(['aceUri', 'aceLabel', 'allegianceUri', 'allegianceLabel', 'awardUri',\n",
      "       'awardLabel', 'birthYear', 'allegiance_clean', 'periods'],\n",
      "      dtype='object')\n"
     ]
    }
   ],
   "source": [
    "### Available relationships\n",
    "print(df_awards.columns)\n"
   ]
  },
  {
   "cell_type": "markdown",
   "metadata": {},
   "source": [
    "### Prepare the dataframe"
   ]
  },
  {
   "cell_type": "code",
   "execution_count": 55,
   "metadata": {},
   "outputs": [
    {
     "name": "stdout",
     "output_type": "stream",
     "text": [
      "2383\n"
     ]
    }
   ],
   "source": [
    "# Prepare dataframe for network analysis: pilots ↔ awards\n",
    "df_prep = df_awards[['aceUri', 'aceLabel', 'awardLabel', 'allegiance_clean', 'periods']].copy(deep=True)\n",
    "\n",
    "print(len(df_prep))\n"
   ]
  },
  {
   "cell_type": "markdown",
   "metadata": {},
   "source": [
    "### Features of award"
   ]
  },
  {
   "cell_type": "markdown",
   "metadata": {},
   "source": [
    "#### General grouping\n",
    "\n",
    "\n",
    "We first group by awards. "
   ]
  },
  {
   "cell_type": "code",
   "execution_count": 56,
   "metadata": {},
   "outputs": [
    {
     "data": {
      "text/html": [
       "<div>\n",
       "<style scoped>\n",
       "    .dataframe tbody tr th:only-of-type {\n",
       "        vertical-align: middle;\n",
       "    }\n",
       "\n",
       "    .dataframe tbody tr th {\n",
       "        vertical-align: top;\n",
       "    }\n",
       "\n",
       "    .dataframe thead th {\n",
       "        text-align: right;\n",
       "    }\n",
       "</style>\n",
       "<table border=\"1\" class=\"dataframe\">\n",
       "  <thead>\n",
       "    <tr style=\"text-align: right;\">\n",
       "      <th></th>\n",
       "      <th>awardLabel</th>\n",
       "      <th>nb_pilots</th>\n",
       "    </tr>\n",
       "  </thead>\n",
       "  <tbody>\n",
       "    <tr>\n",
       "      <th>0</th>\n",
       "      <td></td>\n",
       "      <td>218</td>\n",
       "    </tr>\n",
       "    <tr>\n",
       "      <th>73</th>\n",
       "      <td>Croix de guerre 1914–1918</td>\n",
       "      <td>129</td>\n",
       "    </tr>\n",
       "    <tr>\n",
       "      <th>213</th>\n",
       "      <td>Knight of the Legion of Honour</td>\n",
       "      <td>101</td>\n",
       "    </tr>\n",
       "    <tr>\n",
       "      <th>99</th>\n",
       "      <td>Distinguished Flying Cross</td>\n",
       "      <td>75</td>\n",
       "    </tr>\n",
       "    <tr>\n",
       "      <th>269</th>\n",
       "      <td>Medal of Military Valour</td>\n",
       "      <td>74</td>\n",
       "    </tr>\n",
       "    <tr>\n",
       "      <th>454</th>\n",
       "      <td>Silver Cross of the Virtuti Militari</td>\n",
       "      <td>54</td>\n",
       "    </tr>\n",
       "    <tr>\n",
       "      <th>281</th>\n",
       "      <td>Military Cross</td>\n",
       "      <td>53</td>\n",
       "    </tr>\n",
       "    <tr>\n",
       "      <th>301</th>\n",
       "      <td>Médaille militaire</td>\n",
       "      <td>48</td>\n",
       "    </tr>\n",
       "    <tr>\n",
       "      <th>102</th>\n",
       "      <td>Distinguished Service Order</td>\n",
       "      <td>46</td>\n",
       "    </tr>\n",
       "    <tr>\n",
       "      <th>310</th>\n",
       "      <td>Officer of the Legion of Honour</td>\n",
       "      <td>46</td>\n",
       "    </tr>\n",
       "  </tbody>\n",
       "</table>\n",
       "</div>"
      ],
      "text/plain": [
       "                               awardLabel  nb_pilots\n",
       "0                                                218\n",
       "73              Croix de guerre 1914–1918        129\n",
       "213        Knight of the Legion of Honour        101\n",
       "99             Distinguished Flying Cross         75\n",
       "269              Medal of Military Valour         74\n",
       "454  Silver Cross of the Virtuti Militari         54\n",
       "281                        Military Cross         53\n",
       "301                    Médaille militaire         48\n",
       "102           Distinguished Service Order         46\n",
       "310       Officer of the Legion of Honour         46"
      ]
     },
     "execution_count": 56,
     "metadata": {},
     "output_type": "execute_result"
    }
   ],
   "source": [
    "# Group awards and count number of pilots who received them\n",
    "df_award_stats = (\n",
    "    df_prep\n",
    "    .groupby(['awardLabel'], as_index=False)\n",
    "    .size()\n",
    "    .rename(columns={'size': 'nb_pilots'})\n",
    ")\n",
    "\n",
    "df_award_stats = df_award_stats.sort_values('nb_pilots', ascending=False)\n",
    "\n",
    "df_award_stats.head(10)\n"
   ]
  },
  {
   "cell_type": "code",
   "execution_count": 57,
   "metadata": {},
   "outputs": [
    {
     "data": {
      "text/html": [
       "<div>\n",
       "<style scoped>\n",
       "    .dataframe tbody tr th:only-of-type {\n",
       "        vertical-align: middle;\n",
       "    }\n",
       "\n",
       "    .dataframe tbody tr th {\n",
       "        vertical-align: top;\n",
       "    }\n",
       "\n",
       "    .dataframe thead th {\n",
       "        text-align: right;\n",
       "    }\n",
       "</style>\n",
       "<table border=\"1\" class=\"dataframe\">\n",
       "  <thead>\n",
       "    <tr style=\"text-align: right;\">\n",
       "      <th></th>\n",
       "      <th>allegiance_clean</th>\n",
       "      <th>awardLabel</th>\n",
       "      <th>nb_pilots</th>\n",
       "    </tr>\n",
       "  </thead>\n",
       "  <tbody>\n",
       "    <tr>\n",
       "      <th>133</th>\n",
       "      <td>France</td>\n",
       "      <td>Croix de guerre 1914–1918</td>\n",
       "      <td>111</td>\n",
       "    </tr>\n",
       "    <tr>\n",
       "      <th>163</th>\n",
       "      <td>France</td>\n",
       "      <td>Knight of the Legion of Honour</td>\n",
       "      <td>84</td>\n",
       "    </tr>\n",
       "    <tr>\n",
       "      <th>363</th>\n",
       "      <td>Italy</td>\n",
       "      <td>Medal of Military Valour</td>\n",
       "      <td>72</td>\n",
       "    </tr>\n",
       "    <tr>\n",
       "      <th>108</th>\n",
       "      <td>France</td>\n",
       "      <td></td>\n",
       "      <td>52</td>\n",
       "    </tr>\n",
       "    <tr>\n",
       "      <th>584</th>\n",
       "      <td>United States</td>\n",
       "      <td></td>\n",
       "      <td>50</td>\n",
       "    </tr>\n",
       "    <tr>\n",
       "      <th>36</th>\n",
       "      <td>British Empire</td>\n",
       "      <td>Distinguished Flying Cross</td>\n",
       "      <td>50</td>\n",
       "    </tr>\n",
       "    <tr>\n",
       "      <th>503</th>\n",
       "      <td>Other</td>\n",
       "      <td>Silver Cross of the Virtuti Militari</td>\n",
       "      <td>46</td>\n",
       "    </tr>\n",
       "    <tr>\n",
       "      <th>189</th>\n",
       "      <td>France</td>\n",
       "      <td>Officer of the Legion of Honour</td>\n",
       "      <td>45</td>\n",
       "    </tr>\n",
       "    <tr>\n",
       "      <th>187</th>\n",
       "      <td>France</td>\n",
       "      <td>Médaille militaire</td>\n",
       "      <td>45</td>\n",
       "    </tr>\n",
       "    <tr>\n",
       "      <th>72</th>\n",
       "      <td>British Empire</td>\n",
       "      <td>Military Cross</td>\n",
       "      <td>43</td>\n",
       "    </tr>\n",
       "  </tbody>\n",
       "</table>\n",
       "</div>"
      ],
      "text/plain": [
       "    allegiance_clean                            awardLabel  nb_pilots\n",
       "133           France             Croix de guerre 1914–1918        111\n",
       "163           France        Knight of the Legion of Honour         84\n",
       "363            Italy              Medal of Military Valour         72\n",
       "108           France                                               52\n",
       "584    United States                                               50\n",
       "36    British Empire            Distinguished Flying Cross         50\n",
       "503            Other  Silver Cross of the Virtuti Militari         46\n",
       "189           France       Officer of the Legion of Honour         45\n",
       "187           France                    Médaille militaire         45\n",
       "72    British Empire                        Military Cross         43"
      ]
     },
     "execution_count": 57,
     "metadata": {},
     "output_type": "execute_result"
    }
   ],
   "source": [
    "# Count awards per country\n",
    "df_award_country = (\n",
    "    df_prep\n",
    "    .groupby(['allegiance_clean', 'awardLabel'], as_index=False)\n",
    "    .size()\n",
    "    .rename(columns={'size': 'nb_pilots'})\n",
    ")\n",
    "\n",
    "# Sort by frequency\n",
    "df_award_country.sort_values('nb_pilots', ascending=False).head(10)\n"
   ]
  },
  {
   "cell_type": "markdown",
   "metadata": {},
   "source": [
    "#### Group by period\n",
    "\n",
    "We then group by heuristic period (or generation)"
   ]
  },
  {
   "cell_type": "code",
   "execution_count": 58,
   "metadata": {},
   "outputs": [
    {
     "name": "stderr",
     "output_type": "stream",
     "text": [
      "C:\\Users\\menou\\AppData\\Local\\Temp\\ipykernel_30276\\3331039059.py:4: FutureWarning: The default of observed=False is deprecated and will be changed to True in a future version of pandas. Pass observed=False to retain current behavior or observed=True to adopt the future default and silence this warning.\n",
      "  .groupby(['awardLabel', 'periods'])\n"
     ]
    },
    {
     "data": {
      "text/html": [
       "<div>\n",
       "<style scoped>\n",
       "    .dataframe tbody tr th:only-of-type {\n",
       "        vertical-align: middle;\n",
       "    }\n",
       "\n",
       "    .dataframe tbody tr th {\n",
       "        vertical-align: top;\n",
       "    }\n",
       "\n",
       "    .dataframe thead th {\n",
       "        text-align: right;\n",
       "    }\n",
       "</style>\n",
       "<table border=\"1\" class=\"dataframe\">\n",
       "  <thead>\n",
       "    <tr style=\"text-align: right;\">\n",
       "      <th></th>\n",
       "      <th>awardLabel</th>\n",
       "      <th>periods</th>\n",
       "      <th>period_award_count</th>\n",
       "    </tr>\n",
       "  </thead>\n",
       "  <tbody>\n",
       "    <tr>\n",
       "      <th>0</th>\n",
       "      <td></td>\n",
       "      <td>1855-1859</td>\n",
       "      <td>0</td>\n",
       "    </tr>\n",
       "    <tr>\n",
       "      <th>1010</th>\n",
       "      <td>Distinguished Service Medal</td>\n",
       "      <td>1855-1859</td>\n",
       "      <td>0</td>\n",
       "    </tr>\n",
       "    <tr>\n",
       "      <th>3810</th>\n",
       "      <td>Order of Suvorov, 2nd class</td>\n",
       "      <td>1855-1859</td>\n",
       "      <td>0</td>\n",
       "    </tr>\n",
       "    <tr>\n",
       "      <th>1020</th>\n",
       "      <td>Distinguished Service Order</td>\n",
       "      <td>1855-1859</td>\n",
       "      <td>0</td>\n",
       "    </tr>\n",
       "    <tr>\n",
       "      <th>3800</th>\n",
       "      <td>Order of Suvorov, 1st class</td>\n",
       "      <td>1855-1859</td>\n",
       "      <td>0</td>\n",
       "    </tr>\n",
       "  </tbody>\n",
       "</table>\n",
       "</div>"
      ],
      "text/plain": [
       "                       awardLabel    periods  period_award_count\n",
       "0                                  1855-1859                   0\n",
       "1010  Distinguished Service Medal  1855-1859                   0\n",
       "3810  Order of Suvorov, 2nd class  1855-1859                   0\n",
       "1020  Distinguished Service Order  1855-1859                   0\n",
       "3800  Order of Suvorov, 1st class  1855-1859                   0"
      ]
     },
     "execution_count": 58,
     "metadata": {},
     "output_type": "execute_result"
    }
   ],
   "source": [
    "# Nombre de pilotes par récompense et par période\n",
    "df_awardPeriod = (\n",
    "    df_prep\n",
    "    .groupby(['awardLabel', 'periods'])\n",
    "    .size()\n",
    "    .reset_index(name='period_award_count')\n",
    ")\n",
    "\n",
    "# Affichage trié par période (juste pour inspection)\n",
    "df_awardPeriod.sort_values(by='periods', ascending=True).head()\n"
   ]
  },
  {
   "cell_type": "code",
   "execution_count": 59,
   "metadata": {},
   "outputs": [
    {
     "data": {
      "text/html": [
       "<div>\n",
       "<style scoped>\n",
       "    .dataframe tbody tr th:only-of-type {\n",
       "        vertical-align: middle;\n",
       "    }\n",
       "\n",
       "    .dataframe tbody tr th {\n",
       "        vertical-align: top;\n",
       "    }\n",
       "\n",
       "    .dataframe thead th {\n",
       "        text-align: right;\n",
       "    }\n",
       "</style>\n",
       "<table border=\"1\" class=\"dataframe\">\n",
       "  <thead>\n",
       "    <tr style=\"text-align: right;\">\n",
       "      <th></th>\n",
       "      <th>awardLabel</th>\n",
       "      <th>periods</th>\n",
       "      <th>period_award_count</th>\n",
       "    </tr>\n",
       "  </thead>\n",
       "  <tbody>\n",
       "    <tr>\n",
       "      <th>7</th>\n",
       "      <td></td>\n",
       "      <td>1890-1894</td>\n",
       "      <td>80</td>\n",
       "    </tr>\n",
       "    <tr>\n",
       "      <th>8</th>\n",
       "      <td></td>\n",
       "      <td>1895-1899</td>\n",
       "      <td>74</td>\n",
       "    </tr>\n",
       "    <tr>\n",
       "      <th>737</th>\n",
       "      <td>Croix de guerre 1914–1918</td>\n",
       "      <td>1890-1894</td>\n",
       "      <td>55</td>\n",
       "    </tr>\n",
       "    <tr>\n",
       "      <th>998</th>\n",
       "      <td>Distinguished Flying Cross</td>\n",
       "      <td>1895-1899</td>\n",
       "      <td>38</td>\n",
       "    </tr>\n",
       "    <tr>\n",
       "      <th>2697</th>\n",
       "      <td>Medal of Military Valour</td>\n",
       "      <td>1890-1894</td>\n",
       "      <td>35</td>\n",
       "    </tr>\n",
       "    <tr>\n",
       "      <th>6</th>\n",
       "      <td></td>\n",
       "      <td>1885-1889</td>\n",
       "      <td>34</td>\n",
       "    </tr>\n",
       "    <tr>\n",
       "      <th>4548</th>\n",
       "      <td>Silver Cross of the Virtuti Militari</td>\n",
       "      <td>1895-1899</td>\n",
       "      <td>33</td>\n",
       "    </tr>\n",
       "    <tr>\n",
       "      <th>2137</th>\n",
       "      <td>Knight of the Legion of Honour</td>\n",
       "      <td>1890-1894</td>\n",
       "      <td>32</td>\n",
       "    </tr>\n",
       "    <tr>\n",
       "      <th>736</th>\n",
       "      <td>Croix de guerre 1914–1918</td>\n",
       "      <td>1885-1889</td>\n",
       "      <td>29</td>\n",
       "    </tr>\n",
       "    <tr>\n",
       "      <th>2136</th>\n",
       "      <td>Knight of the Legion of Honour</td>\n",
       "      <td>1885-1889</td>\n",
       "      <td>28</td>\n",
       "    </tr>\n",
       "  </tbody>\n",
       "</table>\n",
       "</div>"
      ],
      "text/plain": [
       "                                awardLabel    periods  period_award_count\n",
       "7                                           1890-1894                  80\n",
       "8                                           1895-1899                  74\n",
       "737              Croix de guerre 1914–1918  1890-1894                  55\n",
       "998             Distinguished Flying Cross  1895-1899                  38\n",
       "2697              Medal of Military Valour  1890-1894                  35\n",
       "6                                           1885-1889                  34\n",
       "4548  Silver Cross of the Virtuti Militari  1895-1899                  33\n",
       "2137        Knight of the Legion of Honour  1890-1894                  32\n",
       "736              Croix de guerre 1914–1918  1885-1889                  29\n",
       "2136        Knight of the Legion of Honour  1885-1889                  28"
      ]
     },
     "execution_count": 59,
     "metadata": {},
     "output_type": "execute_result"
    }
   ],
   "source": [
    "## On observe des valeurs nulles, il faut donc investiguer. \n",
    "df_awardPeriod.sort_values(by='period_award_count', ascending=False).head(10)\n"
   ]
  },
  {
   "cell_type": "code",
   "execution_count": 60,
   "metadata": {},
   "outputs": [
    {
     "data": {
      "text/html": [
       "<div>\n",
       "<style scoped>\n",
       "    .dataframe tbody tr th:only-of-type {\n",
       "        vertical-align: middle;\n",
       "    }\n",
       "\n",
       "    .dataframe tbody tr th {\n",
       "        vertical-align: top;\n",
       "    }\n",
       "\n",
       "    .dataframe thead th {\n",
       "        text-align: right;\n",
       "    }\n",
       "</style>\n",
       "<table border=\"1\" class=\"dataframe\">\n",
       "  <thead>\n",
       "    <tr style=\"text-align: right;\">\n",
       "      <th></th>\n",
       "      <th>awardLabel</th>\n",
       "      <th>periods</th>\n",
       "      <th>period_award_count</th>\n",
       "    </tr>\n",
       "  </thead>\n",
       "  <tbody>\n",
       "    <tr>\n",
       "      <th>1020</th>\n",
       "      <td>Distinguished Service Order</td>\n",
       "      <td>1855-1859</td>\n",
       "      <td>0</td>\n",
       "    </tr>\n",
       "    <tr>\n",
       "      <th>1021</th>\n",
       "      <td>Distinguished Service Order</td>\n",
       "      <td>1860-1864</td>\n",
       "      <td>0</td>\n",
       "    </tr>\n",
       "    <tr>\n",
       "      <th>1022</th>\n",
       "      <td>Distinguished Service Order</td>\n",
       "      <td>1865-1869</td>\n",
       "      <td>1</td>\n",
       "    </tr>\n",
       "    <tr>\n",
       "      <th>1023</th>\n",
       "      <td>Distinguished Service Order</td>\n",
       "      <td>1870-1874</td>\n",
       "      <td>1</td>\n",
       "    </tr>\n",
       "    <tr>\n",
       "      <th>1024</th>\n",
       "      <td>Distinguished Service Order</td>\n",
       "      <td>1875-1879</td>\n",
       "      <td>4</td>\n",
       "    </tr>\n",
       "    <tr>\n",
       "      <th>1025</th>\n",
       "      <td>Distinguished Service Order</td>\n",
       "      <td>1880-1884</td>\n",
       "      <td>9</td>\n",
       "    </tr>\n",
       "    <tr>\n",
       "      <th>1026</th>\n",
       "      <td>Distinguished Service Order</td>\n",
       "      <td>1885-1889</td>\n",
       "      <td>7</td>\n",
       "    </tr>\n",
       "    <tr>\n",
       "      <th>1027</th>\n",
       "      <td>Distinguished Service Order</td>\n",
       "      <td>1890-1894</td>\n",
       "      <td>14</td>\n",
       "    </tr>\n",
       "    <tr>\n",
       "      <th>1028</th>\n",
       "      <td>Distinguished Service Order</td>\n",
       "      <td>1895-1899</td>\n",
       "      <td>10</td>\n",
       "    </tr>\n",
       "    <tr>\n",
       "      <th>1029</th>\n",
       "      <td>Distinguished Service Order</td>\n",
       "      <td>1900-1904</td>\n",
       "      <td>0</td>\n",
       "    </tr>\n",
       "  </tbody>\n",
       "</table>\n",
       "</div>"
      ],
      "text/plain": [
       "                       awardLabel    periods  period_award_count\n",
       "1020  Distinguished Service Order  1855-1859                   0\n",
       "1021  Distinguished Service Order  1860-1864                   0\n",
       "1022  Distinguished Service Order  1865-1869                   1\n",
       "1023  Distinguished Service Order  1870-1874                   1\n",
       "1024  Distinguished Service Order  1875-1879                   4\n",
       "1025  Distinguished Service Order  1880-1884                   9\n",
       "1026  Distinguished Service Order  1885-1889                   7\n",
       "1027  Distinguished Service Order  1890-1894                  14\n",
       "1028  Distinguished Service Order  1895-1899                  10\n",
       "1029  Distinguished Service Order  1900-1904                   0"
      ]
     },
     "execution_count": 60,
     "metadata": {},
     "output_type": "execute_result"
    }
   ],
   "source": [
    "df_awardPeriod[df_awardPeriod['awardLabel']=='Distinguished Service Order']"
   ]
  },
  {
   "cell_type": "code",
   "execution_count": 61,
   "metadata": {},
   "outputs": [
    {
     "data": {
      "text/html": [
       "<div>\n",
       "<style scoped>\n",
       "    .dataframe tbody tr th:only-of-type {\n",
       "        vertical-align: middle;\n",
       "    }\n",
       "\n",
       "    .dataframe tbody tr th {\n",
       "        vertical-align: top;\n",
       "    }\n",
       "\n",
       "    .dataframe thead th {\n",
       "        text-align: right;\n",
       "    }\n",
       "</style>\n",
       "<table border=\"1\" class=\"dataframe\">\n",
       "  <thead>\n",
       "    <tr style=\"text-align: right;\">\n",
       "      <th></th>\n",
       "      <th>awardLabel</th>\n",
       "      <th>periods</th>\n",
       "      <th>period_award_count</th>\n",
       "    </tr>\n",
       "  </thead>\n",
       "  <tbody>\n",
       "    <tr>\n",
       "      <th>0</th>\n",
       "      <td></td>\n",
       "      <td>1855-1859</td>\n",
       "      <td>0</td>\n",
       "    </tr>\n",
       "    <tr>\n",
       "      <th>1</th>\n",
       "      <td></td>\n",
       "      <td>1860-1864</td>\n",
       "      <td>1</td>\n",
       "    </tr>\n",
       "    <tr>\n",
       "      <th>2</th>\n",
       "      <td></td>\n",
       "      <td>1865-1869</td>\n",
       "      <td>2</td>\n",
       "    </tr>\n",
       "    <tr>\n",
       "      <th>3</th>\n",
       "      <td></td>\n",
       "      <td>1870-1874</td>\n",
       "      <td>7</td>\n",
       "    </tr>\n",
       "    <tr>\n",
       "      <th>4</th>\n",
       "      <td></td>\n",
       "      <td>1875-1879</td>\n",
       "      <td>7</td>\n",
       "    </tr>\n",
       "    <tr>\n",
       "      <th>...</th>\n",
       "      <td>...</td>\n",
       "      <td>...</td>\n",
       "      <td>...</td>\n",
       "    </tr>\n",
       "    <tr>\n",
       "      <th>5025</th>\n",
       "      <td>star on Hollywood Walk of Fame</td>\n",
       "      <td>1880-1884</td>\n",
       "      <td>0</td>\n",
       "    </tr>\n",
       "    <tr>\n",
       "      <th>5026</th>\n",
       "      <td>star on Hollywood Walk of Fame</td>\n",
       "      <td>1885-1889</td>\n",
       "      <td>0</td>\n",
       "    </tr>\n",
       "    <tr>\n",
       "      <th>5027</th>\n",
       "      <td>star on Hollywood Walk of Fame</td>\n",
       "      <td>1890-1894</td>\n",
       "      <td>2</td>\n",
       "    </tr>\n",
       "    <tr>\n",
       "      <th>5028</th>\n",
       "      <td>star on Hollywood Walk of Fame</td>\n",
       "      <td>1895-1899</td>\n",
       "      <td>1</td>\n",
       "    </tr>\n",
       "    <tr>\n",
       "      <th>5029</th>\n",
       "      <td>star on Hollywood Walk of Fame</td>\n",
       "      <td>1900-1904</td>\n",
       "      <td>0</td>\n",
       "    </tr>\n",
       "  </tbody>\n",
       "</table>\n",
       "<p>5030 rows × 3 columns</p>\n",
       "</div>"
      ],
      "text/plain": [
       "                          awardLabel    periods  period_award_count\n",
       "0                                     1855-1859                   0\n",
       "1                                     1860-1864                   1\n",
       "2                                     1865-1869                   2\n",
       "3                                     1870-1874                   7\n",
       "4                                     1875-1879                   7\n",
       "...                              ...        ...                 ...\n",
       "5025  star on Hollywood Walk of Fame  1880-1884                   0\n",
       "5026  star on Hollywood Walk of Fame  1885-1889                   0\n",
       "5027  star on Hollywood Walk of Fame  1890-1894                   2\n",
       "5028  star on Hollywood Walk of Fame  1895-1899                   1\n",
       "5029  star on Hollywood Walk of Fame  1900-1904                   0\n",
       "\n",
       "[5030 rows x 3 columns]"
      ]
     },
     "execution_count": 61,
     "metadata": {},
     "output_type": "execute_result"
    }
   ],
   "source": [
    "# nous observons des awards sans Label\n",
    "df_awardPeriod[df_awardPeriod['awardLabel'].apply(lambda x: isinstance(x, str))]\n"
   ]
  },
  {
   "cell_type": "code",
   "execution_count": 62,
   "metadata": {},
   "outputs": [],
   "source": [
    "# on nettoie\n",
    "df_prep_cleaned = df_prep[\n",
    "    df_prep['awardLabel'].apply(lambda x: isinstance(x, str) and len(x.strip()) > 0)\n",
    "]"
   ]
  },
  {
   "cell_type": "code",
   "execution_count": 63,
   "metadata": {},
   "outputs": [
    {
     "name": "stderr",
     "output_type": "stream",
     "text": [
      "C:\\Users\\menou\\AppData\\Local\\Temp\\ipykernel_30276\\2256024241.py:12: FutureWarning: The default of observed=False is deprecated and will be changed to True in a future version of pandas. Pass observed=False to retain current behavior or observed=True to adopt the future default and silence this warning.\n",
      "  .groupby(['awardLabel', 'periods'])\n"
     ]
    }
   ],
   "source": [
    "## on se débarrasse également de \"Hollywood et autre\"\n",
    "unwanted_keywords = ['hollywood', 'fame', 'walk', 'television', 'tv', 'film', 'actor', 'singer', 'music']\n",
    "\n",
    "# on garde les rangées où awardLabel ne contient pas les mauvais mots\n",
    "df_prep_cleaned = df_prep_cleaned[\n",
    "    ~df_prep_cleaned['awardLabel'].str.lower().str.contains('|'.join(unwanted_keywords), na=False)\n",
    "]\n",
    "\n",
    "# Regroupement propre\n",
    "df_awardPeriod = (\n",
    "    df_prep_cleaned\n",
    "    .groupby(['awardLabel', 'periods'])\n",
    "    .size()\n",
    "    .reset_index(name='period_award_count')\n",
    ")\n"
   ]
  },
  {
   "cell_type": "markdown",
   "metadata": {},
   "source": [
    "#### Group by period and allegiance\n",
    "\n",
    "We then group by heuristic period (or generation) AND allegiance , i.e. which kind of relationship associates a person to a belligerant in the bipartite network"
   ]
  },
  {
   "cell_type": "code",
   "execution_count": 64,
   "metadata": {},
   "outputs": [
    {
     "name": "stderr",
     "output_type": "stream",
     "text": [
      "C:\\Users\\menou\\AppData\\Local\\Temp\\ipykernel_30276\\2091448667.py:4: FutureWarning: The default of observed=False is deprecated and will be changed to True in a future version of pandas. Pass observed=False to retain current behavior or observed=True to adopt the future default and silence this warning.\n",
      "  .groupby(['awardLabel', 'allegiance_clean', 'periods'])\n"
     ]
    },
    {
     "data": {
      "text/html": [
       "<div>\n",
       "<style scoped>\n",
       "    .dataframe tbody tr th:only-of-type {\n",
       "        vertical-align: middle;\n",
       "    }\n",
       "\n",
       "    .dataframe tbody tr th {\n",
       "        vertical-align: top;\n",
       "    }\n",
       "\n",
       "    .dataframe thead th {\n",
       "        text-align: right;\n",
       "    }\n",
       "</style>\n",
       "<table border=\"1\" class=\"dataframe\">\n",
       "  <thead>\n",
       "    <tr style=\"text-align: right;\">\n",
       "      <th></th>\n",
       "      <th>awardLabel</th>\n",
       "      <th>allegiance_clean</th>\n",
       "      <th>periods</th>\n",
       "      <th>award_count</th>\n",
       "    </tr>\n",
       "  </thead>\n",
       "  <tbody>\n",
       "    <tr>\n",
       "      <th>5707</th>\n",
       "      <td>Croix de guerre 1914–1918</td>\n",
       "      <td>France</td>\n",
       "      <td>1890-1894</td>\n",
       "      <td>49</td>\n",
       "    </tr>\n",
       "    <tr>\n",
       "      <th>21247</th>\n",
       "      <td>Medal of Military Valour</td>\n",
       "      <td>Italy</td>\n",
       "      <td>1890-1894</td>\n",
       "      <td>34</td>\n",
       "    </tr>\n",
       "    <tr>\n",
       "      <th>7778</th>\n",
       "      <td>Distinguished Flying Cross</td>\n",
       "      <td>British Empire</td>\n",
       "      <td>1895-1899</td>\n",
       "      <td>31</td>\n",
       "    </tr>\n",
       "    <tr>\n",
       "      <th>16827</th>\n",
       "      <td>Knight of the Legion of Honour</td>\n",
       "      <td>France</td>\n",
       "      <td>1890-1894</td>\n",
       "      <td>27</td>\n",
       "    </tr>\n",
       "    <tr>\n",
       "      <th>35898</th>\n",
       "      <td>Silver Cross of the Virtuti Militari</td>\n",
       "      <td>Other</td>\n",
       "      <td>1895-1899</td>\n",
       "      <td>26</td>\n",
       "    </tr>\n",
       "  </tbody>\n",
       "</table>\n",
       "</div>"
      ],
      "text/plain": [
       "                                 awardLabel allegiance_clean    periods  \\\n",
       "5707              Croix de guerre 1914–1918           France  1890-1894   \n",
       "21247              Medal of Military Valour            Italy  1890-1894   \n",
       "7778             Distinguished Flying Cross   British Empire  1895-1899   \n",
       "16827        Knight of the Legion of Honour           France  1890-1894   \n",
       "35898  Silver Cross of the Virtuti Militari            Other  1895-1899   \n",
       "\n",
       "       award_count  \n",
       "5707            49  \n",
       "21247           34  \n",
       "7778            31  \n",
       "16827           27  \n",
       "35898           26  "
      ]
     },
     "execution_count": 64,
     "metadata": {},
     "output_type": "execute_result"
    }
   ],
   "source": [
    "# Count how many pilots received each award, grouped by period and allegiance\n",
    "df_awardPeriodBlock = (\n",
    "    df_prep_cleaned\n",
    "    .groupby(['awardLabel', 'allegiance_clean', 'periods'])\n",
    "    .size()\n",
    "    .reset_index(name='award_count')\n",
    ")\n",
    "\n",
    "df_awardPeriodBlock.sort_values(by='award_count', ascending=False).head()\n"
   ]
  },
  {
   "cell_type": "code",
   "execution_count": 65,
   "metadata": {},
   "outputs": [
    {
     "name": "stderr",
     "output_type": "stream",
     "text": [
      "C:\\Users\\menou\\AppData\\Local\\Temp\\ipykernel_30276\\2047049189.py:4: FutureWarning: The default of observed=False is deprecated and will be changed to True in a future version of pandas. Pass observed=False to retain current behavior or observed=True to adopt the future default and silence this warning.\n",
      "  .groupby(['periods', 'allegiance_clean'], as_index=False)\n"
     ]
    },
    {
     "name": "stdout",
     "output_type": "stream",
     "text": [
      "80\n"
     ]
    },
    {
     "data": {
      "text/html": [
       "<div>\n",
       "<style scoped>\n",
       "    .dataframe tbody tr th:only-of-type {\n",
       "        vertical-align: middle;\n",
       "    }\n",
       "\n",
       "    .dataframe tbody tr th {\n",
       "        vertical-align: top;\n",
       "    }\n",
       "\n",
       "    .dataframe thead th {\n",
       "        text-align: right;\n",
       "    }\n",
       "</style>\n",
       "<table border=\"1\" class=\"dataframe\">\n",
       "  <thead>\n",
       "    <tr style=\"text-align: right;\">\n",
       "      <th></th>\n",
       "      <th>periods</th>\n",
       "      <th>allegiance_clean</th>\n",
       "      <th>award_count</th>\n",
       "    </tr>\n",
       "  </thead>\n",
       "  <tbody>\n",
       "    <tr>\n",
       "      <th>0</th>\n",
       "      <td>1855-1859</td>\n",
       "      <td>Austria-Hungary</td>\n",
       "      <td>0</td>\n",
       "    </tr>\n",
       "    <tr>\n",
       "      <th>8</th>\n",
       "      <td>1860-1864</td>\n",
       "      <td>Austria-Hungary</td>\n",
       "      <td>0</td>\n",
       "    </tr>\n",
       "    <tr>\n",
       "      <th>16</th>\n",
       "      <td>1865-1869</td>\n",
       "      <td>Austria-Hungary</td>\n",
       "      <td>0</td>\n",
       "    </tr>\n",
       "    <tr>\n",
       "      <th>24</th>\n",
       "      <td>1870-1874</td>\n",
       "      <td>Austria-Hungary</td>\n",
       "      <td>0</td>\n",
       "    </tr>\n",
       "    <tr>\n",
       "      <th>32</th>\n",
       "      <td>1875-1879</td>\n",
       "      <td>Austria-Hungary</td>\n",
       "      <td>0</td>\n",
       "    </tr>\n",
       "    <tr>\n",
       "      <th>40</th>\n",
       "      <td>1880-1884</td>\n",
       "      <td>Austria-Hungary</td>\n",
       "      <td>0</td>\n",
       "    </tr>\n",
       "    <tr>\n",
       "      <th>48</th>\n",
       "      <td>1885-1889</td>\n",
       "      <td>Austria-Hungary</td>\n",
       "      <td>7</td>\n",
       "    </tr>\n",
       "    <tr>\n",
       "      <th>56</th>\n",
       "      <td>1890-1894</td>\n",
       "      <td>Austria-Hungary</td>\n",
       "      <td>15</td>\n",
       "    </tr>\n",
       "    <tr>\n",
       "      <th>64</th>\n",
       "      <td>1895-1899</td>\n",
       "      <td>Austria-Hungary</td>\n",
       "      <td>3</td>\n",
       "    </tr>\n",
       "    <tr>\n",
       "      <th>72</th>\n",
       "      <td>1900-1904</td>\n",
       "      <td>Austria-Hungary</td>\n",
       "      <td>0</td>\n",
       "    </tr>\n",
       "  </tbody>\n",
       "</table>\n",
       "</div>"
      ],
      "text/plain": [
       "      periods allegiance_clean  award_count\n",
       "0   1855-1859  Austria-Hungary            0\n",
       "8   1860-1864  Austria-Hungary            0\n",
       "16  1865-1869  Austria-Hungary            0\n",
       "24  1870-1874  Austria-Hungary            0\n",
       "32  1875-1879  Austria-Hungary            0\n",
       "40  1880-1884  Austria-Hungary            0\n",
       "48  1885-1889  Austria-Hungary            7\n",
       "56  1890-1894  Austria-Hungary           15\n",
       "64  1895-1899  Austria-Hungary            3\n",
       "72  1900-1904  Austria-Hungary            0"
      ]
     },
     "execution_count": 65,
     "metadata": {},
     "output_type": "execute_result"
    }
   ],
   "source": [
    "# Grouping: how many awards per allegiance and period\n",
    "dfgt = (\n",
    "    df_awardPeriodBlock\n",
    "    .groupby(['periods', 'allegiance_clean'], as_index=False)\n",
    "    [['award_count']].sum()\n",
    "    .sort_values(['allegiance_clean', 'periods'])\n",
    ")\n",
    "\n",
    "file_addr = r\"C:\\UniNe\\Master année 1\\semestre 2\\Les-as-de-la-Grande-Guerre-\\data\\awards_blocks_periods_distribution.csv\"\n",
    "dfgt.to_csv(file_addr, index=False)\n",
    "\n",
    "# Show result\n",
    "print(len(dfgt))\n",
    "dfgt.head(10)\n"
   ]
  },
  {
   "cell_type": "code",
   "execution_count": 66,
   "metadata": {},
   "outputs": [
    {
     "name": "stdout",
     "output_type": "stream",
     "text": [
      "3968\n"
     ]
    },
    {
     "data": {
      "text/html": [
       "<div>\n",
       "<style scoped>\n",
       "    .dataframe tbody tr th:only-of-type {\n",
       "        vertical-align: middle;\n",
       "    }\n",
       "\n",
       "    .dataframe tbody tr th {\n",
       "        vertical-align: top;\n",
       "    }\n",
       "\n",
       "    .dataframe thead th {\n",
       "        text-align: right;\n",
       "    }\n",
       "</style>\n",
       "<table border=\"1\" class=\"dataframe\">\n",
       "  <thead>\n",
       "    <tr style=\"text-align: right;\">\n",
       "      <th></th>\n",
       "      <th>awardLabel</th>\n",
       "      <th>allegiance_clean</th>\n",
       "      <th>award_count</th>\n",
       "    </tr>\n",
       "  </thead>\n",
       "  <tbody>\n",
       "    <tr>\n",
       "      <th>0</th>\n",
       "      <td>1914–15 Star</td>\n",
       "      <td>Austria-Hungary</td>\n",
       "      <td>0</td>\n",
       "    </tr>\n",
       "    <tr>\n",
       "      <th>1</th>\n",
       "      <td>1914–15 Star</td>\n",
       "      <td>British Empire</td>\n",
       "      <td>2</td>\n",
       "    </tr>\n",
       "    <tr>\n",
       "      <th>2</th>\n",
       "      <td>1914–15 Star</td>\n",
       "      <td>France</td>\n",
       "      <td>0</td>\n",
       "    </tr>\n",
       "    <tr>\n",
       "      <th>3</th>\n",
       "      <td>1914–15 Star</td>\n",
       "      <td>Germany</td>\n",
       "      <td>0</td>\n",
       "    </tr>\n",
       "    <tr>\n",
       "      <th>4</th>\n",
       "      <td>1914–15 Star</td>\n",
       "      <td>Italy</td>\n",
       "      <td>0</td>\n",
       "    </tr>\n",
       "  </tbody>\n",
       "</table>\n",
       "</div>"
      ],
      "text/plain": [
       "     awardLabel allegiance_clean  award_count\n",
       "0  1914–15 Star  Austria-Hungary            0\n",
       "1  1914–15 Star   British Empire            2\n",
       "2  1914–15 Star           France            0\n",
       "3  1914–15 Star          Germany            0\n",
       "4  1914–15 Star            Italy            0"
      ]
     },
     "execution_count": 66,
     "metadata": {},
     "output_type": "execute_result"
    }
   ],
   "source": [
    "### Number of pilots per award and allegiance, without periods\n",
    "dfgw = (\n",
    "    df_awardPeriodBlock\n",
    "    .groupby(['awardLabel', 'allegiance_clean'], as_index=False)\n",
    "    [['award_count']].sum()\n",
    "    .sort_values(['awardLabel', 'allegiance_clean'])\n",
    ")\n",
    "print(len(dfgw))\n",
    "dfgw.head()\n"
   ]
  },
  {
   "cell_type": "markdown",
   "metadata": {},
   "source": [
    "## Bivariate analysis: award vs. allegiance"
   ]
  },
  {
   "cell_type": "markdown",
   "metadata": {},
   "source": [
    "### Create the needed functions"
   ]
  },
  {
   "cell_type": "code",
   "execution_count": 67,
   "metadata": {},
   "outputs": [],
   "source": [
    "### ct_m : contingency table without totals in margins\n",
    "def bivariee_stats(ct_wm):\n",
    "    \n",
    "    \n",
    "    n = ct_wm.sum().sum()\n",
    "\n",
    "    ### Valeurs produites par la fonction de la librairie 'stats'\n",
    "    statistic, p, dof, expected = stats.chi2_contingency(ct_wm)\n",
    "\n",
    "    print('Chi2 :', statistic.round(2), ', dof :',dof)\n",
    "    print('p-value :', p)\n",
    "\n",
    "    \n",
    "\n",
    "    print('phi2 = inertie (variance totale) :', statistic/n)\n",
    "\n",
    "\n",
    "    ### Tableau à l'indépendance\n",
    "    dfe = round(pd.DataFrame(expected),4)\n",
    "\n",
    "    ### Coéfficient de Cramer\n",
    "    # https://docs.scipy.org/doc/scipy/reference/generated/scipy.stats.contingency.association.html\n",
    "\n",
    "    vc = stats.contingency.association(ct_wm, method='cramer')\n",
    "    print('Cramer: ', vc)\n",
    "\n",
    "    return None\n",
    "\n",
    "\n",
    "\n"
   ]
  },
  {
   "cell_type": "code",
   "execution_count": 68,
   "metadata": {},
   "outputs": [],
   "source": [
    "### ct_m : contingency tables with totals in margins\n",
    "def plot_chi2_residuals(ct_wm, figsize=(9,3)):\n",
    "    \n",
    "    D = ct_wm\n",
    "\n",
    "    \n",
    "    ### Valeurs produites par la fonction de la librairie 'stats'\n",
    "    statistic, p, dof, expected = stats.chi2_contingency(D)\n",
    "\n",
    "    ### Situation à l'indépendance\n",
    "    indep = pd.DataFrame(expected)\n",
    "    indep.columns = D.columns\n",
    "    indep.index = D.index\n",
    "\n",
    "    ### Résidus pondérés (avec le signe)\n",
    "    ### Doc. :\n",
    "    #   Rakotomalala, p.240\n",
    "    residus_ponderes = (round((D-indep)/np.sqrt(indep),2))\n",
    "    ### Résidus pondérés\n",
    "    tableau = residus_ponderes\n",
    "   \n",
    "\n",
    "    fig, ax = plt.subplots(figsize=figsize)         \n",
    "    # Sample figsize in inches\n",
    "    g = sns.heatmap(tableau, annot=tableau, cmap=\"coolwarm\", linewidths=.5, ax=ax)\n",
    "    xlabels = tableau.columns\n",
    "    px = g.set_xticklabels(xlabels, rotation=60, size=8, \n",
    "                           ha='right', rotation_mode='anchor')\n",
    "    ylabels = tableau.index\n",
    "    py = g.set_yticklabels(ylabels, rotation=20, size=8)\n",
    "    \n",
    "    plt.show()\n",
    "\n",
    "    return residus_ponderes"
   ]
  },
  {
   "cell_type": "markdown",
   "metadata": {},
   "source": [
    "### Explore contingency table : types of relationships"
   ]
  },
  {
   "cell_type": "code",
   "execution_count": 69,
   "metadata": {},
   "outputs": [],
   "source": [
    "\n",
    "\n",
    "### Contingency table\n",
    "X = 'awardLabel'\n",
    "Y = 'periods'\n",
    "\n",
    "# comme nous avons trop de awards, on prend les 10 plus fréquents\n",
    "top_awards = df_prep_cleaned['awardLabel'].value_counts().head(10).index\n",
    "df_subset = df_prep_cleaned[df_prep_cleaned['awardLabel'].isin(top_awards)]\n",
    "\n",
    "  \n",
    "\n",
    "ddf = df_subset[[X, Y]].pivot_table(\n",
    "    index=Y,\n",
    "    columns=X,\n",
    "    observed=True,\n",
    "    aggfunc=len,\n",
    "    margins=True,\n",
    "    margins_name=\"Total\"\n",
    ").fillna(0).astype(int)\n",
    "\n",
    "\n",
    "\n",
    "\n"
   ]
  },
  {
   "cell_type": "code",
   "execution_count": 70,
   "metadata": {},
   "outputs": [
    {
     "data": {
      "text/html": [
       "<div>\n",
       "<style scoped>\n",
       "    .dataframe tbody tr th:only-of-type {\n",
       "        vertical-align: middle;\n",
       "    }\n",
       "\n",
       "    .dataframe tbody tr th {\n",
       "        vertical-align: top;\n",
       "    }\n",
       "\n",
       "    .dataframe thead th {\n",
       "        text-align: right;\n",
       "    }\n",
       "</style>\n",
       "<table border=\"1\" class=\"dataframe\">\n",
       "  <thead>\n",
       "    <tr style=\"text-align: right;\">\n",
       "      <th>awardLabel</th>\n",
       "      <th>Commander of the Legion of Honour</th>\n",
       "      <th>Croix de guerre 1914–1918</th>\n",
       "      <th>Distinguished Flying Cross</th>\n",
       "      <th>Distinguished Service Order</th>\n",
       "      <th>Knight of the Legion of Honour</th>\n",
       "      <th>Medal of Military Valour</th>\n",
       "      <th>Military Cross</th>\n",
       "      <th>Médaille militaire</th>\n",
       "      <th>Officer of the Legion of Honour</th>\n",
       "      <th>Silver Cross of the Virtuti Militari</th>\n",
       "    </tr>\n",
       "    <tr>\n",
       "      <th>periods</th>\n",
       "      <th></th>\n",
       "      <th></th>\n",
       "      <th></th>\n",
       "      <th></th>\n",
       "      <th></th>\n",
       "      <th></th>\n",
       "      <th></th>\n",
       "      <th></th>\n",
       "      <th></th>\n",
       "      <th></th>\n",
       "    </tr>\n",
       "  </thead>\n",
       "  <tbody>\n",
       "    <tr>\n",
       "      <th>1860-1864</th>\n",
       "      <td>0</td>\n",
       "      <td>1</td>\n",
       "      <td>0</td>\n",
       "      <td>0</td>\n",
       "      <td>0</td>\n",
       "      <td>1</td>\n",
       "      <td>0</td>\n",
       "      <td>0</td>\n",
       "      <td>0</td>\n",
       "      <td>0</td>\n",
       "    </tr>\n",
       "    <tr>\n",
       "      <th>1865-1869</th>\n",
       "      <td>0</td>\n",
       "      <td>1</td>\n",
       "      <td>0</td>\n",
       "      <td>1</td>\n",
       "      <td>2</td>\n",
       "      <td>0</td>\n",
       "      <td>0</td>\n",
       "      <td>0</td>\n",
       "      <td>1</td>\n",
       "      <td>0</td>\n",
       "    </tr>\n",
       "    <tr>\n",
       "      <th>1870-1874</th>\n",
       "      <td>1</td>\n",
       "      <td>1</td>\n",
       "      <td>0</td>\n",
       "      <td>1</td>\n",
       "      <td>2</td>\n",
       "      <td>1</td>\n",
       "      <td>0</td>\n",
       "      <td>0</td>\n",
       "      <td>0</td>\n",
       "      <td>0</td>\n",
       "    </tr>\n",
       "    <tr>\n",
       "      <th>1875-1879</th>\n",
       "      <td>2</td>\n",
       "      <td>6</td>\n",
       "      <td>1</td>\n",
       "      <td>4</td>\n",
       "      <td>4</td>\n",
       "      <td>1</td>\n",
       "      <td>1</td>\n",
       "      <td>2</td>\n",
       "      <td>6</td>\n",
       "      <td>0</td>\n",
       "    </tr>\n",
       "    <tr>\n",
       "      <th>1880-1884</th>\n",
       "      <td>4</td>\n",
       "      <td>16</td>\n",
       "      <td>2</td>\n",
       "      <td>9</td>\n",
       "      <td>12</td>\n",
       "      <td>3</td>\n",
       "      <td>5</td>\n",
       "      <td>6</td>\n",
       "      <td>5</td>\n",
       "      <td>0</td>\n",
       "    </tr>\n",
       "    <tr>\n",
       "      <th>1885-1889</th>\n",
       "      <td>3</td>\n",
       "      <td>29</td>\n",
       "      <td>7</td>\n",
       "      <td>7</td>\n",
       "      <td>28</td>\n",
       "      <td>9</td>\n",
       "      <td>5</td>\n",
       "      <td>7</td>\n",
       "      <td>7</td>\n",
       "      <td>2</td>\n",
       "    </tr>\n",
       "    <tr>\n",
       "      <th>1890-1894</th>\n",
       "      <td>15</td>\n",
       "      <td>55</td>\n",
       "      <td>26</td>\n",
       "      <td>14</td>\n",
       "      <td>32</td>\n",
       "      <td>35</td>\n",
       "      <td>18</td>\n",
       "      <td>22</td>\n",
       "      <td>17</td>\n",
       "      <td>17</td>\n",
       "    </tr>\n",
       "    <tr>\n",
       "      <th>1895-1899</th>\n",
       "      <td>15</td>\n",
       "      <td>20</td>\n",
       "      <td>38</td>\n",
       "      <td>10</td>\n",
       "      <td>20</td>\n",
       "      <td>22</td>\n",
       "      <td>24</td>\n",
       "      <td>11</td>\n",
       "      <td>10</td>\n",
       "      <td>33</td>\n",
       "    </tr>\n",
       "    <tr>\n",
       "      <th>1900-1904</th>\n",
       "      <td>0</td>\n",
       "      <td>0</td>\n",
       "      <td>1</td>\n",
       "      <td>0</td>\n",
       "      <td>1</td>\n",
       "      <td>2</td>\n",
       "      <td>0</td>\n",
       "      <td>0</td>\n",
       "      <td>0</td>\n",
       "      <td>2</td>\n",
       "    </tr>\n",
       "  </tbody>\n",
       "</table>\n",
       "</div>"
      ],
      "text/plain": [
       "awardLabel  Commander of the Legion of Honour  Croix de guerre 1914–1918  \\\n",
       "periods                                                                    \n",
       "1860-1864                                   0                          1   \n",
       "1865-1869                                   0                          1   \n",
       "1870-1874                                   1                          1   \n",
       "1875-1879                                   2                          6   \n",
       "1880-1884                                   4                         16   \n",
       "1885-1889                                   3                         29   \n",
       "1890-1894                                  15                         55   \n",
       "1895-1899                                  15                         20   \n",
       "1900-1904                                   0                          0   \n",
       "\n",
       "awardLabel  Distinguished Flying Cross  Distinguished Service Order  \\\n",
       "periods                                                               \n",
       "1860-1864                            0                            0   \n",
       "1865-1869                            0                            1   \n",
       "1870-1874                            0                            1   \n",
       "1875-1879                            1                            4   \n",
       "1880-1884                            2                            9   \n",
       "1885-1889                            7                            7   \n",
       "1890-1894                           26                           14   \n",
       "1895-1899                           38                           10   \n",
       "1900-1904                            1                            0   \n",
       "\n",
       "awardLabel  Knight of the Legion of Honour  Medal of Military Valour  \\\n",
       "periods                                                                \n",
       "1860-1864                                0                         1   \n",
       "1865-1869                                2                         0   \n",
       "1870-1874                                2                         1   \n",
       "1875-1879                                4                         1   \n",
       "1880-1884                               12                         3   \n",
       "1885-1889                               28                         9   \n",
       "1890-1894                               32                        35   \n",
       "1895-1899                               20                        22   \n",
       "1900-1904                                1                         2   \n",
       "\n",
       "awardLabel  Military Cross  Médaille militaire  \\\n",
       "periods                                          \n",
       "1860-1864                0                   0   \n",
       "1865-1869                0                   0   \n",
       "1870-1874                0                   0   \n",
       "1875-1879                1                   2   \n",
       "1880-1884                5                   6   \n",
       "1885-1889                5                   7   \n",
       "1890-1894               18                  22   \n",
       "1895-1899               24                  11   \n",
       "1900-1904                0                   0   \n",
       "\n",
       "awardLabel  Officer of the Legion of Honour  \\\n",
       "periods                                       \n",
       "1860-1864                                 0   \n",
       "1865-1869                                 1   \n",
       "1870-1874                                 0   \n",
       "1875-1879                                 6   \n",
       "1880-1884                                 5   \n",
       "1885-1889                                 7   \n",
       "1890-1894                                17   \n",
       "1895-1899                                10   \n",
       "1900-1904                                 0   \n",
       "\n",
       "awardLabel  Silver Cross of the Virtuti Militari  \n",
       "periods                                           \n",
       "1860-1864                                      0  \n",
       "1865-1869                                      0  \n",
       "1870-1874                                      0  \n",
       "1875-1879                                      0  \n",
       "1880-1884                                      0  \n",
       "1885-1889                                      2  \n",
       "1890-1894                                     17  \n",
       "1895-1899                                     33  \n",
       "1900-1904                                      2  "
      ]
     },
     "execution_count": 70,
     "metadata": {},
     "output_type": "execute_result"
    }
   ],
   "source": [
    "ct_wm = ddf.iloc[:-1,:-1].copy(deep=True)\n",
    "ct_wm"
   ]
  },
  {
   "cell_type": "code",
   "execution_count": 71,
   "metadata": {},
   "outputs": [
    {
     "name": "stdout",
     "output_type": "stream",
     "text": [
      "Chi2 : 142.34 , dof : 72\n",
      "p-value : 1.5513023984614018e-06\n",
      "phi2 = inertie (variance totale) : 0.2137268540565366\n",
      "Cramer:  0.1634498600705032\n"
     ]
    }
   ],
   "source": [
    "### We observe a strong relationship between these two variables.\n",
    "# la p-value est petite: relation statistique forte entre awards et periods\n",
    "# Cramer démontre néanmoins association modeste\n",
    "\n",
    "bivariee_stats(ct_wm)"
   ]
  },
  {
   "cell_type": "code",
   "execution_count": 72,
   "metadata": {},
   "outputs": [
    {
     "data": {
      "image/png": "[encoded data removed]",
      "text/plain": [
       "<Figure size 500x800 with 2 Axes>"
      ]
     },
     "metadata": {},
     "output_type": "display_data"
    }
   ],
   "source": [
    "pp = plot_chi2_residuals(ct_wm, figsize=(5, 8))"
   ]
  },
  {
   "cell_type": "markdown",
   "metadata": {},
   "source": [
    "#### Comment\n",
    "\n",
    "On observe une relation significative entre les deux variables (période de naissance et type de décoration) ce qui s'explique notamment par le fait que les décorations militaires ne sont pas toutes attribuées aux mêmes périodes, ni dans les mêmes contextes historiques.\n"
   ]
  },
  {
   "cell_type": "markdown",
   "metadata": {},
   "source": [
    "### On améliore les axes de la table et de la heat map"
   ]
  },
  {
   "cell_type": "code",
   "execution_count": 73,
   "metadata": {},
   "outputs": [
    {
     "name": "stderr",
     "output_type": "stream",
     "text": [
      "C:\\Users\\menou\\AppData\\Local\\Temp\\ipykernel_30276\\1184542323.py:8: FutureWarning: The default value of observed=False is deprecated and will change to observed=True in a future version of pandas. Specify observed=False to silence this warning and retain the current behavior\n",
      "  ddf = df_subset[[Y, X]].pivot_table(\n"
     ]
    },
    {
     "data": {
      "text/html": [
       "<div>\n",
       "<style scoped>\n",
       "    .dataframe tbody tr th:only-of-type {\n",
       "        vertical-align: middle;\n",
       "    }\n",
       "\n",
       "    .dataframe tbody tr th {\n",
       "        vertical-align: top;\n",
       "    }\n",
       "\n",
       "    .dataframe thead th {\n",
       "        text-align: right;\n",
       "    }\n",
       "</style>\n",
       "<table border=\"1\" class=\"dataframe\">\n",
       "  <thead>\n",
       "    <tr style=\"text-align: right;\">\n",
       "      <th>periods</th>\n",
       "      <th>1860-1864</th>\n",
       "      <th>1865-1869</th>\n",
       "      <th>1870-1874</th>\n",
       "      <th>1875-1879</th>\n",
       "      <th>1880-1884</th>\n",
       "      <th>1885-1889</th>\n",
       "      <th>1890-1894</th>\n",
       "      <th>1895-1899</th>\n",
       "      <th>1900-1904</th>\n",
       "    </tr>\n",
       "    <tr>\n",
       "      <th>awardLabel</th>\n",
       "      <th></th>\n",
       "      <th></th>\n",
       "      <th></th>\n",
       "      <th></th>\n",
       "      <th></th>\n",
       "      <th></th>\n",
       "      <th></th>\n",
       "      <th></th>\n",
       "      <th></th>\n",
       "    </tr>\n",
       "  </thead>\n",
       "  <tbody>\n",
       "    <tr>\n",
       "      <th>Commander of the Legion of Honour</th>\n",
       "      <td>0</td>\n",
       "      <td>0</td>\n",
       "      <td>1</td>\n",
       "      <td>2</td>\n",
       "      <td>4</td>\n",
       "      <td>3</td>\n",
       "      <td>15</td>\n",
       "      <td>15</td>\n",
       "      <td>0</td>\n",
       "    </tr>\n",
       "    <tr>\n",
       "      <th>Croix de guerre 1914–1918</th>\n",
       "      <td>1</td>\n",
       "      <td>1</td>\n",
       "      <td>1</td>\n",
       "      <td>6</td>\n",
       "      <td>16</td>\n",
       "      <td>29</td>\n",
       "      <td>55</td>\n",
       "      <td>20</td>\n",
       "      <td>0</td>\n",
       "    </tr>\n",
       "    <tr>\n",
       "      <th>Distinguished Flying Cross</th>\n",
       "      <td>0</td>\n",
       "      <td>0</td>\n",
       "      <td>0</td>\n",
       "      <td>1</td>\n",
       "      <td>2</td>\n",
       "      <td>7</td>\n",
       "      <td>26</td>\n",
       "      <td>38</td>\n",
       "      <td>1</td>\n",
       "    </tr>\n",
       "    <tr>\n",
       "      <th>Distinguished Service Order</th>\n",
       "      <td>0</td>\n",
       "      <td>1</td>\n",
       "      <td>1</td>\n",
       "      <td>4</td>\n",
       "      <td>9</td>\n",
       "      <td>7</td>\n",
       "      <td>14</td>\n",
       "      <td>10</td>\n",
       "      <td>0</td>\n",
       "    </tr>\n",
       "    <tr>\n",
       "      <th>Knight of the Legion of Honour</th>\n",
       "      <td>0</td>\n",
       "      <td>2</td>\n",
       "      <td>2</td>\n",
       "      <td>4</td>\n",
       "      <td>12</td>\n",
       "      <td>28</td>\n",
       "      <td>32</td>\n",
       "      <td>20</td>\n",
       "      <td>1</td>\n",
       "    </tr>\n",
       "  </tbody>\n",
       "</table>\n",
       "</div>"
      ],
      "text/plain": [
       "periods                            1860-1864  1865-1869  1870-1874  1875-1879  \\\n",
       "awardLabel                                                                      \n",
       "Commander of the Legion of Honour          0          0          1          2   \n",
       "Croix de guerre 1914–1918                  1          1          1          6   \n",
       "Distinguished Flying Cross                 0          0          0          1   \n",
       "Distinguished Service Order                0          1          1          4   \n",
       "Knight of the Legion of Honour             0          2          2          4   \n",
       "\n",
       "periods                            1880-1884  1885-1889  1890-1894  1895-1899  \\\n",
       "awardLabel                                                                      \n",
       "Commander of the Legion of Honour          4          3         15         15   \n",
       "Croix de guerre 1914–1918                 16         29         55         20   \n",
       "Distinguished Flying Cross                 2          7         26         38   \n",
       "Distinguished Service Order                9          7         14         10   \n",
       "Knight of the Legion of Honour            12         28         32         20   \n",
       "\n",
       "periods                            1900-1904  \n",
       "awardLabel                                    \n",
       "Commander of the Legion of Honour          0  \n",
       "Croix de guerre 1914–1918                  0  \n",
       "Distinguished Flying Cross                 1  \n",
       "Distinguished Service Order                0  \n",
       "Knight of the Legion of Honour             1  "
      ]
     },
     "execution_count": 73,
     "metadata": {},
     "output_type": "execute_result"
    }
   ],
   "source": [
    "top_awards = df_prep_cleaned['awardLabel'].value_counts().head(10).index\n",
    "\n",
    "df_subset = df_prep_cleaned[df_prep_cleaned['awardLabel'].isin(top_awards)]\n",
    "\n",
    "X = 'periods'        \n",
    "Y = 'awardLabel'       \n",
    "\n",
    "ddf = df_subset[[Y, X]].pivot_table(\n",
    "    index=Y,\n",
    "    columns=X,\n",
    "    aggfunc=len,\n",
    "    margins=True,\n",
    "    margins_name=\"Total\"\n",
    ").fillna(0).astype(int)\n",
    "\n",
    "ct_wm = ddf.iloc[:-1, :-1].copy(deep=True)  \n",
    "\n",
    "ct_wm.head() \n"
   ]
  },
  {
   "cell_type": "code",
   "execution_count": 74,
   "metadata": {},
   "outputs": [
    {
     "name": "stdout",
     "output_type": "stream",
     "text": [
      "Chi2 : 142.34 , dof : 72\n",
      "p-value : 1.5513023984614018e-06\n",
      "phi2 = inertie (variance totale) : 0.2137268540565366\n",
      "Cramer:  0.1634498600705032\n"
     ]
    }
   ],
   "source": [
    "### We observe some not so strong relationship between these two variables\n",
    "bivariee_stats(ct_wm)"
   ]
  },
  {
   "cell_type": "code",
   "execution_count": 75,
   "metadata": {},
   "outputs": [
    {
     "data": {
      "image/png": "[encoded data removed]",
      "text/plain": [
       "<Figure size 800x800 with 2 Axes>"
      ]
     },
     "metadata": {},
     "output_type": "display_data"
    }
   ],
   "source": [
    "pp = plot_chi2_residuals(ct_wm, figsize=(8, 8))"
   ]
  },
  {
   "cell_type": "markdown",
   "metadata": {},
   "source": [
    "## Prepare graph\n",
    "\n",
    "\n",
    "Dans une perspective heuristique, nous considérons les pilotes comme des vecteurs de connexions entre les décorations militaires.\n",
    "\n",
    "Bien entendu, ces connexions sont déterminées par des facteurs temporels (comme les périodes de naissance) et contextuels (tels que l’allégeance ou les phases du conflit), et chaque décoration peut avoir une signification différente. Mais dans cette première exploration générale du champ, nous prenons en compte l’ensemble des décorations attribuées. Des filtres plus spécifiques (par exemple selon l’allégeance ou le type de distinction) pourraient être introduits par la suite.\n",
    "\n",
    "Nous allons réaliser une projection du graphe sur les décorations, en conservant à ce stade l’ensemble des liens entre pilotes et récompenses, avec une arête par décoration reçue. Les éléments de jonction dans cette projection sont ceux qui concernent un même pilote."
   ]
  },
  {
   "cell_type": "code",
   "execution_count": 76,
   "metadata": {},
   "outputs": [
    {
     "name": "stdout",
     "output_type": "stream",
     "text": [
      "14807\n"
     ]
    }
   ],
   "source": [
    "### Join on common organisation: Cartesian product -> produces a lot of rows !\n",
    "merged = pd.merge(\n",
    "    df_awards,\n",
    "    df_awards,\n",
    "    on=['aceUri', 'aceLabel', 'birthYear', 'periods', 'allegiance_clean']\n",
    ")\n",
    "\n",
    "print(len(merged))\n"
   ]
  },
  {
   "cell_type": "code",
   "execution_count": 77,
   "metadata": {},
   "outputs": [],
   "source": [
    "### Eliminate double rows :relationship A-B but relationship B-A\n",
    "# on garde une seule orientation\n",
    "merged = merged[merged['awardLabel_x'] < merged['awardLabel_y']]\n"
   ]
  },
  {
   "cell_type": "code",
   "execution_count": 78,
   "metadata": {},
   "outputs": [],
   "source": [
    "df_awards_unique = df_awards.drop_duplicates(['aceUri','awardLabel'])\n"
   ]
  },
  {
   "cell_type": "code",
   "execution_count": 79,
   "metadata": {},
   "outputs": [
    {
     "name": "stdout",
     "output_type": "stream",
     "text": [
      "6210\n",
      "['aceUri', 'aceLabel', 'allegianceUri_x', 'allegianceLabel_x', 'awardUri_x', 'awardLabel_x', 'birthYear', 'allegiance_clean', 'periods', 'allegianceUri_y', 'allegianceLabel_y', 'awardUri_y', 'awardLabel_y']\n"
     ]
    },
    {
     "data": {
      "text/html": [
       "<div>\n",
       "<style scoped>\n",
       "    .dataframe tbody tr th:only-of-type {\n",
       "        vertical-align: middle;\n",
       "    }\n",
       "\n",
       "    .dataframe tbody tr th {\n",
       "        vertical-align: top;\n",
       "    }\n",
       "\n",
       "    .dataframe thead th {\n",
       "        text-align: right;\n",
       "    }\n",
       "</style>\n",
       "<table border=\"1\" class=\"dataframe\">\n",
       "  <thead>\n",
       "    <tr style=\"text-align: right;\">\n",
       "      <th></th>\n",
       "      <th>aceUri</th>\n",
       "      <th>aceLabel</th>\n",
       "      <th>allegianceUri_x</th>\n",
       "      <th>allegianceLabel_x</th>\n",
       "      <th>awardUri_x</th>\n",
       "      <th>awardLabel_x</th>\n",
       "      <th>birthYear</th>\n",
       "      <th>allegiance_clean</th>\n",
       "      <th>periods</th>\n",
       "      <th>allegianceUri_y</th>\n",
       "      <th>allegianceLabel_y</th>\n",
       "      <th>awardUri_y</th>\n",
       "      <th>awardLabel_y</th>\n",
       "    </tr>\n",
       "  </thead>\n",
       "  <tbody>\n",
       "    <tr>\n",
       "      <th>289</th>\n",
       "      <td>http://www.wikidata.org/entity/Q336065</td>\n",
       "      <td>Hugh Trenchard, 1st Viscount Trenchard</td>\n",
       "      <td>http://www.wikidata.org/entity/Q145</td>\n",
       "      <td>United Kingdom</td>\n",
       "      <td>http://www.wikidata.org/entity/Q14900499</td>\n",
       "      <td>Commander of the Order of Leopold</td>\n",
       "      <td>1873</td>\n",
       "      <td>British Empire</td>\n",
       "      <td>1870-1874</td>\n",
       "      <td>http://www.wikidata.org/entity/Q145</td>\n",
       "      <td>United Kingdom</td>\n",
       "      <td>http://www.wikidata.org/entity/Q14865220</td>\n",
       "      <td>commander of the Order of the Crown of Italy</td>\n",
       "    </tr>\n",
       "    <tr>\n",
       "      <th>290</th>\n",
       "      <td>http://www.wikidata.org/entity/Q336065</td>\n",
       "      <td>Hugh Trenchard, 1st Viscount Trenchard</td>\n",
       "      <td>http://www.wikidata.org/entity/Q145</td>\n",
       "      <td>United Kingdom</td>\n",
       "      <td>http://www.wikidata.org/entity/Q14900499</td>\n",
       "      <td>Commander of the Order of Leopold</td>\n",
       "      <td>1873</td>\n",
       "      <td>British Empire</td>\n",
       "      <td>1870-1874</td>\n",
       "      <td>http://www.wikidata.org/entity/Q145</td>\n",
       "      <td>United Kingdom</td>\n",
       "      <td>http://www.wikidata.org/entity/Q12192290</td>\n",
       "      <td>Knight Grand Cross of the Royal Victorian Order</td>\n",
       "    </tr>\n",
       "    <tr>\n",
       "      <th>291</th>\n",
       "      <td>http://www.wikidata.org/entity/Q336065</td>\n",
       "      <td>Hugh Trenchard, 1st Viscount Trenchard</td>\n",
       "      <td>http://www.wikidata.org/entity/Q145</td>\n",
       "      <td>United Kingdom</td>\n",
       "      <td>http://www.wikidata.org/entity/Q14900499</td>\n",
       "      <td>Commander of the Order of Leopold</td>\n",
       "      <td>1873</td>\n",
       "      <td>British Empire</td>\n",
       "      <td>1870-1874</td>\n",
       "      <td>http://www.wikidata.org/entity/Q145</td>\n",
       "      <td>United Kingdom</td>\n",
       "      <td>http://www.wikidata.org/entity/Q12177451</td>\n",
       "      <td>Knight Grand Cross of the Order of the Bath</td>\n",
       "    </tr>\n",
       "    <tr>\n",
       "      <th>293</th>\n",
       "      <td>http://www.wikidata.org/entity/Q336065</td>\n",
       "      <td>Hugh Trenchard, 1st Viscount Trenchard</td>\n",
       "      <td>http://www.wikidata.org/entity/Q145</td>\n",
       "      <td>United Kingdom</td>\n",
       "      <td>http://www.wikidata.org/entity/Q14900499</td>\n",
       "      <td>Commander of the Order of Leopold</td>\n",
       "      <td>1873</td>\n",
       "      <td>British Empire</td>\n",
       "      <td>1870-1874</td>\n",
       "      <td>http://www.wikidata.org/entity/Q145</td>\n",
       "      <td>United Kingdom</td>\n",
       "      <td>http://www.wikidata.org/entity/Q1774648</td>\n",
       "      <td>Distinguished Service Medal</td>\n",
       "    </tr>\n",
       "  </tbody>\n",
       "</table>\n",
       "</div>"
      ],
      "text/plain": [
       "                                     aceUri  \\\n",
       "289  http://www.wikidata.org/entity/Q336065   \n",
       "290  http://www.wikidata.org/entity/Q336065   \n",
       "291  http://www.wikidata.org/entity/Q336065   \n",
       "293  http://www.wikidata.org/entity/Q336065   \n",
       "\n",
       "                                   aceLabel  \\\n",
       "289  Hugh Trenchard, 1st Viscount Trenchard   \n",
       "290  Hugh Trenchard, 1st Viscount Trenchard   \n",
       "291  Hugh Trenchard, 1st Viscount Trenchard   \n",
       "293  Hugh Trenchard, 1st Viscount Trenchard   \n",
       "\n",
       "                         allegianceUri_x allegianceLabel_x  \\\n",
       "289  http://www.wikidata.org/entity/Q145    United Kingdom   \n",
       "290  http://www.wikidata.org/entity/Q145    United Kingdom   \n",
       "291  http://www.wikidata.org/entity/Q145    United Kingdom   \n",
       "293  http://www.wikidata.org/entity/Q145    United Kingdom   \n",
       "\n",
       "                                   awardUri_x  \\\n",
       "289  http://www.wikidata.org/entity/Q14900499   \n",
       "290  http://www.wikidata.org/entity/Q14900499   \n",
       "291  http://www.wikidata.org/entity/Q14900499   \n",
       "293  http://www.wikidata.org/entity/Q14900499   \n",
       "\n",
       "                          awardLabel_x  birthYear allegiance_clean    periods  \\\n",
       "289  Commander of the Order of Leopold       1873   British Empire  1870-1874   \n",
       "290  Commander of the Order of Leopold       1873   British Empire  1870-1874   \n",
       "291  Commander of the Order of Leopold       1873   British Empire  1870-1874   \n",
       "293  Commander of the Order of Leopold       1873   British Empire  1870-1874   \n",
       "\n",
       "                         allegianceUri_y allegianceLabel_y  \\\n",
       "289  http://www.wikidata.org/entity/Q145    United Kingdom   \n",
       "290  http://www.wikidata.org/entity/Q145    United Kingdom   \n",
       "291  http://www.wikidata.org/entity/Q145    United Kingdom   \n",
       "293  http://www.wikidata.org/entity/Q145    United Kingdom   \n",
       "\n",
       "                                   awardUri_y  \\\n",
       "289  http://www.wikidata.org/entity/Q14865220   \n",
       "290  http://www.wikidata.org/entity/Q12192290   \n",
       "291  http://www.wikidata.org/entity/Q12177451   \n",
       "293   http://www.wikidata.org/entity/Q1774648   \n",
       "\n",
       "                                        awardLabel_y  \n",
       "289     commander of the Order of the Crown of Italy  \n",
       "290  Knight Grand Cross of the Royal Victorian Order  \n",
       "291      Knight Grand Cross of the Order of the Bath  \n",
       "293                      Distinguished Service Medal  "
      ]
     },
     "execution_count": 79,
     "metadata": {},
     "output_type": "execute_result"
    }
   ],
   "source": [
    "### Inspect\n",
    "print(len(merged))\n",
    "print(list(merged.columns))\n",
    "merged.iloc[110:114]"
   ]
  },
  {
   "cell_type": "code",
   "execution_count": 80,
   "metadata": {},
   "outputs": [
    {
     "name": "stdout",
     "output_type": "stream",
     "text": [
      "awardLabel\n",
      "                                                      218\n",
      "Croix de guerre 1914–1918                             129\n",
      "Knight of the Legion of Honour                        101\n",
      "Distinguished Flying Cross                             75\n",
      "Medal of Military Valour                               74\n",
      "                                                     ... \n",
      "Wound Badge of 20 July 1944 in Gold                     1\n",
      "Grand Prix du roman de l'Académie française             1\n",
      "Prince Pierre Award                                     1\n",
      "Ambassadors' Prize                                      1\n",
      "Academy Award for Best Writing, Adapted Screenplay      1\n",
      "Name: count, Length: 503, dtype: int64\n"
     ]
    }
   ],
   "source": [
    "### check awards distribution\n",
    "print(df_awards['awardLabel'].value_counts())\n"
   ]
  },
  {
   "cell_type": "code",
   "execution_count": 81,
   "metadata": {},
   "outputs": [
    {
     "data": {
      "text/html": [
       "<div>\n",
       "<style scoped>\n",
       "    .dataframe tbody tr th:only-of-type {\n",
       "        vertical-align: middle;\n",
       "    }\n",
       "\n",
       "    .dataframe tbody tr th {\n",
       "        vertical-align: top;\n",
       "    }\n",
       "\n",
       "    .dataframe thead th {\n",
       "        text-align: right;\n",
       "    }\n",
       "</style>\n",
       "<table border=\"1\" class=\"dataframe\">\n",
       "  <thead>\n",
       "    <tr style=\"text-align: right;\">\n",
       "      <th></th>\n",
       "      <th>awardLabel_x</th>\n",
       "      <th>awardLabel_y</th>\n",
       "      <th>size</th>\n",
       "    </tr>\n",
       "  </thead>\n",
       "  <tbody>\n",
       "    <tr>\n",
       "      <th>1328</th>\n",
       "      <td>Croix de guerre 1914–1918</td>\n",
       "      <td>Knight of the Legion of Honour</td>\n",
       "      <td>43</td>\n",
       "    </tr>\n",
       "    <tr>\n",
       "      <th>1351</th>\n",
       "      <td>Croix de guerre 1914–1918</td>\n",
       "      <td>Médaille militaire</td>\n",
       "      <td>38</td>\n",
       "    </tr>\n",
       "    <tr>\n",
       "      <th>1353</th>\n",
       "      <td>Croix de guerre 1914–1918</td>\n",
       "      <td>Officer of the Legion of Honour</td>\n",
       "      <td>27</td>\n",
       "    </tr>\n",
       "    <tr>\n",
       "      <th>755</th>\n",
       "      <td>Commander of the Legion of Honour</td>\n",
       "      <td>Croix de guerre 1914–1918</td>\n",
       "      <td>22</td>\n",
       "    </tr>\n",
       "    <tr>\n",
       "      <th>1592</th>\n",
       "      <td>Cross of Valour</td>\n",
       "      <td>Silver Cross of the Virtuti Militari</td>\n",
       "      <td>19</td>\n",
       "    </tr>\n",
       "  </tbody>\n",
       "</table>\n",
       "</div>"
      ],
      "text/plain": [
       "                           awardLabel_x                          awardLabel_y  \\\n",
       "1328          Croix de guerre 1914–1918        Knight of the Legion of Honour   \n",
       "1351          Croix de guerre 1914–1918                    Médaille militaire   \n",
       "1353          Croix de guerre 1914–1918       Officer of the Legion of Honour   \n",
       "755   Commander of the Legion of Honour             Croix de guerre 1914–1918   \n",
       "1592                    Cross of Valour  Silver Cross of the Virtuti Militari   \n",
       "\n",
       "      size  \n",
       "1328    43  \n",
       "1351    38  \n",
       "1353    27  \n",
       "755     22  \n",
       "1592    19  "
      ]
     },
     "execution_count": 81,
     "metadata": {},
     "output_type": "execute_result"
    }
   ],
   "source": [
    "### Number of relationships per type prepared for graph\n",
    "gl_awards = merged.groupby(['awardLabel_x', 'awardLabel_y'], as_index=False).size()\n",
    "\n",
    "gl_awards = gl_awards.sort_values(by='size', ascending=False)\n",
    "\n",
    "gl_awards.head()\n"
   ]
  },
  {
   "cell_type": "code",
   "execution_count": 82,
   "metadata": {},
   "outputs": [
    {
     "data": {
      "text/html": [
       "<div>\n",
       "<style scoped>\n",
       "    .dataframe tbody tr th:only-of-type {\n",
       "        vertical-align: middle;\n",
       "    }\n",
       "\n",
       "    .dataframe tbody tr th {\n",
       "        vertical-align: top;\n",
       "    }\n",
       "\n",
       "    .dataframe thead th {\n",
       "        text-align: right;\n",
       "    }\n",
       "</style>\n",
       "<table border=\"1\" class=\"dataframe\">\n",
       "  <thead>\n",
       "    <tr style=\"text-align: right;\">\n",
       "      <th></th>\n",
       "      <th>awardLabel_x</th>\n",
       "      <th>awardLabel_y</th>\n",
       "      <th>size</th>\n",
       "    </tr>\n",
       "  </thead>\n",
       "  <tbody>\n",
       "    <tr>\n",
       "      <th>1328</th>\n",
       "      <td>Croix de guerre 1914–1918</td>\n",
       "      <td>Knight of the Legion of Honour</td>\n",
       "      <td>43</td>\n",
       "    </tr>\n",
       "    <tr>\n",
       "      <th>1351</th>\n",
       "      <td>Croix de guerre 1914–1918</td>\n",
       "      <td>Médaille militaire</td>\n",
       "      <td>38</td>\n",
       "    </tr>\n",
       "    <tr>\n",
       "      <th>1353</th>\n",
       "      <td>Croix de guerre 1914–1918</td>\n",
       "      <td>Officer of the Legion of Honour</td>\n",
       "      <td>27</td>\n",
       "    </tr>\n",
       "    <tr>\n",
       "      <th>755</th>\n",
       "      <td>Commander of the Legion of Honour</td>\n",
       "      <td>Croix de guerre 1914–1918</td>\n",
       "      <td>22</td>\n",
       "    </tr>\n",
       "    <tr>\n",
       "      <th>1592</th>\n",
       "      <td>Cross of Valour</td>\n",
       "      <td>Silver Cross of the Virtuti Militari</td>\n",
       "      <td>19</td>\n",
       "    </tr>\n",
       "  </tbody>\n",
       "</table>\n",
       "</div>"
      ],
      "text/plain": [
       "                           awardLabel_x                          awardLabel_y  \\\n",
       "1328          Croix de guerre 1914–1918        Knight of the Legion of Honour   \n",
       "1351          Croix de guerre 1914–1918                    Médaille militaire   \n",
       "1353          Croix de guerre 1914–1918       Officer of the Legion of Honour   \n",
       "755   Commander of the Legion of Honour             Croix de guerre 1914–1918   \n",
       "1592                    Cross of Valour  Silver Cross of the Virtuti Militari   \n",
       "\n",
       "      size  \n",
       "1328    43  \n",
       "1351    38  \n",
       "1353    27  \n",
       "755     22  \n",
       "1592    19  "
      ]
     },
     "execution_count": 82,
     "metadata": {},
     "output_type": "execute_result"
    }
   ],
   "source": [
    "### Number of relationships per type prepared for graph\n",
    "gl_awards = (\n",
    "    merged.groupby(['awardLabel_x', 'awardLabel_y'], as_index=False)\n",
    "          .size()\n",
    "          .sort_values(by='size', ascending=False)\n",
    ")\n",
    "\n",
    "gl_awards.head()\n",
    "\n"
   ]
  },
  {
   "cell_type": "code",
   "execution_count": 83,
   "metadata": {},
   "outputs": [],
   "source": [
    "### Concat relationships\n",
    "merged['award_concat'] = merged.apply(\n",
    "    lambda x: x.awardLabel_x + '_' + x.awardLabel_y, axis=1\n",
    ")"
   ]
  },
  {
   "cell_type": "code",
   "execution_count": 84,
   "metadata": {},
   "outputs": [
    {
     "name": "stdout",
     "output_type": "stream",
     "text": [
      "['aceUri', 'aceLabel', 'allegianceUri_x', 'allegianceLabel_x', 'awardUri_x', 'awardLabel_x', 'birthYear', 'allegiance_clean', 'periods', 'allegianceUri_y', 'allegianceLabel_y', 'awardUri_y', 'awardLabel_y', 'award_concat']\n"
     ]
    },
    {
     "data": {
      "text/html": [
       "<div>\n",
       "<style scoped>\n",
       "    .dataframe tbody tr th:only-of-type {\n",
       "        vertical-align: middle;\n",
       "    }\n",
       "\n",
       "    .dataframe tbody tr th {\n",
       "        vertical-align: top;\n",
       "    }\n",
       "\n",
       "    .dataframe thead th {\n",
       "        text-align: right;\n",
       "    }\n",
       "</style>\n",
       "<table border=\"1\" class=\"dataframe\">\n",
       "  <thead>\n",
       "    <tr style=\"text-align: right;\">\n",
       "      <th></th>\n",
       "      <th>aceUri</th>\n",
       "      <th>aceLabel</th>\n",
       "      <th>allegianceUri_x</th>\n",
       "      <th>allegianceLabel_x</th>\n",
       "      <th>awardUri_x</th>\n",
       "      <th>awardLabel_x</th>\n",
       "      <th>birthYear</th>\n",
       "      <th>allegiance_clean</th>\n",
       "      <th>periods</th>\n",
       "      <th>allegianceUri_y</th>\n",
       "      <th>allegianceLabel_y</th>\n",
       "      <th>awardUri_y</th>\n",
       "      <th>awardLabel_y</th>\n",
       "      <th>award_concat</th>\n",
       "    </tr>\n",
       "  </thead>\n",
       "  <tbody>\n",
       "    <tr>\n",
       "      <th>289</th>\n",
       "      <td>http://www.wikidata.org/entity/Q336065</td>\n",
       "      <td>Hugh Trenchard, 1st Viscount Trenchard</td>\n",
       "      <td>http://www.wikidata.org/entity/Q145</td>\n",
       "      <td>United Kingdom</td>\n",
       "      <td>http://www.wikidata.org/entity/Q14900499</td>\n",
       "      <td>Commander of the Order of Leopold</td>\n",
       "      <td>1873</td>\n",
       "      <td>British Empire</td>\n",
       "      <td>1870-1874</td>\n",
       "      <td>http://www.wikidata.org/entity/Q145</td>\n",
       "      <td>United Kingdom</td>\n",
       "      <td>http://www.wikidata.org/entity/Q14865220</td>\n",
       "      <td>commander of the Order of the Crown of Italy</td>\n",
       "      <td>Commander of the Order of Leopold_commander of...</td>\n",
       "    </tr>\n",
       "    <tr>\n",
       "      <th>290</th>\n",
       "      <td>http://www.wikidata.org/entity/Q336065</td>\n",
       "      <td>Hugh Trenchard, 1st Viscount Trenchard</td>\n",
       "      <td>http://www.wikidata.org/entity/Q145</td>\n",
       "      <td>United Kingdom</td>\n",
       "      <td>http://www.wikidata.org/entity/Q14900499</td>\n",
       "      <td>Commander of the Order of Leopold</td>\n",
       "      <td>1873</td>\n",
       "      <td>British Empire</td>\n",
       "      <td>1870-1874</td>\n",
       "      <td>http://www.wikidata.org/entity/Q145</td>\n",
       "      <td>United Kingdom</td>\n",
       "      <td>http://www.wikidata.org/entity/Q12192290</td>\n",
       "      <td>Knight Grand Cross of the Royal Victorian Order</td>\n",
       "      <td>Commander of the Order of Leopold_Knight Grand...</td>\n",
       "    </tr>\n",
       "  </tbody>\n",
       "</table>\n",
       "</div>"
      ],
      "text/plain": [
       "                                     aceUri  \\\n",
       "289  http://www.wikidata.org/entity/Q336065   \n",
       "290  http://www.wikidata.org/entity/Q336065   \n",
       "\n",
       "                                   aceLabel  \\\n",
       "289  Hugh Trenchard, 1st Viscount Trenchard   \n",
       "290  Hugh Trenchard, 1st Viscount Trenchard   \n",
       "\n",
       "                         allegianceUri_x allegianceLabel_x  \\\n",
       "289  http://www.wikidata.org/entity/Q145    United Kingdom   \n",
       "290  http://www.wikidata.org/entity/Q145    United Kingdom   \n",
       "\n",
       "                                   awardUri_x  \\\n",
       "289  http://www.wikidata.org/entity/Q14900499   \n",
       "290  http://www.wikidata.org/entity/Q14900499   \n",
       "\n",
       "                          awardLabel_x  birthYear allegiance_clean    periods  \\\n",
       "289  Commander of the Order of Leopold       1873   British Empire  1870-1874   \n",
       "290  Commander of the Order of Leopold       1873   British Empire  1870-1874   \n",
       "\n",
       "                         allegianceUri_y allegianceLabel_y  \\\n",
       "289  http://www.wikidata.org/entity/Q145    United Kingdom   \n",
       "290  http://www.wikidata.org/entity/Q145    United Kingdom   \n",
       "\n",
       "                                   awardUri_y  \\\n",
       "289  http://www.wikidata.org/entity/Q14865220   \n",
       "290  http://www.wikidata.org/entity/Q12192290   \n",
       "\n",
       "                                        awardLabel_y  \\\n",
       "289     commander of the Order of the Crown of Italy   \n",
       "290  Knight Grand Cross of the Royal Victorian Order   \n",
       "\n",
       "                                          award_concat  \n",
       "289  Commander of the Order of Leopold_commander of...  \n",
       "290  Commander of the Order of Leopold_Knight Grand...  "
      ]
     },
     "execution_count": 84,
     "metadata": {},
     "output_type": "execute_result"
    }
   ],
   "source": [
    "print(list(merged.columns))\n",
    "merged.iloc[110:112]\n"
   ]
  },
  {
   "cell_type": "markdown",
   "metadata": {},
   "source": [
    "## Analyse du graphe\n",
    "\n",
    "On va explorer quelques aspects du réseau des décorations :\n",
    "\n",
    "* Voir quelles décorations sont souvent reliées entre elles par les mêmes pilotes, et si ces regroupements se font par pays.\n",
    "* Distinguer les décorations nationales (données par le pays du pilote) et les décorations étrangères (données par des alliés), en les regardant séparément.\n",
    "* Regarder la relation entre décorations nationales et étrangères : est-ce que certaines distinctions vont souvent ensemble ?\n",
    "\n",
    "\n",
    "\n",
    "\n"
   ]
  },
  {
   "cell_type": "code",
   "execution_count": 85,
   "metadata": {},
   "outputs": [
    {
     "name": "stdout",
     "output_type": "stream",
     "text": [
      "Number of edges: 4566\n"
     ]
    },
    {
     "data": {
      "text/plain": [
       "[('Croix de guerre 1914–1918',\n",
       "  'Knight of the Legion of Honour',\n",
       "  {'weight': 43}),\n",
       " ('Croix de guerre 1914–1918', 'Médaille militaire', {'weight': 38}),\n",
       " ('Croix de guerre 1914–1918',\n",
       "  'Officer of the Legion of Honour',\n",
       "  {'weight': 27}),\n",
       " ('Commander of the Legion of Honour',\n",
       "  'Croix de guerre 1914–1918',\n",
       "  {'weight': 22}),\n",
       " ('Cross of Valour', 'Silver Cross of the Virtuti Militari', {'weight': 19})]"
      ]
     },
     "execution_count": 85,
     "metadata": {},
     "output_type": "execute_result"
    }
   ],
   "source": [
    "## Provide the data in the format \n",
    "# required by Networkx\n",
    "\n",
    "l = [(\n",
    "        e['awardLabel_x'],      \n",
    "        e['awardLabel_y'],      \n",
    "        {'weight': int(e['size'])}  # poids des edges = nombre de pilotes\n",
    "     )\n",
    "     for e in gl_awards.to_dict(orient='records')\n",
    "]\n",
    "\n",
    "print(\"Number of edges:\", len(l))\n",
    "l[:5] "
   ]
  },
  {
   "cell_type": "code",
   "execution_count": 86,
   "metadata": {},
   "outputs": [
    {
     "name": "stdout",
     "output_type": "stream",
     "text": [
      "{'is_multigraph': False,\n",
      " 'is_directed': False,\n",
      " 'number_of_nodes': 496,\n",
      " 'number_of_edges': 4566,\n",
      " '------': '------',\n",
      " 'is connected': False,\n",
      " 'components': 2,\n",
      " 'density': 0.03719452590420332}\n",
      "[[0, 494], [1, 2]]\n"
     ]
    }
   ],
   "source": [
    "award_graph = nx.Graph()\n",
    "\n",
    "## Add relationships to graph\n",
    "# Multiple rows between two nodes are taken only once (Graph collapses duplicates).\n",
    "award_graph.add_edges_from(l)\n",
    "\n",
    "naf.basic_graph_properties(award_graph)\n",
    "\n",
    "### Create a list of graphs, one per component\n",
    "award_graph_S = [award_graph.subgraph(c).copy() for c in nx.connected_components(award_graph)]\n",
    "\n",
    "### i is the component index in the list S of graphs , len(s.nodes) is the nomber of nodes\n",
    "ln = sorted([[i,len(s.nodes)] for i,s in enumerate(award_graph_S)], key = lambda row: row[1], reverse=True)\n",
    "print(ln[:5])"
   ]
  },
  {
   "cell_type": "code",
   "execution_count": 87,
   "metadata": {},
   "outputs": [
    {
     "name": "stdout",
     "output_type": "stream",
     "text": [
      "Just one big component\n"
     ]
    }
   ],
   "source": [
    "### test if second component is significantly smaller \n",
    "# than first\n",
    "if ln[1][1]*20 < ln[0][1]:\n",
    "    print('Just one big component')\n",
    "else :\n",
    "    print('Beware: more than one big component !')    "
   ]
  },
  {
   "cell_type": "code",
   "execution_count": 88,
   "metadata": {},
   "outputs": [
    {
     "name": "stdout",
     "output_type": "stream",
     "text": [
      "{'is_multigraph': False,\n",
      " 'is_directed': False,\n",
      " 'number_of_nodes': 494,\n",
      " 'number_of_edges': 4565,\n",
      " '------': '------',\n",
      " 'is connected': True,\n",
      " 'components': 1,\n",
      " 'density': 0.03748840035804912}\n"
     ]
    }
   ],
   "source": [
    "### Alternative way with just one graph\n",
    "award_main_graph = award_graph_S[0]\n",
    "naf.basic_graph_properties(award_main_graph)"
   ]
  },
  {
   "cell_type": "code",
   "execution_count": 89,
   "metadata": {},
   "outputs": [
    {
     "name": "stderr",
     "output_type": "stream",
     "text": [
      "C:\\Users\\menou\\AppData\\Local\\Temp\\ipykernel_30276\\2833168896.py:3: FutureWarning: The default of observed=False is deprecated and will be changed to True in a future version of pandas. Pass observed=False to retain current behavior or observed=True to adopt the future default and silence this warning.\n",
      "  .groupby(['awardLabel_x', 'periods'])['aceUri']\n"
     ]
    }
   ],
   "source": [
    "df_awardPeriod = (\n",
    "    merged\n",
    "    .groupby(['awardLabel_x', 'periods'])['aceUri']\n",
    "    .nunique()\n",
    "    .reset_index(name='period_pilot_number')\n",
    ")\n",
    "\n"
   ]
  },
  {
   "cell_type": "code",
   "execution_count": 90,
   "metadata": {},
   "outputs": [
    {
     "data": {
      "text/html": [
       "<div>\n",
       "<style scoped>\n",
       "    .dataframe tbody tr th:only-of-type {\n",
       "        vertical-align: middle;\n",
       "    }\n",
       "\n",
       "    .dataframe tbody tr th {\n",
       "        vertical-align: top;\n",
       "    }\n",
       "\n",
       "    .dataframe thead th {\n",
       "        text-align: right;\n",
       "    }\n",
       "</style>\n",
       "<table border=\"1\" class=\"dataframe\">\n",
       "  <thead>\n",
       "    <tr style=\"text-align: right;\">\n",
       "      <th></th>\n",
       "      <th>awardLabel_x</th>\n",
       "      <th>periods</th>\n",
       "      <th>period_pilot_number</th>\n",
       "    </tr>\n",
       "  </thead>\n",
       "  <tbody>\n",
       "    <tr>\n",
       "      <th>727</th>\n",
       "      <td>Croix de guerre 1914–1918</td>\n",
       "      <td>1890-1894</td>\n",
       "      <td>46</td>\n",
       "    </tr>\n",
       "    <tr>\n",
       "      <th>726</th>\n",
       "      <td>Croix de guerre 1914–1918</td>\n",
       "      <td>1885-1889</td>\n",
       "      <td>23</td>\n",
       "    </tr>\n",
       "  </tbody>\n",
       "</table>\n",
       "</div>"
      ],
      "text/plain": [
       "                  awardLabel_x    periods  period_pilot_number\n",
       "727  Croix de guerre 1914–1918  1890-1894                   46\n",
       "726  Croix de guerre 1914–1918  1885-1889                   23"
      ]
     },
     "execution_count": 90,
     "metadata": {},
     "output_type": "execute_result"
    }
   ],
   "source": [
    "### on compte combien de pilotes concernés par un awards, par period\n",
    "df_awardPeriod.sort_values(by='period_pilot_number', ascending=False).head(2)\n"
   ]
  },
  {
   "cell_type": "code",
   "execution_count": 93,
   "metadata": {},
   "outputs": [
    {
     "data": {
      "text/html": [
       "<div>\n",
       "<style scoped>\n",
       "    .dataframe tbody tr th:only-of-type {\n",
       "        vertical-align: middle;\n",
       "    }\n",
       "\n",
       "    .dataframe tbody tr th {\n",
       "        vertical-align: top;\n",
       "    }\n",
       "\n",
       "    .dataframe thead th {\n",
       "        text-align: right;\n",
       "    }\n",
       "</style>\n",
       "<table border=\"1\" class=\"dataframe\">\n",
       "  <thead>\n",
       "    <tr style=\"text-align: right;\">\n",
       "      <th></th>\n",
       "      <th>label</th>\n",
       "      <th>nbPilots</th>\n",
       "      <th>mainType</th>\n",
       "    </tr>\n",
       "  </thead>\n",
       "  <tbody>\n",
       "    <tr>\n",
       "      <th>7</th>\n",
       "      <td>1914–15 Star</td>\n",
       "      <td>0</td>\n",
       "      <td>award</td>\n",
       "    </tr>\n",
       "    <tr>\n",
       "      <th>17</th>\n",
       "      <td>1939–45 Star</td>\n",
       "      <td>0</td>\n",
       "      <td>award</td>\n",
       "    </tr>\n",
       "    <tr>\n",
       "      <th>27</th>\n",
       "      <td>Academy Award for Best Writing, Adapted Screen...</td>\n",
       "      <td>0</td>\n",
       "      <td>award</td>\n",
       "    </tr>\n",
       "    <tr>\n",
       "      <th>37</th>\n",
       "      <td>Academy Honorary Award</td>\n",
       "      <td>1</td>\n",
       "      <td>award</td>\n",
       "    </tr>\n",
       "    <tr>\n",
       "      <th>47</th>\n",
       "      <td>Africa Star</td>\n",
       "      <td>0</td>\n",
       "      <td>award</td>\n",
       "    </tr>\n",
       "  </tbody>\n",
       "</table>\n",
       "</div>"
      ],
      "text/plain": [
       "                                                label  nbPilots mainType\n",
       "7                                        1914–15 Star         0    award\n",
       "17                                       1939–45 Star         0    award\n",
       "27  Academy Award for Best Writing, Adapted Screen...         0    award\n",
       "37                             Academy Honorary Award         1    award\n",
       "47                                        Africa Star         0    award"
      ]
     },
     "execution_count": 93,
     "metadata": {},
     "output_type": "execute_result"
    }
   ],
   "source": [
    "df_apl = df_awardPeriod[df_awardPeriod.periods == '1890-1894'][['awardLabel_x', 'period_pilot_number']]\n",
    "df_apl.columns = ['label', 'nbPilots']\n",
    "df_apl['mainType'] = 'award'\n",
    "df_apl.head()\n"
   ]
  },
  {
   "cell_type": "code",
   "execution_count": 94,
   "metadata": {},
   "outputs": [
    {
     "name": "stdout",
     "output_type": "stream",
     "text": [
      "[('Croix de guerre 1914–1918',\n",
      "  {'label': 'Croix de guerre 1914–1918', 'mainType': 'award', 'nbPilots': 46}),\n",
      " ('Knight of the Legion of Honour',\n",
      "  {'label': 'Knight of the Legion of Honour',\n",
      "   'mainType': 'award',\n",
      "   'nbPilots': 15})]\n"
     ]
    }
   ],
   "source": [
    "### Prepare data to add to nodes\n",
    "ln = dict([\n",
    "    (e['label'], {\n",
    "        'label': e['label'],\n",
    "        'mainType': e['mainType'],\n",
    "        'nbPilots': e['nbPilots']\n",
    "    })\n",
    "    for e in df_apl.to_dict(orient='records')\n",
    "])\n",
    "## Add attributes\n",
    "nx.set_node_attributes(award_graph, ln)\n",
    "pprint.pprint(list(award_graph.nodes.data())[:2])\n"
   ]
  },
  {
   "cell_type": "code",
   "execution_count": 96,
   "metadata": {},
   "outputs": [
    {
     "name": "stdout",
     "output_type": "stream",
     "text": [
      "award    439\n",
      "dtype: int64\n"
     ]
    }
   ],
   "source": [
    "mn_s = pd.Series([n[1]['mainType'] for n in award_graph.nodes.data() if 'mainType' in n[1]])\n",
    "print(mn_s.groupby(by=mn_s).size().sort_values(ascending=False))\n"
   ]
  },
  {
   "cell_type": "markdown",
   "metadata": {},
   "source": [
    "####  Create dataframe and inspect node properties"
   ]
  },
  {
   "cell_type": "code",
   "execution_count": 98,
   "metadata": {},
   "outputs": [
    {
     "name": "stdout",
     "output_type": "stream",
     "text": [
      "[('Croix de guerre 1914–1918',\n",
      "  {'eigenvector': 0.5599015010582713,\n",
      "   'label': 'Croix de guerre 1914–1918',\n",
      "   'mainType': 'award',\n",
      "   'nbPilots': 46})]\n"
     ]
    }
   ],
   "source": [
    "### Eigenvector\n",
    "le = list(nx.eigenvector_centrality(award_graph, max_iter=200, weight='weight').items())\n",
    "nx.set_node_attributes(award_graph, dict(le), 'eigenvector')\n",
    "\n",
    "pprint.pprint(list(award_graph.nodes.data())[:1])"
   ]
  },
  {
   "cell_type": "code",
   "execution_count": 99,
   "metadata": {},
   "outputs": [
    {
     "name": "stdout",
     "output_type": "stream",
     "text": [
      "[('Croix de guerre 1914–1918',\n",
      "  {'betweenness': 0.12019198165730888,\n",
      "   'eigenvector': 0.5599015010582713,\n",
      "   'label': 'Croix de guerre 1914–1918',\n",
      "   'mainType': 'award',\n",
      "   'nbPilots': 46})]\n"
     ]
    }
   ],
   "source": [
    "### Betweenness\n",
    "lb = list(nx.betweenness_centrality(award_graph, weight='weight').items())\n",
    "nx.set_node_attributes(award_graph, dict(lb), 'betweenness')\n",
    "pprint.pprint(list(award_graph.nodes.data())[:1])\n"
   ]
  },
  {
   "cell_type": "code",
   "execution_count": 100,
   "metadata": {},
   "outputs": [
    {
     "data": {
      "text/html": [
       "<div>\n",
       "<style scoped>\n",
       "    .dataframe tbody tr th:only-of-type {\n",
       "        vertical-align: middle;\n",
       "    }\n",
       "\n",
       "    .dataframe tbody tr th {\n",
       "        vertical-align: top;\n",
       "    }\n",
       "\n",
       "    .dataframe thead th {\n",
       "        text-align: right;\n",
       "    }\n",
       "</style>\n",
       "<table border=\"1\" class=\"dataframe\">\n",
       "  <thead>\n",
       "    <tr style=\"text-align: right;\">\n",
       "      <th></th>\n",
       "      <th>id</th>\n",
       "      <th>label</th>\n",
       "      <th>mainType</th>\n",
       "      <th>nbPilots</th>\n",
       "      <th>eigenvector</th>\n",
       "      <th>betweenness</th>\n",
       "    </tr>\n",
       "  </thead>\n",
       "  <tbody>\n",
       "    <tr>\n",
       "      <th>0</th>\n",
       "      <td>Croix de guerre 1914–1918</td>\n",
       "      <td>Croix de guerre 1914–1918</td>\n",
       "      <td>award</td>\n",
       "      <td>46</td>\n",
       "      <td>0.559902</td>\n",
       "      <td>0.120192</td>\n",
       "    </tr>\n",
       "    <tr>\n",
       "      <th>1</th>\n",
       "      <td>Knight of the Legion of Honour</td>\n",
       "      <td>Knight of the Legion of Honour</td>\n",
       "      <td>award</td>\n",
       "      <td>15</td>\n",
       "      <td>0.4181</td>\n",
       "      <td>0.106979</td>\n",
       "    </tr>\n",
       "  </tbody>\n",
       "</table>\n",
       "</div>"
      ],
      "text/plain": [
       "                               id                           label mainType  \\\n",
       "0       Croix de guerre 1914–1918       Croix de guerre 1914–1918    award   \n",
       "1  Knight of the Legion of Honour  Knight of the Legion of Honour    award   \n",
       "\n",
       "  nbPilots eigenvector betweenness  \n",
       "0       46    0.559902    0.120192  \n",
       "1       15      0.4181    0.106979  "
      ]
     },
     "execution_count": 100,
     "metadata": {},
     "output_type": "execute_result"
    }
   ],
   "source": [
    "### Export node attributes to dataframe\n",
    "nodes_data ={node: award_graph.nodes[node] for node in award_graph.nodes}\n",
    "nodes_df = pd.DataFrame(nodes_data).T\n",
    "nodes_df.reset_index(inplace=True, names='id')\n",
    "nodes_df.head(2)\n"
   ]
  },
  {
   "cell_type": "code",
   "execution_count": 102,
   "metadata": {},
   "outputs": [
    {
     "name": "stdout",
     "output_type": "stream",
     "text": [
      "Index(['id', 'label', 'mainType', 'nbPilots', 'eigenvector', 'betweenness'], dtype='object')\n"
     ]
    }
   ],
   "source": [
    "print(nodes_df.columns)"
   ]
  },
  {
   "cell_type": "code",
   "execution_count": 103,
   "metadata": {},
   "outputs": [
    {
     "name": "stdout",
     "output_type": "stream",
     "text": [
      "mainType\n",
      "award    439\n",
      "Name: count, dtype: int64\n"
     ]
    }
   ],
   "source": [
    "df_mainTypes = nodes_df['mainType'].value_counts()\n",
    "print(df_mainTypes)"
   ]
  },
  {
   "cell_type": "code",
   "execution_count": 106,
   "metadata": {},
   "outputs": [],
   "source": [
    "# Pour éviter un graph trop visualement chargé, on filtre sur les 10 awards les plus fréquents\n",
    "nodes_filtered = nodes_df.sort_values(by='nbPilots', ascending=False).head(10)\n",
    "nodes_to_keep = nodes_filtered['id'].tolist()\n",
    "award_graph_filtered = award_graph.subgraph(nodes_to_keep).copy()\n",
    "\n"
   ]
  },
  {
   "cell_type": "code",
   "execution_count": 109,
   "metadata": {},
   "outputs": [
    {
     "name": "stdout",
     "output_type": "stream",
     "text": [
      "['#ff0066', '#0000ff', '#00aaff', '#beb6f2', '#b6e6f2', '#e6f2b6', '#f2b6b6', '#2d50b3', '#ccff00', '#8c005e']\n"
     ]
    }
   ],
   "source": [
    "### source\n",
    "# https://phrogz.net/css/distinct-colors.html\n",
    "lt = nodes_filtered['id'].tolist()  # these are the top 10 award labels\n",
    "col_l = [c.strip() for c in '#ff0066, #0000ff, #00aaff,#beb6f2, #b6e6f2, #e6f2b6, #f2b6b6,#2d50b3, #ccff00, #8c005e'.split(',')]\n",
    "print(col_l)"
   ]
  },
  {
   "cell_type": "code",
   "execution_count": 110,
   "metadata": {},
   "outputs": [
    {
     "name": "stdout",
     "output_type": "stream",
     "text": [
      "[('Croix de guerre 1914–1918', '#ff0066'), ('Knight of the Legion of Honour', '#0000ff'), ('Distinguished Flying Cross', '#00aaff'), ('Commander of the Legion of Honour', '#beb6f2'), ('Distinguished Service Order', '#b6e6f2'), ('Air Force Cross', '#e6f2b6'), ('Order of Saint Anna, 4th class', '#f2b6b6'), ('Order of Saint Stanislaus', '#2d50b3'), ('Companion of the Order of the Bath', '#ccff00'), ('Médaille militaire', '#8c005e')]\n"
     ]
    }
   ],
   "source": [
    "col_list= [e for e in zip(lt, col_l)]\n",
    "print(col_list)"
   ]
  },
  {
   "cell_type": "code",
   "execution_count": 111,
   "metadata": {},
   "outputs": [
    {
     "name": "stdout",
     "output_type": "stream",
     "text": [
      "{'Air Force Cross': '#e6f2b6',\n",
      " 'Commander of the Legion of Honour': '#beb6f2',\n",
      " 'Companion of the Order of the Bath': '#ccff00',\n",
      " 'Croix de guerre 1914–1918': '#ff0066',\n",
      " 'Distinguished Flying Cross': '#00aaff',\n",
      " 'Distinguished Service Order': '#b6e6f2',\n",
      " 'Knight of the Legion of Honour': '#0000ff',\n",
      " 'Médaille militaire': '#8c005e',\n",
      " 'Order of Saint Anna, 4th class': '#f2b6b6',\n",
      " 'Order of Saint Stanislaus': '#2d50b3'}\n"
     ]
    }
   ],
   "source": [
    "color_map=dict([(c[0], (c[1])) for c in col_list])\n",
    "pprint.pprint(color_map)"
   ]
  },
  {
   "cell_type": "code",
   "execution_count": 121,
   "metadata": {},
   "outputs": [
    {
     "data": {
      "image/png": "[encoded data removed]",
      "text/plain": [
       "<Figure size 300x300 with 1 Axes>"
      ]
     },
     "metadata": {},
     "output_type": "display_data"
    }
   ],
   "source": [
    "\n",
    "fig = plt.figure(figsize=(3,3))\n",
    "\n",
    "\n",
    "### Create lists of colors and labels\n",
    "colors = [color_map.keys()]\n",
    " \n",
    "\n",
    "plt.legend(handles=[plt.Line2D([0], [0], marker='o', color='w', \n",
    "                            label=label, markerfacecolor=color, \n",
    "                            markersize=8, alpha=0.6\n",
    "                            ) for label, color in color_map.items() ],\n",
    "                            loc='upper left', fontsize=8)\n",
    "plt.tight_layout() # rect=[0,0,0.8,1]\n",
    "\n",
    "plt.title('Couleurs')\n",
    "\n",
    "plt.show()\n",
    "types_list = list(color_map.keys())\n"
   ]
  },
  {
   "cell_type": "code",
   "execution_count": 122,
   "metadata": {},
   "outputs": [],
   "source": [
    "### Create a function that plots the comparison between values and properties\n",
    "\n",
    "def compare_with_scatter_plot(dataframe, value_1, value_2, point_column,point_ratio=1, \n",
    "                              c_category='', color_map='', figsize=(12,12), \n",
    "                              legend_loc='upper right',title='', \n",
    "                              n_label ='', label_cut_value=''):\n",
    "\n",
    "    ### https://matplotlib.org/stable/api/_as_gen/matplotlib.pyplot.scatter.html\n",
    "    # Different colors per class : https://vitalflux.com/python-scatter-plot-different-classes/\n",
    "    # Legend : https://matplotlib.org/stable/api/_as_gen/matplotlib.pyplot.legend.html\n",
    "    # Labels : https://stackoverflow.com/questions/14432557/matplotlib-scatter-plot-with-different-text-at-each-data-point\n",
    "\n",
    "\n",
    "    df=dataframe\n",
    "    # df_extr=nodes_df[nodes_df.betweenness > 0].sort_values(by='betweenness', ascending=False)\n",
    "\n",
    "    alpha=0.7\n",
    "\n",
    "    ### Manage point colors:\n",
    "    # https://kanoki.org/2020/08/30/matplotlib-scatter-plot-color-by-category-in-python/\n",
    "\n",
    "    plt.figure(figsize=figsize)\n",
    "\n",
    "\n",
    "    ### Create lists of colors and labels\n",
    "    colors = [color_map[category] for category in df[c_category]]\n",
    " \n",
    "\n",
    "\n",
    "\n",
    "    ax = plt.scatter(df[value_1],\n",
    "                df[value_2],\n",
    "            marker='o',\n",
    "            s = [v*point_ratio for i,v in df[point_column].items()],\n",
    "            color=colors,        \n",
    "            alpha=alpha)\n",
    "    plt.xlabel(value_1.capitalize())\n",
    "    plt.ylabel(value_2.capitalize())\n",
    "\n",
    "\n",
    "\n",
    "\n",
    "\n",
    "\n",
    "    ### Labels\n",
    "    test_v1 = df[value_1].quantile([0.97]).item()\n",
    "    test_v2 = df[value_2].quantile([0.95]).item()\n",
    "    print(test_v1,test_v2)\n",
    "\n",
    "\n",
    "    if len(n_label)>0:\n",
    "        for i,row in list(df.loc[(df[value_1]>test_v1)|(df[value_2]>test_v2)]\\\n",
    "                          [[n_label,value_1,value_2]].iterrows()):\n",
    "            plt.annotate(row[n_label][:30],(row[value_1], row[value_2]), fontsize=6)\n",
    "\n",
    "    plt.legend(handles=[plt.Line2D([0], [0], marker='o', color='w', \n",
    "                            label=label, markerfacecolor=color, \n",
    "                            markersize=8, alpha=alpha\n",
    "                            ) for label, color in color_map.items() \n",
    "                                    if label in types_list ],\n",
    "                            loc=legend_loc, fontsize=8)\n",
    "    plt.tight_layout() # rect=[0,0,0.8,1]\n",
    "\n",
    "    plt.title(title)\n",
    "\n",
    "    # plt.savefig('plots/revenus_eigenvector_20210526.jpg')\n",
    "    plt.show()"
   ]
  },
  {
   "cell_type": "code",
   "execution_count": 123,
   "metadata": {},
   "outputs": [
    {
     "name": "stdout",
     "output_type": "stream",
     "text": [
      "0.5216149697914754 0.12247685278450465\n"
     ]
    },
    {
     "data": {
      "image/png": "[encoded data removed]",
      "text/plain": [
       "<Figure size 800x800 with 1 Axes>"
      ]
     },
     "metadata": {},
     "output_type": "display_data"
    },
    {
     "name": "stdout",
     "output_type": "stream",
     "text": [
      "Spearman's rank correlation: 0.7818181818181819\n"
     ]
    }
   ],
   "source": [
    "compare_with_scatter_plot(nodes_filtered, 'eigenvector', 'betweenness', 'nbPilots', \n",
    "                          point_ratio=3, c_category='id',\n",
    "                          color_map=color_map, figsize=(8,8), \n",
    "                          legend_loc='lower right', \n",
    "                          title='Eigenvector vs betweenness, with number of pilots', \n",
    "                          n_label='label', label_cut_value='nbPilots' )\n",
    "\n",
    "corr_spear = nodes_filtered[['eigenvector', 'betweenness']].corr(method=\"spearman\")\n",
    "print(\"Spearman's rank correlation: {}\".format(corr_spear.iloc[0,1]))"
   ]
  },
  {
   "cell_type": "code",
   "execution_count": 124,
   "metadata": {},
   "outputs": [
    {
     "data": {
      "text/plain": [
       "['id', 'label', 'mainType', 'nbPilots', 'eigenvector', 'betweenness']"
      ]
     },
     "execution_count": 124,
     "metadata": {},
     "output_type": "execute_result"
    }
   ],
   "source": [
    "list(nodes_filtered.columns)"
   ]
  },
  {
   "cell_type": "code",
   "execution_count": 126,
   "metadata": {},
   "outputs": [
    {
     "name": "stdout",
     "output_type": "stream",
     "text": [
      "Betweenness\n",
      "                                label mainType nbPilots\n",
      "19         Distinguished Flying Cross    award       15\n",
      "0           Croix de guerre 1914–1918    award       46\n",
      "1      Knight of the Legion of Honour    award       15\n",
      "4   Commander of the Legion of Honour    award       14\n",
      "2                  Médaille militaire    award        7\n",
      "12        Distinguished Service Order    award       12\n",
      "35     Order of Saint Anna, 4th class    award        8\n",
      "\n",
      "-----\n",
      "Eigenvector\n",
      "                                 label mainType nbPilots\n",
      "0            Croix de guerre 1914–1918    award       46\n",
      "1       Knight of the Legion of Honour    award       15\n",
      "2                   Médaille militaire    award        7\n",
      "4    Commander of the Legion of Honour    award       14\n",
      "19          Distinguished Flying Cross    award       15\n",
      "12         Distinguished Service Order    award       12\n",
      "16  Companion of the Order of the Bath    award        8\n"
     ]
    }
   ],
   "source": [
    "print('Betweenness')\n",
    "pprint.pprint((nodes_filtered.sort_values(by='betweenness', ascending=False)[['label', 'mainType', 'nbPilots']].head(7)))\n",
    "print('\\n-----\\nEigenvector')\n",
    "pprint.pprint((nodes_filtered.sort_values(by='eigenvector', ascending=False)[['label', 'mainType', 'nbPilots']].head(7)))"
   ]
  },
  {
   "cell_type": "markdown",
   "metadata": {},
   "source": [
    "#### Plot graph"
   ]
  },
  {
   "cell_type": "code",
   "execution_count": 128,
   "metadata": {},
   "outputs": [
    {
     "name": "stdout",
     "output_type": "stream",
     "text": [
      "images/awards/awards_network1914-1918.svg\n"
     ]
    }
   ],
   "source": [
    "p = '1914-1918'\n",
    "pict_addr = 'images/awards/awards_network' + p +'.svg'\n",
    "print(pict_addr)"
   ]
  },
  {
   "cell_type": "code",
   "execution_count": null,
   "metadata": {},
   "outputs": [
    {
     "data": {
      "image/png": "[encoded data removed]",
      "text/plain": [
       "<Figure size 640x480 with 1 Axes>"
      ]
     },
     "metadata": {},
     "output_type": "display_data"
    }
   ],
   "source": [
    "G = award_graph_filtered\n",
    "\n",
    "# position des noeuds\n",
    "pos = nx.spring_layout(G, seed=42)\n",
    "\n",
    "# taille et couleur\n",
    "node_sizes = [G.nodes[n]['nbPilots'] * 30 for n in G.nodes()]\n",
    "node_colors = [color_map.get(n, '#cccccc') for n in G.nodes()]  # fallback to gray\n",
    "\n",
    "\n",
    "nx.draw_networkx_nodes(G, pos,\n",
    "                       node_size=node_sizes,\n",
    "                       node_color=node_colors,\n",
    "                       alpha=0.9)\n",
    "\n",
    "nx.draw_networkx_edges(G, pos, alpha=0.3)\n",
    "\n",
    "nx.draw_networkx_labels(G, pos,\n",
    "                        labels={n: n for n in G.nodes()},\n",
    "                        font_size=7)\n",
    "\n",
    "plt.title('Award Network — Shared Pilots')\n",
    "plt.axis('off')\n",
    "plt.tight_layout()\n",
    "plt.show()"
   ]
  },
  {
   "cell_type": "code",
   "execution_count": 134,
   "metadata": {},
   "outputs": [
    {
     "data": {
      "image/png": "[encoded data removed]",
      "text/plain": [
       "<Figure size 2302.59x2302.59 with 1 Axes>"
      ]
     },
     "metadata": {},
     "output_type": "display_data"
    }
   ],
   "source": [
    "### Plot the graph\n",
    "\n",
    "g = award_graph_filtered\n",
    "# n_size = np.log(np.sqrt(nx.number_of_nodes(g)))* 25 #*25\n",
    "n_size = np.log(nx.number_of_nodes(g))*10\n",
    "\n",
    "graph_layout = 'spring_layout'\n",
    "n_k = np.log(nx.number_of_nodes(g))/20 #2.5\n",
    "\n",
    "### Define the layout, i.e. the choice \n",
    "# of the algorithm for the representation of the graph.\n",
    "\n",
    "if graph_layout == 'fruchterman_reingold':\n",
    "    pos = nx.fruchterman_reingold_layout(g)\n",
    "elif graph_layout == 'kamada_kawai':\n",
    "    pos = nx.kamada_kawai_layout(g)\n",
    "elif graph_layout == 'spring_layout':\n",
    "    pos = nx.spring_layout(g, k = n_k)  \n",
    "else:\n",
    "    pos = nx.kamada_kawai_layout(g)\n",
    "\n",
    "# https://networkx.org/documentation/stable/reference/drawing.html\n",
    "plt.figure(figsize = (n_size,n_size))\n",
    "\n",
    "node_size = [n[1]['nbPilots']*20 for n in g.nodes.data()]\n",
    "#node_size = [d[1]*100 for d in nx.degree(g)]\n",
    "node_colors = [color_map.get(n[0], '#cccccc') for n in g.nodes.data()]\n",
    "\n",
    "edge_size = [e[2]['weight'] for e in g.edges.data()]\n",
    "edge_labels = {e: g.get_edge_data(e[0], e[1])[\"weight\"] for e in g.edges()}\n",
    "\n",
    "node_labels = dict([tuple(( n[0] , n[1]['label'] )) for n in g.nodes.data()])\n",
    "\n",
    "\n",
    "nx.draw_networkx_nodes(g, pos, node_size=node_size, node_color=node_colors, alpha=0.6)\n",
    "nx.draw_networkx_edges(g, pos, width=edge_size, alpha=0.02) # edgelist=ln, edge_color=c, \n",
    "nx.draw_networkx_labels(g, pos, labels=node_labels, alpha=0.7, font_size=10)\n",
    "#nx.draw_networkx_edge_labels(g, pos, edge_labels=edge_labels, alpha=0.7, font_size=10)\n",
    "\n",
    "alpha_n=0.5\n",
    "\n",
    "plt.legend(handles=[plt.Line2D([0], [0], marker='o', color='w', \n",
    "                        label=label, markerfacecolor=color, \n",
    "                        markersize=12, alpha=alpha_n\n",
    "                        )\n",
    "                        for label, color in color_map.items()\n",
    "                        if label in types_list ],\n",
    "                        loc='lower right', fontsize=12)\n",
    "\n",
    "\n",
    "### On peut augmenter ou diminuer ce paramètre pour ajuster le graphe\n",
    "plt.tight_layout(pad=60)\n",
    "pict_addr = pict_addr\n",
    "#plt.savefig(pict_addr)\n",
    "plt.show()\n",
    "plt.close()\n"
   ]
  }
 ],
 "metadata": {
  "kernelspec": {
   "display_name": "Python 3",
   "language": "python",
   "name": "python3"
  },
  "language_info": {
   "codemirror_mode": {
    "name": "ipython",
    "version": 3
   },
   "file_extension": ".py",
   "mimetype": "text/x-python",
   "name": "python",
   "nbconvert_exporter": "python",
   "pygments_lexer": "ipython3",
   "version": "3.11.9"
  }
 },
 "nbformat": 4,
 "nbformat_minor": 2
}

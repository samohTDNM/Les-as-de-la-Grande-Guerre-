{
 "cells": [
  {
   "cell_type": "markdown",
   "id": "9150426b-5190-4539-8204-61253a0f1bd4",
   "metadata": {},
   "source": [
    "# Distribution des naissances dans le temps \n",
    "\n",
    "Dans ce carnet est proposée une analyse de la distribution dans le temps des années de naissance de la population retenue, et la mise en évidence de générations.\n",
    "\n",
    "On met aussi en évidence l'évolution dans le temps des genres"
   ]
  },
  {
   "cell_type": "code",
   "execution_count": 84,
   "id": "231af92f-a7b1-479a-a734-0b8a9c0722e8",
   "metadata": {
    "tags": []
   },
   "outputs": [],
   "source": [
    "### Librairie à installer dans l'environnement conda (si on exécute en local)\n",
    "# qui sera choisi pour exécuter le carnet\n",
    "from SPARQLWrapper import SPARQLWrapper, JSON, TURTLE, XML, RDFXML\n",
    "import pandas as pd\n",
    "\n",
    "import matplotlib.pyplot as plt\n",
    "import numpy as np"
   ]
  },
  {
   "cell_type": "code",
   "execution_count": 85,
   "id": "e6ce0f0e-db36-47cd-8015-a5bf33f0f7fa",
   "metadata": {
    "tags": []
   },
   "outputs": [],
   "source": [
    "### Librairies déjà installées avec Python\n",
    "import pprint\n",
    "import csv\n",
    "import sys\n",
    "\n",
    "import sqlite3 as sql\n",
    "\n",
    "import time\n",
    "import datetime\n",
    "from dateutil import parser\n",
    "\n",
    "from importlib import reload\n",
    "from shutil import copyfile\n"
   ]
  },
  {
   "cell_type": "code",
   "execution_count": 86,
   "id": "9b90838d-2160-49e3-8adb-a67ff2cd112e",
   "metadata": {},
   "outputs": [],
   "source": [
    "### Importer un module de fonctions crées ad hoc\n",
    "##  ATTENTION : le fichier 'sparql_functions.py' doit se trouver \n",
    "#   dans un dossier qui se situe dans le chemin ('path') de recherche\n",
    "#   vu par le présent carnet Jupyter afin que\n",
    "#   l'importation fonctionne correctement\n",
    "\n",
    "# Add parent directory to the path\n",
    "sys.path.insert(0, '..')\n",
    "\n",
    "### If you want to add the parent-parent directory,\n",
    "sys.path.insert(0, '../..')\n",
    "\n",
    "\n",
    "import sparql_functions as spqf"
   ]
  },
  {
   "cell_type": "markdown",
   "id": "3fe8665b-f64c-42bb-8786-4aee3673867c",
   "metadata": {},
   "source": [
    "## SPARQL Query qui récupère les données\n",
    "\n",
    "On exécute la requête grâce à une fonction de la librairie locale qui réalise la mise en forme"
   ]
  },
  {
   "cell_type": "code",
   "execution_count": 87,
   "id": "cf08874b-9ba0-4f5c-8eee-aebd9f0d0d26",
   "metadata": {},
   "outputs": [],
   "source": [
    "## define SPARQL enpoint\n",
    "endpoint = \"https://ag1gha303ygjmx4r.allegrograph.cloud/repositories/As-de-la-Guerre\""
   ]
  },
  {
   "cell_type": "code",
   "execution_count": 88,
   "id": "164e80e8-1834-473a-a605-a3c1a660eff3",
   "metadata": {},
   "outputs": [],
   "source": [
    "query = \"\"\"\n",
    "PREFIX wd:   <http://www.wikidata.org/entity/>\n",
    "PREFIX wdt:  <http://www.wikidata.org/prop/direct/>\n",
    "PREFIX rdfs: <http://www.w3.org/2000/01/rdf-schema#>\n",
    "PREFIX xsd:  <http://www.w3.org/2001/XMLSchema#>\n",
    "PREFIX ex:   <http://example.org/schema/>\n",
    "\n",
    "SELECT ?ace\n",
    "       (SAMPLE(?label) AS ?aceLabel)\n",
    "       (SAMPLE(?allegLabel) AS ?allegiance)\n",
    "       (SAMPLE(?awardDate) AS ?awardDate)\n",
    "       (SAMPLE(?awardYearRaw) AS ?awardYear)\n",
    "       (SAMPLE(?awardCountryLabel) AS ?awardCountry)\n",
    "WHERE {\n",
    "  GRAPH <https://github.com/samohTDNM/as-ww1/blob/main/docs/wikidata-import.md> {\n",
    "    ?ace rdfs:label ?label ;\n",
    "         wdt:P106 wd:Q2095549 ;\n",
    "         wdt:P945 ?alleg ;\n",
    "         ex:awardDate ?awardDate .\n",
    "\n",
    "         FILTER(REGEX(STR(?awardDate), \"^[0-9]{4}-[0-9]{2}-[0-9]{2}\"))\n",
    "\n",
    "         \n",
    "    ?alleg rdfs:label ?allegLabel .\n",
    "    \n",
    "    OPTIONAL {\n",
    "      ?ace wdt:P166 ?award .\n",
    "      ?award wdt:P17 ?awardCountry .\n",
    "      ?awardCountry rdfs:label ?awardCountryLabel .\n",
    "    }\n",
    "    BIND(xsd:integer(SUBSTR(STR(?awardDate), 1, 4)) AS ?awardYearRaw)\n",
    "  }\n",
    "}\n",
    "GROUP BY ?ace\n",
    "ORDER BY ?awardYear\n",
    "\"\"\""
   ]
  },
  {
   "cell_type": "code",
   "execution_count": 89,
   "id": "70f2370f-e287-404f-ba7b-aaf79021047e",
   "metadata": {},
   "outputs": [],
   "source": [
    "### Executer la requête avec les fonctions de la librairie locale\n",
    "qr = spqf.get_json_sparql_result(endpoint,query)"
   ]
  },
  {
   "cell_type": "code",
   "execution_count": 90,
   "id": "21bfd9f5-4c63-4b8c-af10-f9ddec203db2",
   "metadata": {},
   "outputs": [
    {
     "name": "stdout",
     "output_type": "stream",
     "text": [
      "139\n"
     ]
    },
    {
     "data": {
      "text/plain": [
       "[['http://www.wikidata.org/entity/Q22920866',\n",
       "  'Louis Robert Lebaudy',\n",
       "  'France',\n",
       "  '1901-01-01T00:00:00Z',\n",
       "  '1901',\n",
       "  'France'],\n",
       " ['http://www.wikidata.org/entity/Q942567',\n",
       "  'Amédée Thubé',\n",
       "  'France',\n",
       "  '1912-01-01T00:00:00Z',\n",
       "  '1912',\n",
       "  'France'],\n",
       " ['http://www.wikidata.org/entity/Q10933676',\n",
       "  'Henri Brégi',\n",
       "  'France',\n",
       "  '1912-04-27T00:00:00Z',\n",
       "  '1912',\n",
       "  'France']]"
      ]
     },
     "execution_count": 90,
     "metadata": {},
     "output_type": "execute_result"
    }
   ],
   "source": [
    "r = [l for l in spqf.sparql_result_to_list(qr)]\n",
    "print(len(r))\n",
    "r[:3]"
   ]
  },
  {
   "cell_type": "code",
   "execution_count": 91,
   "id": "236bbba5-a4df-4a7b-b215-44c9bc3f355f",
   "metadata": {},
   "outputs": [
    {
     "data": {
      "text/html": [
       "<div>\n",
       "<style scoped>\n",
       "    .dataframe tbody tr th:only-of-type {\n",
       "        vertical-align: middle;\n",
       "    }\n",
       "\n",
       "    .dataframe tbody tr th {\n",
       "        vertical-align: top;\n",
       "    }\n",
       "\n",
       "    .dataframe thead th {\n",
       "        text-align: right;\n",
       "    }\n",
       "</style>\n",
       "<table border=\"1\" class=\"dataframe\">\n",
       "  <thead>\n",
       "    <tr style=\"text-align: right;\">\n",
       "      <th></th>\n",
       "      <th>personUri</th>\n",
       "      <th>personLabel</th>\n",
       "      <th>allegiance</th>\n",
       "      <th>awardDate</th>\n",
       "      <th>awardYear</th>\n",
       "      <th>awardCountry</th>\n",
       "    </tr>\n",
       "  </thead>\n",
       "  <tbody>\n",
       "    <tr>\n",
       "      <th>0</th>\n",
       "      <td>http://www.wikidata.org/entity/Q22920866</td>\n",
       "      <td>Louis Robert Lebaudy</td>\n",
       "      <td>France</td>\n",
       "      <td>1901-01-01T00:00:00Z</td>\n",
       "      <td>1901</td>\n",
       "      <td>France</td>\n",
       "    </tr>\n",
       "    <tr>\n",
       "      <th>1</th>\n",
       "      <td>http://www.wikidata.org/entity/Q942567</td>\n",
       "      <td>Amédée Thubé</td>\n",
       "      <td>France</td>\n",
       "      <td>1912-01-01T00:00:00Z</td>\n",
       "      <td>1912</td>\n",
       "      <td>France</td>\n",
       "    </tr>\n",
       "    <tr>\n",
       "      <th>2</th>\n",
       "      <td>http://www.wikidata.org/entity/Q10933676</td>\n",
       "      <td>Henri Brégi</td>\n",
       "      <td>France</td>\n",
       "      <td>1912-04-27T00:00:00Z</td>\n",
       "      <td>1912</td>\n",
       "      <td>France</td>\n",
       "    </tr>\n",
       "    <tr>\n",
       "      <th>3</th>\n",
       "      <td>http://www.wikidata.org/entity/Q77139</td>\n",
       "      <td>Robert Ritter von Greim</td>\n",
       "      <td>Germany</td>\n",
       "      <td>1912-03-01T00:00:00Z</td>\n",
       "      <td>1912</td>\n",
       "      <td></td>\n",
       "    </tr>\n",
       "    <tr>\n",
       "      <th>4</th>\n",
       "      <td>http://www.wikidata.org/entity/Q90765</td>\n",
       "      <td>Max Ritter von Müller</td>\n",
       "      <td>German Empire</td>\n",
       "      <td>1914-04-14T00:00:00Z</td>\n",
       "      <td>1914</td>\n",
       "      <td></td>\n",
       "    </tr>\n",
       "  </tbody>\n",
       "</table>\n",
       "</div>"
      ],
      "text/plain": [
       "                                  personUri              personLabel  \\\n",
       "0  http://www.wikidata.org/entity/Q22920866     Louis Robert Lebaudy   \n",
       "1    http://www.wikidata.org/entity/Q942567             Amédée Thubé   \n",
       "2  http://www.wikidata.org/entity/Q10933676              Henri Brégi   \n",
       "3     http://www.wikidata.org/entity/Q77139  Robert Ritter von Greim   \n",
       "4     http://www.wikidata.org/entity/Q90765    Max Ritter von Müller   \n",
       "\n",
       "      allegiance             awardDate awardYear awardCountry  \n",
       "0         France  1901-01-01T00:00:00Z      1901       France  \n",
       "1         France  1912-01-01T00:00:00Z      1912       France  \n",
       "2         France  1912-04-27T00:00:00Z      1912       France  \n",
       "3        Germany  1912-03-01T00:00:00Z      1912               \n",
       "4  German Empire  1914-04-14T00:00:00Z      1914               "
      ]
     },
     "execution_count": 91,
     "metadata": {},
     "output_type": "execute_result"
    }
   ],
   "source": [
    "df_awards = pd.DataFrame(r)\n",
    "df_awards.columns = [\n",
    "    'personUri',\n",
    "    'personLabel',\n",
    "    'allegiance',\n",
    "    'awardDate',\n",
    "    'awardYear',\n",
    "    'awardCountry'\n",
    "]\n",
    "df_awards.head()\n",
    "\n",
    "\n"
   ]
  },
  {
   "cell_type": "code",
   "execution_count": 92,
   "id": "eb664e6b-7fd0-4757-8bff-db79a0d52f97",
   "metadata": {
    "tags": []
   },
   "outputs": [
    {
     "name": "stdout",
     "output_type": "stream",
     "text": [
      "<class 'pandas.core.frame.DataFrame'>\n",
      "RangeIndex: 139 entries, 0 to 138\n",
      "Data columns (total 6 columns):\n",
      " #   Column        Non-Null Count  Dtype \n",
      "---  ------        --------------  ----- \n",
      " 0   personUri     139 non-null    object\n",
      " 1   personLabel   139 non-null    object\n",
      " 2   allegiance    139 non-null    object\n",
      " 3   awardDate     139 non-null    object\n",
      " 4   awardYear     139 non-null    object\n",
      " 5   awardCountry  139 non-null    object\n",
      "dtypes: object(6)\n",
      "memory usage: 6.6+ KB\n"
     ]
    }
   ],
   "source": [
    "df_awards.info()"
   ]
  },
  {
   "cell_type": "markdown",
   "id": "4912fbea-fc0a-443c-a015-034431fbf194",
   "metadata": {},
   "source": [
    "### Vérifier les nationalités présentes directement sur la base de données\n",
    "\n",
    "\n",
    "Voir les requêtes correspondantes dans le [SPARQL notebook qui créé la population](../../sparqlbooks/wikidata_import_population.sparqlbook)"
   ]
  },
  {
   "cell_type": "markdown",
   "id": "2de05023-549c-4de3-8dd8-1c78afaf6227",
   "metadata": {},
   "source": [
    "### Ajouter une colonne au DataFrame avec l'allégeance nettoyée et l'origine des awards"
   ]
  },
  {
   "cell_type": "code",
   "execution_count": 93,
   "id": "9150b748",
   "metadata": {},
   "outputs": [],
   "source": [
    "# on créer une fonction que l'on peut appliquer aux deux\n",
    "def clean_country_label(series, mapping):\n",
    "    return series.str.strip().replace(mapping)"
   ]
  },
  {
   "cell_type": "code",
   "execution_count": 94,
   "id": "949b06f2",
   "metadata": {},
   "outputs": [],
   "source": [
    "# la fonction, voir autres notebooks\n",
    "country_clean_map = {\n",
    "    \"Kingdom of Italy\": \"Italy\",\n",
    "    \"Italy\": \"Italy\",\n",
    "    \"United Kingdom of Great Britain and Ireland\": \"United Kingdom\",\n",
    "    \"United Kingdom\": \"United Kingdom\",\n",
    "    \"British Empire\": \"United Kingdom\",\n",
    "    \"Germany\": \"Germany\",\n",
    "    \"German Empire\": \"Germany\",\n",
    "    \"German Reich\": \"Germany\",\n",
    "    \"Nazi Germany\": \"Germany\",\n",
    "    \"Austria-Hungary\": \"Austria-Hungary\",\n",
    "    \"Austria–Hungary\": \"Austria-Hungary\",\n",
    "    \"Austria\": \"Austria-Hungary\",\n",
    "    \"Second Polish Republic\": \"Poland\",\n",
    "    \"Kingdom of Romania\": \"Romania\",\n",
    "    \"Kingdom of Hungary\": \"Hungary\",\n",
    "    \"Hungary\": \"Hungary\",\n",
    "    \"Russian Empire\": \"Russia\",\n",
    "    \"Soviet Union\": \"Russia\",\n",
    "}\n",
    "\n",
    "# on applique aux deux\n",
    "df_awards['allegiance_clean'] = clean_country_label(df_awards['allegiance'], country_clean_map)\n",
    "df_awards['awardCountry_clean'] = clean_country_label(df_awards['awardCountry'], country_clean_map)\n",
    "\n"
   ]
  },
  {
   "cell_type": "code",
   "execution_count": 95,
   "id": "2d04f7a3",
   "metadata": {},
   "outputs": [
    {
     "name": "stdout",
     "output_type": "stream",
     "text": [
      "   allegiance_clean  effectif\n",
      "5            France        57\n",
      "14    United States        28\n",
      "6           Germany        16\n",
      "13   United Kingdom         9\n",
      "11           Russia         6\n",
      "9            Poland         5\n",
      "0         Australia         5\n",
      "3            Canada         3\n",
      "7             Italy         3\n",
      "4    Czechoslovakia         1\n",
      "1   Austria-Hungary         1\n",
      "2            Brazil         1\n",
      "10          Romania         1\n",
      "8            Norway         1\n",
      "12           Sweden         1\n",
      "15            Wales         1\n"
     ]
    }
   ],
   "source": [
    "\n",
    "df_awards_allegiance_clean = df_awards.groupby('allegiance_clean').size().reset_index(name='effectif')\n",
    "\n",
    "df_awards_allegiance_clean = df_awards_allegiance_clean.sort_values('effectif', ascending=False)\n",
    "\n",
    "print(df_awards_allegiance_clean.head(30))\n",
    "\n"
   ]
  },
  {
   "cell_type": "markdown",
   "id": "c741c989-50ea-4f3d-a28d-89959d2c739a",
   "metadata": {},
   "source": [
    "## Effectifs par année"
   ]
  },
  {
   "cell_type": "code",
   "execution_count": 96,
   "id": "136263a8-722c-460e-bcc0-1aef61051025",
   "metadata": {},
   "outputs": [
    {
     "name": "stdout",
     "output_type": "stream",
     "text": [
      "<class 'pandas.core.series.Series'>\n",
      "RangeIndex: 139 entries, 0 to 138\n",
      "Series name: awardYear\n",
      "Non-Null Count  Dtype \n",
      "--------------  ----- \n",
      "139 non-null    object\n",
      "dtypes: object(1)\n",
      "memory usage: 1.2+ KB\n"
     ]
    }
   ],
   "source": [
    "### On inspecte les valeurs de la colonne 'awardYear' \n",
    "# et on observe que le type de données est 'object', ici texte\n",
    "df_awards['awardYear'].info()\n"
   ]
  },
  {
   "cell_type": "code",
   "execution_count": 97,
   "id": "fc39e9a0-2c3b-4fe5-be24-603b6a61a566",
   "metadata": {},
   "outputs": [],
   "source": [
    "### On transforme le type de valeur de la colonne BirthYear\n",
    "# de objet à entier\n",
    "df_awards['awardYear'] = df_awards['awardYear'].astype(int)\n"
   ]
  },
  {
   "cell_type": "code",
   "execution_count": 98,
   "id": "d9f288a0-21e0-45f3-82d6-77e480ad9731",
   "metadata": {},
   "outputs": [
    {
     "data": {
      "text/html": [
       "<div>\n",
       "<style scoped>\n",
       "    .dataframe tbody tr th:only-of-type {\n",
       "        vertical-align: middle;\n",
       "    }\n",
       "\n",
       "    .dataframe tbody tr th {\n",
       "        vertical-align: top;\n",
       "    }\n",
       "\n",
       "    .dataframe thead th {\n",
       "        text-align: right;\n",
       "    }\n",
       "</style>\n",
       "<table border=\"1\" class=\"dataframe\">\n",
       "  <thead>\n",
       "    <tr style=\"text-align: right;\">\n",
       "      <th></th>\n",
       "      <th>year</th>\n",
       "      <th>effectif</th>\n",
       "    </tr>\n",
       "  </thead>\n",
       "  <tbody>\n",
       "    <tr>\n",
       "      <th>0</th>\n",
       "      <td>1901</td>\n",
       "      <td>1</td>\n",
       "    </tr>\n",
       "    <tr>\n",
       "      <th>1</th>\n",
       "      <td>1912</td>\n",
       "      <td>3</td>\n",
       "    </tr>\n",
       "    <tr>\n",
       "      <th>2</th>\n",
       "      <td>1914</td>\n",
       "      <td>4</td>\n",
       "    </tr>\n",
       "    <tr>\n",
       "      <th>3</th>\n",
       "      <td>1915</td>\n",
       "      <td>5</td>\n",
       "    </tr>\n",
       "    <tr>\n",
       "      <th>4</th>\n",
       "      <td>1916</td>\n",
       "      <td>4</td>\n",
       "    </tr>\n",
       "    <tr>\n",
       "      <th>...</th>\n",
       "      <td>...</td>\n",
       "      <td>...</td>\n",
       "    </tr>\n",
       "    <tr>\n",
       "      <th>58</th>\n",
       "      <td>1986</td>\n",
       "      <td>1</td>\n",
       "    </tr>\n",
       "    <tr>\n",
       "      <th>59</th>\n",
       "      <td>1987</td>\n",
       "      <td>1</td>\n",
       "    </tr>\n",
       "    <tr>\n",
       "      <th>60</th>\n",
       "      <td>1989</td>\n",
       "      <td>2</td>\n",
       "    </tr>\n",
       "    <tr>\n",
       "      <th>61</th>\n",
       "      <td>1997</td>\n",
       "      <td>1</td>\n",
       "    </tr>\n",
       "    <tr>\n",
       "      <th>62</th>\n",
       "      <td>1998</td>\n",
       "      <td>1</td>\n",
       "    </tr>\n",
       "  </tbody>\n",
       "</table>\n",
       "<p>63 rows × 2 columns</p>\n",
       "</div>"
      ],
      "text/plain": [
       "    year  effectif\n",
       "0   1901         1\n",
       "1   1912         3\n",
       "2   1914         4\n",
       "3   1915         5\n",
       "4   1916         4\n",
       "..   ...       ...\n",
       "58  1986         1\n",
       "59  1987         1\n",
       "60  1989         2\n",
       "61  1997         1\n",
       "62  1998         1\n",
       "\n",
       "[63 rows x 2 columns]"
      ]
     },
     "execution_count": 98,
     "metadata": {},
     "output_type": "execute_result"
    }
   ],
   "source": [
    "### On transforme en DataFrame le résultat du regroupement par année\n",
    "award_years_count = pd.DataFrame(df_awards[df_awards['awardYear'] < 2001].groupby('awardYear').size())\\\n",
    "                        .reset_index(drop=False)\n",
    "award_years_count.columns = ['year', 'effectif']\n",
    "award_years_count"
   ]
  },
  {
   "cell_type": "code",
   "execution_count": 99,
   "id": "7fdc507e-f074-4c4a-bda5-ca2a6c69f387",
   "metadata": {},
   "outputs": [
    {
     "data": {
      "image/png": "[encoded data removed]",
      "text/plain": [
       "<Figure size 1600x800 with 1 Axes>"
      ]
     },
     "metadata": {},
     "output_type": "display_data"
    }
   ],
   "source": [
    "### Représentation graphique des effectifs par année\n",
    "\n",
    "ax = award_years_count.plot(\n",
    "    x='year',\n",
    "    y='effectif',\n",
    "    kind='bar',\n",
    "    rot=60,\n",
    "    fontsize=8,\n",
    "    figsize=(16, 8)\n",
    ")\n",
    "\n",
    "max_xticks = 20\n",
    "xloc = plt.MaxNLocator(max_xticks)\n",
    "ax.xaxis.set_major_locator(xloc)\n",
    "\n",
    "plt.ylabel('Effectif')\n",
    "plt.xlabel('Années')\n",
    "plt.title(\"Nombre de décorations par année\")\n",
    "plt.show()"
   ]
  },
  {
   "cell_type": "markdown",
   "id": "ab845937-6017-44df-bec9-d78867a706a2",
   "metadata": {},
   "source": [
    "## Regrouper les effectifs par périodes de 5 ans\n",
    "Cette étape de facilement distinguer si les awards received de wikidata correspondent majoritairement à des décorations décérnées pendant le conflit ou non. "
   ]
  },
  {
   "cell_type": "code",
   "execution_count": 100,
   "id": "dcd067cb-f58d-44a1-bdb6-991bbcc3811c",
   "metadata": {},
   "outputs": [],
   "source": [
    "### Créer une copie indépendante du DataFrame (attention aux copies de variables qui sont seulement des alias) \n",
    "cdf_awards = df_awards[df_awards['awardYear'] < 2001].copy(deep=True)\n"
   ]
  },
  {
   "cell_type": "code",
   "execution_count": 101,
   "id": "f7002b54-5b9a-41ff-b207-3d209bfea3b2",
   "metadata": {},
   "outputs": [
    {
     "data": {
      "text/html": [
       "<div>\n",
       "<style scoped>\n",
       "    .dataframe tbody tr th:only-of-type {\n",
       "        vertical-align: middle;\n",
       "    }\n",
       "\n",
       "    .dataframe tbody tr th {\n",
       "        vertical-align: top;\n",
       "    }\n",
       "\n",
       "    .dataframe thead th {\n",
       "        text-align: right;\n",
       "    }\n",
       "</style>\n",
       "<table border=\"1\" class=\"dataframe\">\n",
       "  <thead>\n",
       "    <tr style=\"text-align: right;\">\n",
       "      <th></th>\n",
       "      <th>personUri</th>\n",
       "      <th>personLabel</th>\n",
       "      <th>allegiance</th>\n",
       "      <th>awardDate</th>\n",
       "      <th>awardYear</th>\n",
       "      <th>awardCountry</th>\n",
       "      <th>allegiance_clean</th>\n",
       "      <th>awardCountry_clean</th>\n",
       "    </tr>\n",
       "  </thead>\n",
       "  <tbody>\n",
       "    <tr>\n",
       "      <th>0</th>\n",
       "      <td>http://www.wikidata.org/entity/Q22920866</td>\n",
       "      <td>Louis Robert Lebaudy</td>\n",
       "      <td>France</td>\n",
       "      <td>1901-01-01T00:00:00Z</td>\n",
       "      <td>1901</td>\n",
       "      <td>France</td>\n",
       "      <td>France</td>\n",
       "      <td>France</td>\n",
       "    </tr>\n",
       "    <tr>\n",
       "      <th>1</th>\n",
       "      <td>http://www.wikidata.org/entity/Q942567</td>\n",
       "      <td>Amédée Thubé</td>\n",
       "      <td>France</td>\n",
       "      <td>1912-01-01T00:00:00Z</td>\n",
       "      <td>1912</td>\n",
       "      <td>France</td>\n",
       "      <td>France</td>\n",
       "      <td>France</td>\n",
       "    </tr>\n",
       "    <tr>\n",
       "      <th>2</th>\n",
       "      <td>http://www.wikidata.org/entity/Q10933676</td>\n",
       "      <td>Henri Brégi</td>\n",
       "      <td>France</td>\n",
       "      <td>1912-04-27T00:00:00Z</td>\n",
       "      <td>1912</td>\n",
       "      <td>France</td>\n",
       "      <td>France</td>\n",
       "      <td>France</td>\n",
       "    </tr>\n",
       "  </tbody>\n",
       "</table>\n",
       "</div>"
      ],
      "text/plain": [
       "                                  personUri           personLabel allegiance  \\\n",
       "0  http://www.wikidata.org/entity/Q22920866  Louis Robert Lebaudy     France   \n",
       "1    http://www.wikidata.org/entity/Q942567          Amédée Thubé     France   \n",
       "2  http://www.wikidata.org/entity/Q10933676           Henri Brégi     France   \n",
       "\n",
       "              awardDate  awardYear awardCountry allegiance_clean  \\\n",
       "0  1901-01-01T00:00:00Z       1901       France           France   \n",
       "1  1912-01-01T00:00:00Z       1912       France           France   \n",
       "2  1912-04-27T00:00:00Z       1912       France           France   \n",
       "\n",
       "  awardCountry_clean  \n",
       "0             France  \n",
       "1             France  \n",
       "2             France  "
      ]
     },
     "execution_count": 101,
     "metadata": {},
     "output_type": "execute_result"
    }
   ],
   "source": [
    "cdf_awards.head(3)"
   ]
  },
  {
   "cell_type": "code",
   "execution_count": 102,
   "id": "15117967-9901-423a-a898-d5b710399439",
   "metadata": {},
   "outputs": [
    {
     "name": "stdout",
     "output_type": "stream",
     "text": [
      "1901 1998\n"
     ]
    }
   ],
   "source": [
    "### Année minimale et maximale dans les award dates\n",
    "print(min(cdf_awards['awardYear']), max(cdf_awards['awardYear']))"
   ]
  },
  {
   "cell_type": "markdown",
   "id": "c60b84a9-99a7-46b0-8ae9-11bf26128fe7",
   "metadata": {},
   "source": [
    "### Codage par période de cinq ans"
   ]
  },
  {
   "cell_type": "code",
   "execution_count": 103,
   "id": "7c29f5c0-bf9f-444d-be57-2d39bf882e23",
   "metadata": {
    "tags": []
   },
   "outputs": [
    {
     "name": "stdout",
     "output_type": "stream",
     "text": [
      "[1900, 1905, 1910, 1915, 1920] [1975, 1980, 1985, 1990, 1995]\n"
     ]
    }
   ],
   "source": [
    "### Créer une liste d'années pour séparer en périodes de 5 ans\n",
    "# noter que la dernière année sera exclue, \n",
    "# elle donc doit être supérieure à la valeur maximale \n",
    "l_5 = list(range(1900, 2000, 5))\n",
    "print(l_5[:5],l_5[-5:])"
   ]
  },
  {
   "cell_type": "code",
   "execution_count": 104,
   "id": "06ab381e-f317-4767-9790-a9fcbfcb1853",
   "metadata": {},
   "outputs": [
    {
     "data": {
      "text/html": [
       "<div>\n",
       "<style scoped>\n",
       "    .dataframe tbody tr th:only-of-type {\n",
       "        vertical-align: middle;\n",
       "    }\n",
       "\n",
       "    .dataframe tbody tr th {\n",
       "        vertical-align: top;\n",
       "    }\n",
       "\n",
       "    .dataframe thead th {\n",
       "        text-align: right;\n",
       "    }\n",
       "</style>\n",
       "<table border=\"1\" class=\"dataframe\">\n",
       "  <thead>\n",
       "    <tr style=\"text-align: right;\">\n",
       "      <th></th>\n",
       "      <th>personUri</th>\n",
       "      <th>personLabel</th>\n",
       "      <th>allegiance</th>\n",
       "      <th>awardDate</th>\n",
       "      <th>awardYear</th>\n",
       "      <th>awardCountry</th>\n",
       "      <th>allegiance_clean</th>\n",
       "      <th>awardCountry_clean</th>\n",
       "      <th>periodes</th>\n",
       "    </tr>\n",
       "  </thead>\n",
       "  <tbody>\n",
       "    <tr>\n",
       "      <th>0</th>\n",
       "      <td>http://www.wikidata.org/entity/Q22920866</td>\n",
       "      <td>Louis Robert Lebaudy</td>\n",
       "      <td>France</td>\n",
       "      <td>1901-01-01T00:00:00Z</td>\n",
       "      <td>1901</td>\n",
       "      <td>France</td>\n",
       "      <td>France</td>\n",
       "      <td>France</td>\n",
       "      <td>1900-1904</td>\n",
       "    </tr>\n",
       "    <tr>\n",
       "      <th>1</th>\n",
       "      <td>http://www.wikidata.org/entity/Q942567</td>\n",
       "      <td>Amédée Thubé</td>\n",
       "      <td>France</td>\n",
       "      <td>1912-01-01T00:00:00Z</td>\n",
       "      <td>1912</td>\n",
       "      <td>France</td>\n",
       "      <td>France</td>\n",
       "      <td>France</td>\n",
       "      <td>1910-1914</td>\n",
       "    </tr>\n",
       "    <tr>\n",
       "      <th>2</th>\n",
       "      <td>http://www.wikidata.org/entity/Q10933676</td>\n",
       "      <td>Henri Brégi</td>\n",
       "      <td>France</td>\n",
       "      <td>1912-04-27T00:00:00Z</td>\n",
       "      <td>1912</td>\n",
       "      <td>France</td>\n",
       "      <td>France</td>\n",
       "      <td>France</td>\n",
       "      <td>1910-1914</td>\n",
       "    </tr>\n",
       "  </tbody>\n",
       "</table>\n",
       "</div>"
      ],
      "text/plain": [
       "                                  personUri           personLabel allegiance  \\\n",
       "0  http://www.wikidata.org/entity/Q22920866  Louis Robert Lebaudy     France   \n",
       "1    http://www.wikidata.org/entity/Q942567          Amédée Thubé     France   \n",
       "2  http://www.wikidata.org/entity/Q10933676           Henri Brégi     France   \n",
       "\n",
       "              awardDate  awardYear awardCountry allegiance_clean  \\\n",
       "0  1901-01-01T00:00:00Z       1901       France           France   \n",
       "1  1912-01-01T00:00:00Z       1912       France           France   \n",
       "2  1912-04-27T00:00:00Z       1912       France           France   \n",
       "\n",
       "  awardCountry_clean   periodes  \n",
       "0             France  1900-1904  \n",
       "1             France  1910-1914  \n",
       "2             France  1910-1914  "
      ]
     },
     "execution_count": 104,
     "metadata": {},
     "output_type": "execute_result"
    }
   ],
   "source": [
    "### fonction pd.cut : https://pandas.pydata.org/pandas-docs/stable/reference/api/pandas.cut.html\n",
    "# On ajoute une nouvelle colonne qui contient la période sur la base de la liste précédente\n",
    "# et de la valeur de l'année\n",
    "\n",
    "cdf_awards['periodes'] = pd.cut(cdf_awards['awardYear'], l_5, right=False)\n",
    "\n",
    "### Transformer le code ajouté pour qu'il soit plus lisible\n",
    "# noter qu'on a arrondi les valeurs\n",
    "cdf_awards['periodes'] = cdf_awards['periodes'].apply(lambda x : str(int(x.left))+'-'+ str(int(x.right)-1))\n",
    "\n",
    "# Inspection\n",
    "cdf_awards.head(3)"
   ]
  },
  {
   "cell_type": "code",
   "execution_count": 105,
   "id": "4e943cfe-40d8-49c0-afa1-a55f964f657a",
   "metadata": {},
   "outputs": [
    {
     "name": "stderr",
     "output_type": "stream",
     "text": [
      "C:\\Users\\menou\\AppData\\Local\\Temp\\ipykernel_22868\\1798873715.py:2: FutureWarning: The default of observed=False is deprecated and will be changed to True in a future version of pandas. Pass observed=False to retain current behavior or observed=True to adopt the future default and silence this warning.\n",
      "  cdf_awards.groupby(by='periodes').size()\n"
     ]
    },
    {
     "data": {
      "text/plain": [
       "periodes\n",
       "1900-1904     1\n",
       "1905-1909     0\n",
       "1910-1914     7\n",
       "1915-1919    30\n",
       "1920-1924     9\n",
       "1925-1929     8\n",
       "1930-1934    12\n",
       "1935-1939    14\n",
       "1940-1944    12\n",
       "1945-1949    10\n",
       "1950-1954     3\n",
       "1955-1959     4\n",
       "1960-1964     2\n",
       "1965-1969     8\n",
       "1970-1974     4\n",
       "1975-1979     3\n",
       "1980-1984     3\n",
       "1985-1989     5\n",
       "1990-1994     0\n",
       "dtype: int64"
      ]
     },
     "execution_count": 105,
     "metadata": {},
     "output_type": "execute_result"
    }
   ],
   "source": [
    "### compter les naissances par périodes de 5 ans\n",
    "cdf_awards.groupby(by='periodes').size()"
   ]
  },
  {
   "cell_type": "code",
   "execution_count": 106,
   "id": "9a1dd793-210a-42c3-b68b-d0e1756277d1",
   "metadata": {},
   "outputs": [
    {
     "name": "stderr",
     "output_type": "stream",
     "text": [
      "C:\\Users\\menou\\AppData\\Local\\Temp\\ipykernel_22868\\1240986759.py:1: FutureWarning: The default of observed=False is deprecated and will be changed to True in a future version of pandas. Pass observed=False to retain current behavior or observed=True to adopt the future default and silence this warning.\n",
      "  ax = cdf_awards.groupby(by='periodes').size().plot(kind='bar',rot=60, fontsize=8, figsize=(16,8))\n"
     ]
    },
    {
     "data": {
      "image/png": "[encoded data removed]",
      "text/plain": [
       "<Figure size 1600x800 with 1 Axes>"
      ]
     },
     "metadata": {},
     "output_type": "display_data"
    }
   ],
   "source": [
    "ax = cdf_awards.groupby(by='periodes').size().plot(kind='bar',rot=60, fontsize=8, figsize=(16,8))\n",
    "plt.ylabel('Effectif')\n",
    "plt.xlabel('Périodes')\n",
    "plt.title('Décorations par périodes de cinq ans')\n",
    "plt.show()"
   ]
  },
  {
   "cell_type": "markdown",
   "id": "7d3da8ee-300d-4fb8-be6e-384e1e4186ef",
   "metadata": {},
   "source": [
    "## Ajouter la représentation des nationalités"
   ]
  },
  {
   "cell_type": "code",
   "execution_count": 107,
   "id": "e95d55b5",
   "metadata": {},
   "outputs": [
    {
     "name": "stderr",
     "output_type": "stream",
     "text": [
      "C:\\Users\\menou\\AppData\\Local\\Temp\\ipykernel_22868\\679900033.py:2: FutureWarning: The default of observed=False is deprecated and will be changed to True in a future version of pandas. Pass observed=False to retain current behavior or observed=True to adopt the future default and silence this warning.\n",
      "  country_fr = pd.DataFrame(cdf_awards[cdf_awards['allegiance_clean'] == 'France'].groupby('periodes').size())\n"
     ]
    },
    {
     "data": {
      "text/html": [
       "<div>\n",
       "<style scoped>\n",
       "    .dataframe tbody tr th:only-of-type {\n",
       "        vertical-align: middle;\n",
       "    }\n",
       "\n",
       "    .dataframe tbody tr th {\n",
       "        vertical-align: top;\n",
       "    }\n",
       "\n",
       "    .dataframe thead th {\n",
       "        text-align: right;\n",
       "    }\n",
       "</style>\n",
       "<table border=\"1\" class=\"dataframe\">\n",
       "  <thead>\n",
       "    <tr style=\"text-align: right;\">\n",
       "      <th></th>\n",
       "      <th>country_fr</th>\n",
       "    </tr>\n",
       "    <tr>\n",
       "      <th>periodes</th>\n",
       "      <th></th>\n",
       "    </tr>\n",
       "  </thead>\n",
       "  <tbody>\n",
       "    <tr>\n",
       "      <th>1970-1974</th>\n",
       "      <td>0</td>\n",
       "    </tr>\n",
       "    <tr>\n",
       "      <th>1975-1979</th>\n",
       "      <td>0</td>\n",
       "    </tr>\n",
       "    <tr>\n",
       "      <th>1980-1984</th>\n",
       "      <td>2</td>\n",
       "    </tr>\n",
       "    <tr>\n",
       "      <th>1985-1989</th>\n",
       "      <td>1</td>\n",
       "    </tr>\n",
       "    <tr>\n",
       "      <th>1990-1994</th>\n",
       "      <td>0</td>\n",
       "    </tr>\n",
       "  </tbody>\n",
       "</table>\n",
       "</div>"
      ],
      "text/plain": [
       "           country_fr\n",
       "periodes             \n",
       "1970-1974           0\n",
       "1975-1979           0\n",
       "1980-1984           2\n",
       "1985-1989           1\n",
       "1990-1994           0"
      ]
     },
     "execution_count": 107,
     "metadata": {},
     "output_type": "execute_result"
    }
   ],
   "source": [
    "### Regrouper et compter avec un fitre sur la nationalité française (FR)\n",
    "country_fr = pd.DataFrame(cdf_awards[cdf_awards['allegiance_clean'] == 'France'].groupby('periodes').size())\n",
    "country_fr.columns = ['country_fr']\n",
    "country_fr.tail()\n",
    "\n"
   ]
  },
  {
   "cell_type": "code",
   "execution_count": 108,
   "id": "17ae3b32-dc7c-4a5c-a2b8-b2f9c9886a5d",
   "metadata": {},
   "outputs": [
    {
     "name": "stdout",
     "output_type": "stream",
     "text": [
      "   allegiance_clean  effectif\n",
      "5            France        56\n",
      "14    United States        27\n",
      "6           Germany        16\n",
      "13   United Kingdom         9\n",
      "11           Russia         6\n",
      "9            Poland         5\n",
      "0         Australia         5\n",
      "3            Canada         3\n",
      "7             Italy         3\n",
      "4    Czechoslovakia         1\n"
     ]
    }
   ],
   "source": [
    "### Regrouper et compter les effectifs\n",
    "top10_allegiances = (\n",
    "    cdf_awards.groupby('allegiance_clean')\n",
    "         .size()\n",
    "         .reset_index(name='effectif')\n",
    "         .sort_values('effectif', ascending=False)\n",
    "         .head(10)\n",
    ")\n",
    "\n",
    "print(top10_allegiances)"
   ]
  },
  {
   "cell_type": "code",
   "execution_count": 109,
   "id": "fd7cc5e0-471f-469e-ae39-9365de7bfc18",
   "metadata": {},
   "outputs": [],
   "source": [
    "# on définit les alliances\n",
    "def code_alliances(allegiance_clean):\n",
    "    # Allies during WW1\n",
    "    allies = {\n",
    "        \"France\", \"Italy\", \"United States\", \"United Kingdom\",\n",
    "        \"Australia\", \"Canada\", \"New Zealand\", \"Belgium\",\n",
    "        \"Russian Empire\", \"Russia\", \"South Africa\", \"Ireland\",\n",
    "        \"Portugal\", \"Romania\", \"Serbia\"\n",
    "    }\n",
    "\n",
    "    # Central Powers during WW1\n",
    "    central_powers = {\n",
    "        \"Germany\", \"German Empire\", \"German Reich\", \"Nazi Germany\",\n",
    "        \"Austria-Hungary\", \"Austria\", \"Bulgaria\", \"Ottoman Empire\",\n",
    "        \"Kingdom of Saxony\", \"Kingdom of Prussia\", \"Hungary\", \"Kingdom of Bavaria\"\n",
    "    }\n",
    "\n",
    "    if allegiance_clean in allies:\n",
    "        return \"Allies\"\n",
    "    elif allegiance_clean in central_powers:\n",
    "        return \"Central Powers\"\n",
    "    else:\n",
    "        return \"Other\""
   ]
  },
  {
   "cell_type": "code",
   "execution_count": 110,
   "id": "633f4f6e",
   "metadata": {},
   "outputs": [],
   "source": [
    "cdf_awards['alliance'] = cdf_awards['allegiance_clean'].apply(code_alliances)\n"
   ]
  },
  {
   "cell_type": "code",
   "execution_count": 111,
   "id": "58c41c97",
   "metadata": {},
   "outputs": [
    {
     "name": "stdout",
     "output_type": "stream",
     "text": [
      "         alliance  effectif\n",
      "0          Allies       110\n",
      "1  Central Powers        17\n",
      "2           Other        10\n"
     ]
    }
   ],
   "source": [
    "# on regarde la distribution\n",
    "\n",
    "alliance_counts = (\n",
    "    cdf_awards['alliance']\n",
    "    .value_counts()\n",
    "    .reset_index(name='effectif')\n",
    "    .rename(columns={'index': 'alliance'})\n",
    ")\n",
    "\n",
    "print(alliance_counts)\n"
   ]
  },
  {
   "cell_type": "code",
   "execution_count": 112,
   "id": "9cac4be0",
   "metadata": {},
   "outputs": [],
   "source": [
    "# Group by birth decade and alliance\n",
    "cdf_awards['periodes'] = (cdf_awards['awardYear'] // 5) * 5\n",
    "\n",
    "merged = (\n",
    "    cdf_awards.groupby(['periodes', 'alliance'])\n",
    "    .size()\n",
    "    .unstack(fill_value=0)\n",
    ")\n",
    "\n",
    "merged.index = merged.index.map(str)\n"
   ]
  },
  {
   "cell_type": "code",
   "execution_count": 113,
   "id": "d188f96f-feca-464b-b338-f87e3c9cb23b",
   "metadata": {},
   "outputs": [
    {
     "data": {
      "image/png": "[encoded data removed]",
      "text/plain": [
       "<Figure size 2000x600 with 1 Axes>"
      ]
     },
     "metadata": {},
     "output_type": "display_data"
    }
   ],
   "source": [
    "### Documentation\n",
    "# https://pandas.pydata.org/pandas-docs/stable/reference/api/pandas.DataFrame.plot.bar.html\n",
    "ax = merged.plot.bar(\n",
    "    stacked=True,\n",
    "    rot=70,\n",
    "    fontsize=9,\n",
    "    figsize=(20, 6),\n",
    "    color=['#0055A4', '#FFCC00', '#CCCCCC'] \n",
    ")\n",
    "plt.title(\"Distribution des décorations par alliances et périodes\")\n",
    "plt.xlabel(\"Period\")\n",
    "plt.ylabel(\"Number of Aces\")\n",
    "plt.tight_layout()\n",
    "plt.show()"
   ]
  },
  {
   "cell_type": "markdown",
   "id": "ba5a7825-df2b-4e94-9f90-2ffb03267ee3",
   "metadata": {},
   "source": [
    "### Codage par période de deux ans\n",
    "\n",
    "Comme on voit bien dans le graphique précédent qu'il y a une période avec des effectifs importants, \n",
    "on restraint la période analysée et on affine avec un découpage par périodes de deux ans "
   ]
  },
  {
   "cell_type": "code",
   "execution_count": 114,
   "id": "999af2f6-438d-4dbb-91b5-ad4ee449c067",
   "metadata": {
    "tags": []
   },
   "outputs": [
    {
     "name": "stdout",
     "output_type": "stream",
     "text": [
      "[1900, 1902, 1904, 1906, 1908] [1990, 1992, 1994, 1996, 1998]\n"
     ]
    }
   ],
   "source": [
    "l_2 = list(range(1900, 2000, 2))\n",
    "print(l_2[:5],l_2[-5:])"
   ]
  },
  {
   "cell_type": "code",
   "execution_count": 115,
   "id": "59fbb2a2-39c4-404b-b1c0-10be66742fae",
   "metadata": {},
   "outputs": [
    {
     "data": {
      "text/html": [
       "<div>\n",
       "<style scoped>\n",
       "    .dataframe tbody tr th:only-of-type {\n",
       "        vertical-align: middle;\n",
       "    }\n",
       "\n",
       "    .dataframe tbody tr th {\n",
       "        vertical-align: top;\n",
       "    }\n",
       "\n",
       "    .dataframe thead th {\n",
       "        text-align: right;\n",
       "    }\n",
       "</style>\n",
       "<table border=\"1\" class=\"dataframe\">\n",
       "  <thead>\n",
       "    <tr style=\"text-align: right;\">\n",
       "      <th></th>\n",
       "      <th>personUri</th>\n",
       "      <th>personLabel</th>\n",
       "      <th>allegiance</th>\n",
       "      <th>awardDate</th>\n",
       "      <th>awardYear</th>\n",
       "      <th>awardCountry</th>\n",
       "      <th>allegiance_clean</th>\n",
       "      <th>awardCountry_clean</th>\n",
       "      <th>periodes</th>\n",
       "      <th>alliance</th>\n",
       "      <th>per_2</th>\n",
       "    </tr>\n",
       "  </thead>\n",
       "  <tbody>\n",
       "    <tr>\n",
       "      <th>0</th>\n",
       "      <td>http://www.wikidata.org/entity/Q22920866</td>\n",
       "      <td>Louis Robert Lebaudy</td>\n",
       "      <td>France</td>\n",
       "      <td>1901-01-01T00:00:00Z</td>\n",
       "      <td>1901</td>\n",
       "      <td>France</td>\n",
       "      <td>France</td>\n",
       "      <td>France</td>\n",
       "      <td>1900</td>\n",
       "      <td>Allies</td>\n",
       "      <td>1900-1901</td>\n",
       "    </tr>\n",
       "    <tr>\n",
       "      <th>1</th>\n",
       "      <td>http://www.wikidata.org/entity/Q942567</td>\n",
       "      <td>Amédée Thubé</td>\n",
       "      <td>France</td>\n",
       "      <td>1912-01-01T00:00:00Z</td>\n",
       "      <td>1912</td>\n",
       "      <td>France</td>\n",
       "      <td>France</td>\n",
       "      <td>France</td>\n",
       "      <td>1910</td>\n",
       "      <td>Allies</td>\n",
       "      <td>1912-1913</td>\n",
       "    </tr>\n",
       "    <tr>\n",
       "      <th>2</th>\n",
       "      <td>http://www.wikidata.org/entity/Q10933676</td>\n",
       "      <td>Henri Brégi</td>\n",
       "      <td>France</td>\n",
       "      <td>1912-04-27T00:00:00Z</td>\n",
       "      <td>1912</td>\n",
       "      <td>France</td>\n",
       "      <td>France</td>\n",
       "      <td>France</td>\n",
       "      <td>1910</td>\n",
       "      <td>Allies</td>\n",
       "      <td>1912-1913</td>\n",
       "    </tr>\n",
       "  </tbody>\n",
       "</table>\n",
       "</div>"
      ],
      "text/plain": [
       "                                  personUri           personLabel allegiance  \\\n",
       "0  http://www.wikidata.org/entity/Q22920866  Louis Robert Lebaudy     France   \n",
       "1    http://www.wikidata.org/entity/Q942567          Amédée Thubé     France   \n",
       "2  http://www.wikidata.org/entity/Q10933676           Henri Brégi     France   \n",
       "\n",
       "              awardDate  awardYear awardCountry allegiance_clean  \\\n",
       "0  1901-01-01T00:00:00Z       1901       France           France   \n",
       "1  1912-01-01T00:00:00Z       1912       France           France   \n",
       "2  1912-04-27T00:00:00Z       1912       France           France   \n",
       "\n",
       "  awardCountry_clean  periodes alliance      per_2  \n",
       "0             France      1900   Allies  1900-1901  \n",
       "1             France      1910   Allies  1912-1913  \n",
       "2             France      1910   Allies  1912-1913  "
      ]
     },
     "execution_count": 115,
     "metadata": {},
     "output_type": "execute_result"
    }
   ],
   "source": [
    "### Découpage tous les deux ans\n",
    "# fonction pd.cut : https://pandas.pydata.org/pandas-docs/stable/reference/api/pandas.cut.html\n",
    "\n",
    "cdf_awards['per_2'] = pd.cut(cdf_awards['awardYear'], l_2, right=False)\n",
    "\n",
    "### Transformer le code ajouté pour qu'il soit plus lisible\n",
    "# noter qu'on a arrondi les valeurs\n",
    "cdf_awards['per_2'] = cdf_awards['per_2'].apply(lambda x : str(int(x.left))+'-'+ str(int(x.right)-1))\n",
    "\n",
    "# Inspection\n",
    "cdf_awards.head(3)"
   ]
  },
  {
   "cell_type": "code",
   "execution_count": 116,
   "id": "1c28f1d0-f1e2-4dfc-9892-2b3204544f45",
   "metadata": {},
   "outputs": [
    {
     "name": "stderr",
     "output_type": "stream",
     "text": [
      "C:\\Users\\menou\\AppData\\Local\\Temp\\ipykernel_22868\\3436970391.py:5: FutureWarning: The default of observed=False is deprecated and will be changed to True in a future version of pandas. Pass observed=False to retain current behavior or observed=True to adopt the future default and silence this warning.\n",
      "  .groupby('per_2')\n"
     ]
    },
    {
     "data": {
      "text/html": [
       "<div>\n",
       "<style scoped>\n",
       "    .dataframe tbody tr th:only-of-type {\n",
       "        vertical-align: middle;\n",
       "    }\n",
       "\n",
       "    .dataframe tbody tr th {\n",
       "        vertical-align: top;\n",
       "    }\n",
       "\n",
       "    .dataframe thead th {\n",
       "        text-align: right;\n",
       "    }\n",
       "</style>\n",
       "<table border=\"1\" class=\"dataframe\">\n",
       "  <thead>\n",
       "    <tr style=\"text-align: right;\">\n",
       "      <th></th>\n",
       "      <th>Allies</th>\n",
       "    </tr>\n",
       "    <tr>\n",
       "      <th>per_2</th>\n",
       "      <th></th>\n",
       "    </tr>\n",
       "  </thead>\n",
       "  <tbody>\n",
       "    <tr>\n",
       "      <th>1988-1989</th>\n",
       "      <td>2</td>\n",
       "    </tr>\n",
       "    <tr>\n",
       "      <th>1990-1991</th>\n",
       "      <td>0</td>\n",
       "    </tr>\n",
       "    <tr>\n",
       "      <th>1992-1993</th>\n",
       "      <td>0</td>\n",
       "    </tr>\n",
       "    <tr>\n",
       "      <th>1994-1995</th>\n",
       "      <td>0</td>\n",
       "    </tr>\n",
       "    <tr>\n",
       "      <th>1996-1997</th>\n",
       "      <td>1</td>\n",
       "    </tr>\n",
       "  </tbody>\n",
       "</table>\n",
       "</div>"
      ],
      "text/plain": [
       "           Allies\n",
       "per_2            \n",
       "1988-1989       2\n",
       "1990-1991       0\n",
       "1992-1993       0\n",
       "1994-1995       0\n",
       "1996-1997       1"
      ]
     },
     "execution_count": 116,
     "metadata": {},
     "output_type": "execute_result"
    }
   ],
   "source": [
    "### On regroupe par nationalité comme ci-dessus\n",
    "\n",
    "allies_2 = pd.DataFrame(\n",
    "    cdf_awards[(cdf_awards['alliance'] == 'Allies') & (cdf_awards['awardYear'] > 1900)]\n",
    "    .groupby('per_2')\n",
    "    .size()\n",
    ")\n",
    "allies_2.columns = ['Allies']\n",
    "\n",
    "allies_2.tail()\n"
   ]
  },
  {
   "cell_type": "code",
   "execution_count": 117,
   "id": "0e28a9c3-ab14-40db-bf3a-469dbcb93500",
   "metadata": {},
   "outputs": [
    {
     "name": "stderr",
     "output_type": "stream",
     "text": [
      "C:\\Users\\menou\\AppData\\Local\\Temp\\ipykernel_22868\\4245059960.py:4: FutureWarning: The default of observed=False is deprecated and will be changed to True in a future version of pandas. Pass observed=False to retain current behavior or observed=True to adopt the future default and silence this warning.\n",
      "  .groupby('per_2')\n"
     ]
    },
    {
     "data": {
      "text/html": [
       "<div>\n",
       "<style scoped>\n",
       "    .dataframe tbody tr th:only-of-type {\n",
       "        vertical-align: middle;\n",
       "    }\n",
       "\n",
       "    .dataframe tbody tr th {\n",
       "        vertical-align: top;\n",
       "    }\n",
       "\n",
       "    .dataframe thead th {\n",
       "        text-align: right;\n",
       "    }\n",
       "</style>\n",
       "<table border=\"1\" class=\"dataframe\">\n",
       "  <thead>\n",
       "    <tr style=\"text-align: right;\">\n",
       "      <th></th>\n",
       "      <th>Central Powers</th>\n",
       "    </tr>\n",
       "    <tr>\n",
       "      <th>per_2</th>\n",
       "      <th></th>\n",
       "    </tr>\n",
       "  </thead>\n",
       "  <tbody>\n",
       "    <tr>\n",
       "      <th>1988-1989</th>\n",
       "      <td>0</td>\n",
       "    </tr>\n",
       "    <tr>\n",
       "      <th>1990-1991</th>\n",
       "      <td>0</td>\n",
       "    </tr>\n",
       "    <tr>\n",
       "      <th>1992-1993</th>\n",
       "      <td>0</td>\n",
       "    </tr>\n",
       "    <tr>\n",
       "      <th>1994-1995</th>\n",
       "      <td>0</td>\n",
       "    </tr>\n",
       "    <tr>\n",
       "      <th>1996-1997</th>\n",
       "      <td>0</td>\n",
       "    </tr>\n",
       "  </tbody>\n",
       "</table>\n",
       "</div>"
      ],
      "text/plain": [
       "           Central Powers\n",
       "per_2                    \n",
       "1988-1989               0\n",
       "1990-1991               0\n",
       "1992-1993               0\n",
       "1994-1995               0\n",
       "1996-1997               0"
      ]
     },
     "execution_count": 117,
     "metadata": {},
     "output_type": "execute_result"
    }
   ],
   "source": [
    "### Idem\n",
    "central_2 = pd.DataFrame(\n",
    "    cdf_awards[(cdf_awards['alliance'] == 'Central Powers') & (cdf_awards['awardYear'] > 1900)]\n",
    "    .groupby('per_2')\n",
    "    .size()\n",
    ")\n",
    "central_2.columns = ['Central Powers']\n",
    "\n",
    "central_2.tail()\n"
   ]
  },
  {
   "cell_type": "code",
   "execution_count": 118,
   "id": "d9653fcd",
   "metadata": {},
   "outputs": [
    {
     "name": "stderr",
     "output_type": "stream",
     "text": [
      "C:\\Users\\menou\\AppData\\Local\\Temp\\ipykernel_22868\\3062974497.py:3: FutureWarning: The default of observed=False is deprecated and will be changed to True in a future version of pandas. Pass observed=False to retain current behavior or observed=True to adopt the future default and silence this warning.\n",
      "  .groupby('per_2')\n"
     ]
    },
    {
     "data": {
      "text/html": [
       "<div>\n",
       "<style scoped>\n",
       "    .dataframe tbody tr th:only-of-type {\n",
       "        vertical-align: middle;\n",
       "    }\n",
       "\n",
       "    .dataframe tbody tr th {\n",
       "        vertical-align: top;\n",
       "    }\n",
       "\n",
       "    .dataframe thead th {\n",
       "        text-align: right;\n",
       "    }\n",
       "</style>\n",
       "<table border=\"1\" class=\"dataframe\">\n",
       "  <thead>\n",
       "    <tr style=\"text-align: right;\">\n",
       "      <th></th>\n",
       "      <th>Other</th>\n",
       "    </tr>\n",
       "    <tr>\n",
       "      <th>per_2</th>\n",
       "      <th></th>\n",
       "    </tr>\n",
       "  </thead>\n",
       "  <tbody>\n",
       "    <tr>\n",
       "      <th>1988-1989</th>\n",
       "      <td>0</td>\n",
       "    </tr>\n",
       "    <tr>\n",
       "      <th>1990-1991</th>\n",
       "      <td>0</td>\n",
       "    </tr>\n",
       "    <tr>\n",
       "      <th>1992-1993</th>\n",
       "      <td>0</td>\n",
       "    </tr>\n",
       "    <tr>\n",
       "      <th>1994-1995</th>\n",
       "      <td>0</td>\n",
       "    </tr>\n",
       "    <tr>\n",
       "      <th>1996-1997</th>\n",
       "      <td>0</td>\n",
       "    </tr>\n",
       "  </tbody>\n",
       "</table>\n",
       "</div>"
      ],
      "text/plain": [
       "           Other\n",
       "per_2           \n",
       "1988-1989      0\n",
       "1990-1991      0\n",
       "1992-1993      0\n",
       "1994-1995      0\n",
       "1996-1997      0"
      ]
     },
     "execution_count": 118,
     "metadata": {},
     "output_type": "execute_result"
    }
   ],
   "source": [
    "other_2 = pd.DataFrame(\n",
    "    cdf_awards[(cdf_awards['alliance'] == 'Other') & (cdf_awards['awardYear'] > 1900)]\n",
    "    .groupby('per_2')\n",
    "    .size()\n",
    ")\n",
    "other_2.columns = ['Other']\n",
    "\n",
    "other_2.tail()"
   ]
  },
  {
   "cell_type": "code",
   "execution_count": 119,
   "id": "ebcbeed3-851b-416e-9f30-d1251ac5e579",
   "metadata": {},
   "outputs": [
    {
     "data": {
      "text/html": [
       "<div>\n",
       "<style scoped>\n",
       "    .dataframe tbody tr th:only-of-type {\n",
       "        vertical-align: middle;\n",
       "    }\n",
       "\n",
       "    .dataframe tbody tr th {\n",
       "        vertical-align: top;\n",
       "    }\n",
       "\n",
       "    .dataframe thead th {\n",
       "        text-align: right;\n",
       "    }\n",
       "</style>\n",
       "<table border=\"1\" class=\"dataframe\">\n",
       "  <thead>\n",
       "    <tr style=\"text-align: right;\">\n",
       "      <th></th>\n",
       "      <th>Allies</th>\n",
       "      <th>Central Powers</th>\n",
       "      <th>Other</th>\n",
       "    </tr>\n",
       "    <tr>\n",
       "      <th>per_2</th>\n",
       "      <th></th>\n",
       "      <th></th>\n",
       "      <th></th>\n",
       "    </tr>\n",
       "  </thead>\n",
       "  <tbody>\n",
       "    <tr>\n",
       "      <th>1988-1989</th>\n",
       "      <td>2</td>\n",
       "      <td>0</td>\n",
       "      <td>0</td>\n",
       "    </tr>\n",
       "    <tr>\n",
       "      <th>1990-1991</th>\n",
       "      <td>0</td>\n",
       "      <td>0</td>\n",
       "      <td>0</td>\n",
       "    </tr>\n",
       "    <tr>\n",
       "      <th>1992-1993</th>\n",
       "      <td>0</td>\n",
       "      <td>0</td>\n",
       "      <td>0</td>\n",
       "    </tr>\n",
       "    <tr>\n",
       "      <th>1994-1995</th>\n",
       "      <td>0</td>\n",
       "      <td>0</td>\n",
       "      <td>0</td>\n",
       "    </tr>\n",
       "    <tr>\n",
       "      <th>1996-1997</th>\n",
       "      <td>1</td>\n",
       "      <td>0</td>\n",
       "      <td>0</td>\n",
       "    </tr>\n",
       "  </tbody>\n",
       "</table>\n",
       "</div>"
      ],
      "text/plain": [
       "           Allies  Central Powers  Other\n",
       "per_2                                   \n",
       "1988-1989       2               0      0\n",
       "1990-1991       0               0      0\n",
       "1992-1993       0               0      0\n",
       "1994-1995       0               0      0\n",
       "1996-1997       1               0      0"
      ]
     },
     "execution_count": 119,
     "metadata": {},
     "output_type": "execute_result"
    }
   ],
   "source": [
    "merged_2 = pd.concat([allies_2, central_2, other_2], axis=1).fillna(0)\n",
    "\n",
    "merged_2.tail()"
   ]
  },
  {
   "cell_type": "code",
   "execution_count": 120,
   "id": "ae8f6224-9c2b-47ce-ace0-c1d4a05c4869",
   "metadata": {},
   "outputs": [
    {
     "data": {
      "text/html": [
       "<div>\n",
       "<style scoped>\n",
       "    .dataframe tbody tr th:only-of-type {\n",
       "        vertical-align: middle;\n",
       "    }\n",
       "\n",
       "    .dataframe tbody tr th {\n",
       "        vertical-align: top;\n",
       "    }\n",
       "\n",
       "    .dataframe thead th {\n",
       "        text-align: right;\n",
       "    }\n",
       "</style>\n",
       "<table border=\"1\" class=\"dataframe\">\n",
       "  <thead>\n",
       "    <tr style=\"text-align: right;\">\n",
       "      <th></th>\n",
       "      <th>Allies</th>\n",
       "      <th>Central Powers</th>\n",
       "      <th>Other</th>\n",
       "      <th>tot</th>\n",
       "    </tr>\n",
       "    <tr>\n",
       "      <th>per_2</th>\n",
       "      <th></th>\n",
       "      <th></th>\n",
       "      <th></th>\n",
       "      <th></th>\n",
       "    </tr>\n",
       "  </thead>\n",
       "  <tbody>\n",
       "    <tr>\n",
       "      <th>1988-1989</th>\n",
       "      <td>2</td>\n",
       "      <td>0</td>\n",
       "      <td>0</td>\n",
       "      <td>2</td>\n",
       "    </tr>\n",
       "    <tr>\n",
       "      <th>1990-1991</th>\n",
       "      <td>0</td>\n",
       "      <td>0</td>\n",
       "      <td>0</td>\n",
       "      <td>0</td>\n",
       "    </tr>\n",
       "    <tr>\n",
       "      <th>1992-1993</th>\n",
       "      <td>0</td>\n",
       "      <td>0</td>\n",
       "      <td>0</td>\n",
       "      <td>0</td>\n",
       "    </tr>\n",
       "    <tr>\n",
       "      <th>1994-1995</th>\n",
       "      <td>0</td>\n",
       "      <td>0</td>\n",
       "      <td>0</td>\n",
       "      <td>0</td>\n",
       "    </tr>\n",
       "    <tr>\n",
       "      <th>1996-1997</th>\n",
       "      <td>1</td>\n",
       "      <td>0</td>\n",
       "      <td>0</td>\n",
       "      <td>1</td>\n",
       "    </tr>\n",
       "  </tbody>\n",
       "</table>\n",
       "</div>"
      ],
      "text/plain": [
       "           Allies  Central Powers  Other  tot\n",
       "per_2                                        \n",
       "1988-1989       2               0      0    2\n",
       "1990-1991       0               0      0    0\n",
       "1992-1993       0               0      0    0\n",
       "1994-1995       0               0      0    0\n",
       "1996-1997       1               0      0    1"
      ]
     },
     "execution_count": 120,
     "metadata": {},
     "output_type": "execute_result"
    }
   ],
   "source": [
    "### On transforme le type de valeur de l'index\n",
    "# et on ajoute une colonne avec le total\n",
    "merged_2.index = merged_2.index.map(str)\n",
    "\n",
    "merged_2['tot'] = merged_2['Allies'] + merged_2['Central Powers'] + merged_2['Other']\n",
    "merged_2.tail()"
   ]
  },
  {
   "cell_type": "code",
   "execution_count": 121,
   "id": "5569f274-e09d-4be4-a3bc-352f99d58997",
   "metadata": {},
   "outputs": [
    {
     "name": "stdout",
     "output_type": "stream",
     "text": [
      "[1.0, 0, 0, 0, 0, 0]\n"
     ]
    }
   ],
   "source": [
    "### On prépare les valeurs pour l'affichage des fréquences (proportion par rapport au total)\n",
    "\n",
    "# on regroupe les valeurs\n",
    "alliances_flat = (\n",
    "    merged_2['Allies'].tolist() +\n",
    "    merged_2['Central Powers'].tolist() +\n",
    "    merged_2['Other'].tolist()\n",
    ")\n",
    "\n",
    "totals = merged_2['tot'].tolist() * 3\n",
    "\n",
    "\n",
    "lp = [round(v / t, 2) if t > 0 else 0 for v, t in zip(alliances_flat, totals)]\n",
    "\n",
    "\n",
    "print(lp[:6])  "
   ]
  },
  {
   "cell_type": "code",
   "execution_count": 122,
   "id": "928a67b9-19f2-44e7-b4eb-7b20b534f73c",
   "metadata": {},
   "outputs": [
    {
     "data": {
      "image/png": "[encoded data removed]",
      "text/plain": [
       "<Figure size 2000x800 with 1 Axes>"
      ]
     },
     "metadata": {},
     "output_type": "display_data"
    }
   ],
   "source": [
    "### Graphique avec la distribution (proportion) par période de deux ans et pays\n",
    "\n",
    "ax = merged_2.plot.bar(\n",
    "    stacked=True,\n",
    "    y=['Allies', 'Central Powers', 'Other'],\n",
    "    rot=70,\n",
    "    fontsize=9,\n",
    "    figsize=(20, 8),\n",
    "    color=['#0055A4', '#FFCC00', '#CCCCCC']  \n",
    ")\n",
    "\n",
    "for bar, v in zip(ax.patches, lp): \n",
    "    ax.text(\n",
    "        bar.get_x() + bar.get_width() / 2,\n",
    "        bar.get_y() + bar.get_height() / 2,\n",
    "        v,\n",
    "        ha='center',\n",
    "        color='black',\n",
    "        weight='bold',\n",
    "        size=10\n",
    "    )\n",
    "\n",
    "plt.ylabel('Effectifs par période avec proportion des alliances')\n",
    "plt.xlabel('Périodes')\n",
    "plt.title(\"Distribution des décorations par période de 2 ans, proportion des alliances\")\n",
    "\n",
    "\n",
    "## On peut enregistrer l'image dans un fichier (noter le dossier créé préalablement)\n",
    "# qu'on pourra ensuite introduire dans un travail et commenter\n",
    "\n",
    "# Doc.: https://matplotlib.org/stable/api/_as_gen/matplotlib.pyplot.savefig.html\n",
    "plt.savefig('naissances_distribution_2ans_pays.jpg', bbox_inches='tight', pad_inches=0.2)\n",
    "plt.show()"
   ]
  },
  {
   "cell_type": "markdown",
   "id": "6322d228",
   "metadata": {},
   "source": [
    "## Analyse des données"
   ]
  },
  {
   "cell_type": "code",
   "execution_count": 126,
   "id": "a2cf6b9f",
   "metadata": {},
   "outputs": [
    {
     "name": "stdout",
     "output_type": "stream",
     "text": [
      "WW1: 34 (25.00%)\n",
      "Hors WW1: 102 (75.00%)\n"
     ]
    }
   ],
   "source": [
    "# on veut comparer les proportions des périodes de guerre par rapports aux autres\n",
    "ww1_periods = [\"1914-1915\", \"1916-1917\", \"1918-1919\"]\n",
    "\n",
    "ww1 = merged_2.loc[merged_2.index.isin(ww1_periods)]\n",
    "rest = merged_2.loc[~merged_2.index.isin(ww1_periods)]\n",
    "\n",
    "ww1_total = ww1['tot'].sum()\n",
    "rest_total = rest['tot'].sum()\n",
    "\n",
    "total = ww1_total + rest_total\n",
    "print(f\"WW1: {ww1_total} ({ww1_total / total:.2%})\")\n",
    "print(f\"Hors WW1: {rest_total} ({rest_total / total:.2%})\")\n"
   ]
  },
  {
   "cell_type": "code",
   "execution_count": 128,
   "id": "cb7b594a",
   "metadata": {},
   "outputs": [
    {
     "data": {
      "image/png": "[encoded data removed]",
      "text/plain": [
       "<Figure size 800x600 with 1 Axes>"
      ]
     },
     "metadata": {},
     "output_type": "display_data"
    }
   ],
   "source": [
    "compare_df = pd.DataFrame({\n",
    "    'période': ['Hors WW1', 'WW1'],\n",
    "    'effectif': [rest_total, ww1_total]\n",
    "})\n",
    "\n",
    "ax = compare_df.plot.bar(\n",
    "    x='période',\n",
    "    y='effectif',\n",
    "    color=['#CCCCCC', '#A83232'],\n",
    "    rot=0,\n",
    "    figsize=(8, 6)\n",
    ")\n",
    "\n",
    "total_all = rest_total + ww1_total\n",
    "props = [round(rest_total / total_all, 2), round(ww1_total / total_all, 2)]\n",
    "\n",
    "for bar, prop in zip(ax.patches, props):\n",
    "    ax.text(\n",
    "        bar.get_x() + bar.get_width() / 2,\n",
    "        bar.get_height() / 2,\n",
    "        f\"{prop:.2f}\",\n",
    "        ha='center',\n",
    "        va='center',\n",
    "        color='black',\n",
    "        weight='bold',\n",
    "        size=12\n",
    "    )\n",
    "\n",
    "plt.title(\"Proportion des décorations : WW1 vs. autres périodes\")\n",
    "plt.xlabel(\"Période\")\n",
    "plt.ylabel(\"Nombre total de décorations\")\n",
    "plt.tight_layout()\n",
    "plt.show()\n"
   ]
  },
  {
   "cell_type": "code",
   "execution_count": 134,
   "id": "3de18064",
   "metadata": {},
   "outputs": [
    {
     "name": "stdout",
     "output_type": "stream",
     "text": [
      "Le groupe 'WW1' comprend 3 périodes de 2 ans et équivaut à 25% des décorations décernées.\n",
      "Le groupe 'Hors WW1' comprend 46 périodes de 2 ans et équivaut à 75% des décorations décernées.\n"
     ]
    }
   ],
   "source": [
    "# On compte combien de période les deux catégories comprennent\n",
    "num_ww1_periods = merged_2.index.isin(ww1_periods).sum()\n",
    "num_rest_periods = len(merged_2) - num_ww1_periods\n",
    "\n",
    "total_awards = ww1_total + rest_total\n",
    "ww1_prop = round(ww1_total / total_awards * 100)\n",
    "rest_prop = round(rest_total / total_awards * 100)\n",
    "\n",
    "print(f\"Le groupe 'WW1' comprend {num_ww1_periods} périodes de 2 ans et équivaut à {ww1_prop}% des décorations décernées.\")\n",
    "print(f\"Le groupe 'Hors WW1' comprend {num_rest_periods} périodes de 2 ans et équivaut à {rest_prop}% des décorations décernées.\")\n"
   ]
  }
 ],
 "metadata": {
  "kernelspec": {
   "display_name": "Python 3",
   "language": "python",
   "name": "python3"
  },
  "language_info": {
   "codemirror_mode": {
    "name": "ipython",
    "version": 3
   },
   "file_extension": ".py",
   "mimetype": "text/x-python",
   "name": "python",
   "nbconvert_exporter": "python",
   "pygments_lexer": "ipython3",
   "version": "3.11.9"
  }
 },
 "nbformat": 4,
 "nbformat_minor": 5
}

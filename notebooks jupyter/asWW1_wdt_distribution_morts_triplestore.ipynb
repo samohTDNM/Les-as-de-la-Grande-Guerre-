{
 "cells": [
  {
   "cell_type": "markdown",
   "id": "9150426b-5190-4539-8204-61253a0f1bd4",
   "metadata": {},
   "source": [
    "# Distribution des naissances dans le temps \n",
    "\n",
    "Dans ce carnet est proposée une analyse de la distribution dans le temps des années de naissance de la population retenue, et la mise en évidence de générations.\n",
    "\n",
    "On met aussi en évidence l'évolution dans le temps des genres"
   ]
  },
  {
   "cell_type": "code",
   "execution_count": 18,
   "id": "231af92f-a7b1-479a-a734-0b8a9c0722e8",
   "metadata": {
    "tags": []
   },
   "outputs": [],
   "source": [
    "### Librairie à installer dans l'environnement conda (si on exécute en local)\n",
    "# qui sera choisi pour exécuter le carnet\n",
    "from SPARQLWrapper import SPARQLWrapper, JSON, TURTLE, XML, RDFXML\n",
    "import pandas as pd\n",
    "\n",
    "import matplotlib.pyplot as plt\n",
    "import numpy as np"
   ]
  },
  {
   "cell_type": "code",
   "execution_count": 19,
   "id": "e6ce0f0e-db36-47cd-8015-a5bf33f0f7fa",
   "metadata": {
    "tags": []
   },
   "outputs": [],
   "source": [
    "### Librairies déjà installées avec Python\n",
    "import pprint\n",
    "import csv\n",
    "import sys\n",
    "\n",
    "import sqlite3 as sql\n",
    "\n",
    "import time\n",
    "import datetime\n",
    "from dateutil import parser\n",
    "\n",
    "from importlib import reload\n",
    "from shutil import copyfile\n"
   ]
  },
  {
   "cell_type": "code",
   "execution_count": 20,
   "id": "9b90838d-2160-49e3-8adb-a67ff2cd112e",
   "metadata": {},
   "outputs": [],
   "source": [
    "### Importer un module de fonctions crées ad hoc\n",
    "##  ATTENTION : le fichier 'sparql_functions.py' doit se trouver \n",
    "#   dans un dossier qui se situe dans le chemin ('path') de recherche\n",
    "#   vu par le présent carnet Jupyter afin que\n",
    "#   l'importation fonctionne correctement\n",
    "\n",
    "# Add parent directory to the path\n",
    "sys.path.insert(0, '..')\n",
    "\n",
    "### If you want to add the parent-parent directory,\n",
    "sys.path.insert(0, '../..')\n",
    "\n",
    "\n",
    "import sparql_functions as spqf"
   ]
  },
  {
   "cell_type": "markdown",
   "id": "3fe8665b-f64c-42bb-8786-4aee3673867c",
   "metadata": {},
   "source": [
    "## SPARQL Query qui récupère les données\n",
    "\n",
    "On exécute la requête grâce à une fonction de la librairie locale qui réalise la mise en forme"
   ]
  },
  {
   "cell_type": "code",
   "execution_count": 21,
   "id": "cf08874b-9ba0-4f5c-8eee-aebd9f0d0d26",
   "metadata": {},
   "outputs": [],
   "source": [
    "## define SPARQL enpoint\n",
    "endpoint = \"https://ag1gha303ygjmx4r.allegrograph.cloud/repositories/As-de-la-Guerre\""
   ]
  },
  {
   "cell_type": "code",
   "execution_count": 22,
   "id": "164e80e8-1834-473a-a605-a3c1a660eff3",
   "metadata": {},
   "outputs": [],
   "source": [
    "query = \"\"\"\n",
    "PREFIX wd: <http://www.wikidata.org/entity/>\n",
    "PREFIX wdt: <http://www.wikidata.org/prop/direct/>\n",
    "PREFIX rdfs: <http://www.w3.org/2000/01/rdf-schema#>\n",
    "PREFIX xsd: <http://www.w3.org/2001/XMLSchema#>\n",
    "\n",
    "SELECT ?ace\n",
    "       (SAMPLE(?label) AS ?aceLabel)\n",
    "       (SAMPLE(?allegLabel) AS ?allegiance)\n",
    "       (SAMPLE(?birthDate) AS ?birthDate)\n",
    "       (SAMPLE(?birthYearRaw) AS ?birthYear)\n",
    "       (SAMPLE(?deathDate) AS ?deathDate)\n",
    "       (SAMPLE(?deathYearRaw) AS ?deathYear)\n",
    "WHERE {\n",
    "  GRAPH <https://github.com/samohTDNM/as-ww1/blob/main/docs/wikidata-import.md> {\n",
    "    ?ace rdfs:label ?label ;\n",
    "         wdt:P106 wd:Q2095549 ;\n",
    "         wdt:P945 ?alleg .\n",
    "\n",
    "    ?alleg rdfs:label ?allegLabel .\n",
    "\n",
    "    OPTIONAL { \n",
    "      ?ace wdt:P569 ?birthDate .\n",
    "      BIND(xsd:integer(SUBSTR(STR(?birthDate), 1, 4)) AS ?birthYearRaw)\n",
    "    }\n",
    "    OPTIONAL { \n",
    "      ?ace wdt:P570 ?deathDate .\n",
    "      BIND(xsd:integer(SUBSTR(STR(?deathDate), 1, 4)) AS ?deathYearRaw)\n",
    "    }\n",
    "  }\n",
    "}\n",
    "GROUP BY ?ace\n",
    "ORDER BY ?birthYear\n",
    "\n",
    "\n",
    "\"\"\""
   ]
  },
  {
   "cell_type": "code",
   "execution_count": 23,
   "id": "70f2370f-e287-404f-ba7b-aaf79021047e",
   "metadata": {},
   "outputs": [],
   "source": [
    "### Executer la requête avec les fonctions de la librairie locale\n",
    "qr = spqf.get_json_sparql_result(endpoint,query)"
   ]
  },
  {
   "cell_type": "code",
   "execution_count": 24,
   "id": "21bfd9f5-4c63-4b8c-af10-f9ddec203db2",
   "metadata": {},
   "outputs": [
    {
     "name": "stdout",
     "output_type": "stream",
     "text": [
      "957\n"
     ]
    },
    {
     "data": {
      "text/plain": [
       "[['http://www.wikidata.org/entity/Q6225085',\n",
       "  'John Capper',\n",
       "  'United Kingdom of Great Britain and Ireland',\n",
       "  '1861-12-07T00:00:00Z',\n",
       "  '1861',\n",
       "  '1955-05-24T00:00:00Z',\n",
       "  '1955'],\n",
       " ['http://www.wikidata.org/entity/Q3724015',\n",
       "  'Emanuele Vittorio Parodi',\n",
       "  'Kingdom of Italy',\n",
       "  '1862-01-22T00:00:00Z',\n",
       "  '1862',\n",
       "  '1945-04-13T00:00:00Z',\n",
       "  '1945'],\n",
       " ['http://www.wikidata.org/entity/Q57569',\n",
       "  'Prince Henry of Prussia',\n",
       "  'Germany',\n",
       "  '1862-08-14T00:00:00Z',\n",
       "  '1862',\n",
       "  '1929-04-20T00:00:00Z',\n",
       "  '1929']]"
      ]
     },
     "execution_count": 24,
     "metadata": {},
     "output_type": "execute_result"
    }
   ],
   "source": [
    "r = [l for l in spqf.sparql_result_to_list(qr)]\n",
    "print(len(r))\n",
    "r[:3]"
   ]
  },
  {
   "cell_type": "code",
   "execution_count": 25,
   "id": "236bbba5-a4df-4a7b-b215-44c9bc3f355f",
   "metadata": {},
   "outputs": [
    {
     "data": {
      "text/html": [
       "<div>\n",
       "<style scoped>\n",
       "    .dataframe tbody tr th:only-of-type {\n",
       "        vertical-align: middle;\n",
       "    }\n",
       "\n",
       "    .dataframe tbody tr th {\n",
       "        vertical-align: top;\n",
       "    }\n",
       "\n",
       "    .dataframe thead th {\n",
       "        text-align: right;\n",
       "    }\n",
       "</style>\n",
       "<table border=\"1\" class=\"dataframe\">\n",
       "  <thead>\n",
       "    <tr style=\"text-align: right;\">\n",
       "      <th></th>\n",
       "      <th>personUri</th>\n",
       "      <th>personLabel</th>\n",
       "      <th>allegiance</th>\n",
       "      <th>birthDate</th>\n",
       "      <th>birthYear</th>\n",
       "      <th>deathDate</th>\n",
       "      <th>deathYear</th>\n",
       "    </tr>\n",
       "  </thead>\n",
       "  <tbody>\n",
       "    <tr>\n",
       "      <th>0</th>\n",
       "      <td>http://www.wikidata.org/entity/Q6225085</td>\n",
       "      <td>John Capper</td>\n",
       "      <td>United Kingdom of Great Britain and Ireland</td>\n",
       "      <td>1861-12-07T00:00:00Z</td>\n",
       "      <td>1861</td>\n",
       "      <td>1955-05-24T00:00:00Z</td>\n",
       "      <td>1955</td>\n",
       "    </tr>\n",
       "    <tr>\n",
       "      <th>1</th>\n",
       "      <td>http://www.wikidata.org/entity/Q3724015</td>\n",
       "      <td>Emanuele Vittorio Parodi</td>\n",
       "      <td>Kingdom of Italy</td>\n",
       "      <td>1862-01-22T00:00:00Z</td>\n",
       "      <td>1862</td>\n",
       "      <td>1945-04-13T00:00:00Z</td>\n",
       "      <td>1945</td>\n",
       "    </tr>\n",
       "    <tr>\n",
       "      <th>2</th>\n",
       "      <td>http://www.wikidata.org/entity/Q57569</td>\n",
       "      <td>Prince Henry of Prussia</td>\n",
       "      <td>Germany</td>\n",
       "      <td>1862-08-14T00:00:00Z</td>\n",
       "      <td>1862</td>\n",
       "      <td>1929-04-20T00:00:00Z</td>\n",
       "      <td>1929</td>\n",
       "    </tr>\n",
       "    <tr>\n",
       "      <th>3</th>\n",
       "      <td>http://www.wikidata.org/entity/Q193236</td>\n",
       "      <td>Gabriele D'Annunzio</td>\n",
       "      <td>Kingdom of Italy</td>\n",
       "      <td>1863-03-12T00:00:00Z</td>\n",
       "      <td>1863</td>\n",
       "      <td>1938-03-01T00:00:00Z</td>\n",
       "      <td>1938</td>\n",
       "    </tr>\n",
       "    <tr>\n",
       "      <th>4</th>\n",
       "      <td>http://www.wikidata.org/entity/Q1337203</td>\n",
       "      <td>Emile Reymond</td>\n",
       "      <td>France</td>\n",
       "      <td>1865-04-09T00:00:00Z</td>\n",
       "      <td>1865</td>\n",
       "      <td>1914-10-22T00:00:00Z</td>\n",
       "      <td>1914</td>\n",
       "    </tr>\n",
       "  </tbody>\n",
       "</table>\n",
       "</div>"
      ],
      "text/plain": [
       "                                 personUri               personLabel  \\\n",
       "0  http://www.wikidata.org/entity/Q6225085               John Capper   \n",
       "1  http://www.wikidata.org/entity/Q3724015  Emanuele Vittorio Parodi   \n",
       "2    http://www.wikidata.org/entity/Q57569   Prince Henry of Prussia   \n",
       "3   http://www.wikidata.org/entity/Q193236       Gabriele D'Annunzio   \n",
       "4  http://www.wikidata.org/entity/Q1337203             Emile Reymond   \n",
       "\n",
       "                                    allegiance             birthDate  \\\n",
       "0  United Kingdom of Great Britain and Ireland  1861-12-07T00:00:00Z   \n",
       "1                             Kingdom of Italy  1862-01-22T00:00:00Z   \n",
       "2                                      Germany  1862-08-14T00:00:00Z   \n",
       "3                             Kingdom of Italy  1863-03-12T00:00:00Z   \n",
       "4                                       France  1865-04-09T00:00:00Z   \n",
       "\n",
       "  birthYear             deathDate deathYear  \n",
       "0      1861  1955-05-24T00:00:00Z      1955  \n",
       "1      1862  1945-04-13T00:00:00Z      1945  \n",
       "2      1862  1929-04-20T00:00:00Z      1929  \n",
       "3      1863  1938-03-01T00:00:00Z      1938  \n",
       "4      1865  1914-10-22T00:00:00Z      1914  "
      ]
     },
     "execution_count": 25,
     "metadata": {},
     "output_type": "execute_result"
    }
   ],
   "source": [
    "### Créer un DataFrame à partir du résultat\n",
    "df_p = pd.DataFrame(r)\n",
    "df_p.columns = [\n",
    "    'personUri',\n",
    "    'personLabel',\n",
    "    'allegiance',\n",
    "    'birthDate',\n",
    "    'birthYear',\n",
    "    'deathDate',\n",
    "    'deathYear'\n",
    "]\n",
    "df_p.head()\n"
   ]
  },
  {
   "cell_type": "code",
   "execution_count": 26,
   "id": "eb664e6b-7fd0-4757-8bff-db79a0d52f97",
   "metadata": {
    "tags": []
   },
   "outputs": [
    {
     "name": "stdout",
     "output_type": "stream",
     "text": [
      "<class 'pandas.core.frame.DataFrame'>\n",
      "RangeIndex: 957 entries, 0 to 956\n",
      "Data columns (total 7 columns):\n",
      " #   Column       Non-Null Count  Dtype \n",
      "---  ------       --------------  ----- \n",
      " 0   personUri    957 non-null    object\n",
      " 1   personLabel  957 non-null    object\n",
      " 2   allegiance   957 non-null    object\n",
      " 3   birthDate    957 non-null    object\n",
      " 4   birthYear    957 non-null    object\n",
      " 5   deathDate    957 non-null    object\n",
      " 6   deathYear    957 non-null    object\n",
      "dtypes: object(7)\n",
      "memory usage: 52.5+ KB\n"
     ]
    }
   ],
   "source": [
    "df_p.info()"
   ]
  },
  {
   "cell_type": "markdown",
   "id": "2de05023-549c-4de3-8dd8-1c78afaf6227",
   "metadata": {},
   "source": [
    "### Ajouter une colonne au DataFrame avec l'allégeance nettoyée'"
   ]
  },
  {
   "cell_type": "code",
   "execution_count": 27,
   "id": "0a674d8c-3a47-4c0a-9af4-7b68d6512e7a",
   "metadata": {},
   "outputs": [],
   "source": [
    "#on normalize\n",
    "df_p['allegiance'] = df_p['allegiance'].str.strip()\n"
   ]
  },
  {
   "cell_type": "code",
   "execution_count": 28,
   "id": "949b06f2",
   "metadata": {},
   "outputs": [],
   "source": [
    "# la fonction, voir autres notebooks\n",
    "allegiance_clean_map = {\n",
    "    \"Kingdom of Italy\": \"Italy\",\n",
    "    \"Italy\": \"Italy\",\n",
    "    \"United Kingdom of Great Britain and Ireland\": \"United Kingdom\",\n",
    "    \"United Kingdom\": \"United Kingdom\",\n",
    "    \"British Empire\": \"United Kingdom\",\n",
    "    \"Germany\": \"Germany\",\n",
    "    \"German Empire\": \"Germany\",\n",
    "    \"German Reich\": \"Germany\",\n",
    "    \"Nazi Germany\": \"Germany\",\n",
    "    \"Austria-Hungary\": \"Austria-Hungary\",\n",
    "    \"Austria–Hungary\": \"Austria-Hungary\",  # en-dash\n",
    "    \"Austria\": \"Austria-Hungary\",\n",
    "    \"Second Polish Republic\": \"Poland\",\n",
    "    \"Kingdom of Romania\": \"Romania\",\n",
    "    \"Kingdom of Hungary\": \"Hungary\",\n",
    "    \"Hungary\": \"Hungary\",\n",
    "    \"Russian Empire\": \"Russia\",\n",
    "    \"Soviet Union\": \"Russia\",\n",
    "}\n"
   ]
  },
  {
   "cell_type": "code",
   "execution_count": 29,
   "id": "9302fc64",
   "metadata": {},
   "outputs": [],
   "source": [
    "df_p['allegiance_clean'] = df_p['allegiance'].replace(allegiance_clean_map)\n"
   ]
  },
  {
   "cell_type": "code",
   "execution_count": 30,
   "id": "2d04f7a3",
   "metadata": {},
   "outputs": [
    {
     "name": "stdout",
     "output_type": "stream",
     "text": [
      "      allegiance_clean  effectif\n",
      "10              France       255\n",
      "31      United Kingdom       125\n",
      "15               Italy       122\n",
      "32       United States       118\n",
      "11             Germany        86\n",
      "24              Poland        63\n",
      "1            Australia        44\n",
      "6               Canada        35\n",
      "27              Russia        30\n",
      "2      Austria-Hungary        19\n",
      "3              Belgium         9\n",
      "21         New Zealand         7\n",
      "5             Bulgaria         5\n",
      "13             Hungary         4\n",
      "29        South Africa         4\n",
      "26             Romania         4\n",
      "23      Ottoman Empire         3\n",
      "14             Ireland         3\n",
      "30              Sweden         2\n",
      "25            Portugal         2\n",
      "22              Norway         2\n",
      "18  Kingdom of Prussia         2\n",
      "0            Argentina         1\n",
      "4               Brazil         1\n",
      "7                Chile         1\n",
      "8           Costa Rica         1\n",
      "9       Czechoslovakia         1\n",
      "17  Kingdom of Bavaria         1\n",
      "16               Japan         1\n",
      "12              Greece         1\n"
     ]
    }
   ],
   "source": [
    "df_p['allegiance_clean'] = df_p['allegiance'].replace(allegiance_clean_map)\n",
    "\n",
    "df_p_allegiance_clean = df_p.groupby('allegiance_clean').size().reset_index(name='effectif')\n",
    "df_p_allegiance_clean = df_p_allegiance_clean.sort_values('effectif', ascending=False)\n",
    "\n",
    "print(df_p_allegiance_clean.head(30))\n",
    "\n"
   ]
  },
  {
   "cell_type": "markdown",
   "id": "c741c989-50ea-4f3d-a28d-89959d2c739a",
   "metadata": {},
   "source": [
    "## Effectifs par année"
   ]
  },
  {
   "cell_type": "code",
   "execution_count": 31,
   "id": "136263a8-722c-460e-bcc0-1aef61051025",
   "metadata": {},
   "outputs": [
    {
     "name": "stdout",
     "output_type": "stream",
     "text": [
      "<class 'pandas.core.series.Series'>\n",
      "RangeIndex: 957 entries, 0 to 956\n",
      "Series name: deathYear\n",
      "Non-Null Count  Dtype \n",
      "--------------  ----- \n",
      "957 non-null    object\n",
      "dtypes: object(1)\n",
      "memory usage: 7.6+ KB\n"
     ]
    }
   ],
   "source": [
    "### On inspecte les valeurs de la colonne 'birthYear' \n",
    "# et on observe que le type de données est 'object', ici texte\n",
    "df_p['deathYear'].info()"
   ]
  },
  {
   "cell_type": "code",
   "execution_count": 32,
   "id": "fc39e9a0-2c3b-4fe5-be24-603b6a61a566",
   "metadata": {},
   "outputs": [],
   "source": [
    "### On s'assure de bien avoir des dates. \n",
    "df_p['deathDate'] = pd.to_datetime(df_p['deathDate'], errors='coerce')\n",
    "df_p['birthDate'] = pd.to_datetime(df_p['birthDate'], errors='coerce')"
   ]
  },
  {
   "cell_type": "code",
   "execution_count": 33,
   "id": "b4c5b648",
   "metadata": {},
   "outputs": [],
   "source": [
    "## on extrait les jours, mois et années\n",
    "df_p['deathYear'] = df_p['deathDate'].dt.year\n",
    "df_p['deathMonth'] = df_p['deathDate'].dt.month\n",
    "df_p['deathDay'] = df_p['deathDate'].dt.day\n"
   ]
  },
  {
   "cell_type": "code",
   "execution_count": 34,
   "id": "099177d9",
   "metadata": {},
   "outputs": [
    {
     "data": {
      "text/html": [
       "<div>\n",
       "<style scoped>\n",
       "    .dataframe tbody tr th:only-of-type {\n",
       "        vertical-align: middle;\n",
       "    }\n",
       "\n",
       "    .dataframe tbody tr th {\n",
       "        vertical-align: top;\n",
       "    }\n",
       "\n",
       "    .dataframe thead th {\n",
       "        text-align: right;\n",
       "    }\n",
       "</style>\n",
       "<table border=\"1\" class=\"dataframe\">\n",
       "  <thead>\n",
       "    <tr style=\"text-align: right;\">\n",
       "      <th></th>\n",
       "      <th>deathDate</th>\n",
       "      <th>deathYear</th>\n",
       "      <th>deathMonth</th>\n",
       "      <th>deathDay</th>\n",
       "    </tr>\n",
       "  </thead>\n",
       "  <tbody>\n",
       "    <tr>\n",
       "      <th>0</th>\n",
       "      <td>1955-05-24 00:00:00+00:00</td>\n",
       "      <td>1955.0</td>\n",
       "      <td>5.0</td>\n",
       "      <td>24.0</td>\n",
       "    </tr>\n",
       "    <tr>\n",
       "      <th>1</th>\n",
       "      <td>1945-04-13 00:00:00+00:00</td>\n",
       "      <td>1945.0</td>\n",
       "      <td>4.0</td>\n",
       "      <td>13.0</td>\n",
       "    </tr>\n",
       "    <tr>\n",
       "      <th>2</th>\n",
       "      <td>1929-04-20 00:00:00+00:00</td>\n",
       "      <td>1929.0</td>\n",
       "      <td>4.0</td>\n",
       "      <td>20.0</td>\n",
       "    </tr>\n",
       "    <tr>\n",
       "      <th>3</th>\n",
       "      <td>1938-03-01 00:00:00+00:00</td>\n",
       "      <td>1938.0</td>\n",
       "      <td>3.0</td>\n",
       "      <td>1.0</td>\n",
       "    </tr>\n",
       "    <tr>\n",
       "      <th>4</th>\n",
       "      <td>1914-10-22 00:00:00+00:00</td>\n",
       "      <td>1914.0</td>\n",
       "      <td>10.0</td>\n",
       "      <td>22.0</td>\n",
       "    </tr>\n",
       "  </tbody>\n",
       "</table>\n",
       "</div>"
      ],
      "text/plain": [
       "                  deathDate  deathYear  deathMonth  deathDay\n",
       "0 1955-05-24 00:00:00+00:00     1955.0         5.0      24.0\n",
       "1 1945-04-13 00:00:00+00:00     1945.0         4.0      13.0\n",
       "2 1929-04-20 00:00:00+00:00     1929.0         4.0      20.0\n",
       "3 1938-03-01 00:00:00+00:00     1938.0         3.0       1.0\n",
       "4 1914-10-22 00:00:00+00:00     1914.0        10.0      22.0"
      ]
     },
     "execution_count": 34,
     "metadata": {},
     "output_type": "execute_result"
    }
   ],
   "source": [
    "## on vérifie le résulat\n",
    "df_p[['deathDate', 'deathYear', 'deathMonth', 'deathDay']].head()\n"
   ]
  },
  {
   "cell_type": "code",
   "execution_count": 51,
   "id": "6966e65a",
   "metadata": {},
   "outputs": [],
   "source": [
    "\n",
    "\n",
    "# On filtre pour des dates de mort pendant 14-18\n",
    "df_p['deathDate'] = pd.to_datetime(df_p['deathDate'], errors='coerce')\n",
    "ww1_start = pd.to_datetime('1914-07-28', utc=True)\n",
    "ww1_end = pd.to_datetime('1918-11-11', utc=True)\n",
    "\n",
    "df_ww1_deaths = df_p[\n",
    "    (df_p['deathDate'] >= ww1_start) &\n",
    "    (df_p['deathDate'] <= ww1_end)\n",
    "].copy()\n"
   ]
  },
  {
   "cell_type": "code",
   "execution_count": 52,
   "id": "d9f288a0-21e0-45f3-82d6-77e480ad9731",
   "metadata": {},
   "outputs": [
    {
     "data": {
      "text/html": [
       "<div>\n",
       "<style scoped>\n",
       "    .dataframe tbody tr th:only-of-type {\n",
       "        vertical-align: middle;\n",
       "    }\n",
       "\n",
       "    .dataframe tbody tr th {\n",
       "        vertical-align: top;\n",
       "    }\n",
       "\n",
       "    .dataframe thead th {\n",
       "        text-align: right;\n",
       "    }\n",
       "</style>\n",
       "<table border=\"1\" class=\"dataframe\">\n",
       "  <thead>\n",
       "    <tr style=\"text-align: right;\">\n",
       "      <th></th>\n",
       "      <th>year</th>\n",
       "      <th>effectif</th>\n",
       "    </tr>\n",
       "  </thead>\n",
       "  <tbody>\n",
       "    <tr>\n",
       "      <th>0</th>\n",
       "      <td>1914.0</td>\n",
       "      <td>5</td>\n",
       "    </tr>\n",
       "    <tr>\n",
       "      <th>1</th>\n",
       "      <td>1915.0</td>\n",
       "      <td>9</td>\n",
       "    </tr>\n",
       "    <tr>\n",
       "      <th>2</th>\n",
       "      <td>1916.0</td>\n",
       "      <td>22</td>\n",
       "    </tr>\n",
       "    <tr>\n",
       "      <th>3</th>\n",
       "      <td>1917.0</td>\n",
       "      <td>61</td>\n",
       "    </tr>\n",
       "    <tr>\n",
       "      <th>4</th>\n",
       "      <td>1918.0</td>\n",
       "      <td>68</td>\n",
       "    </tr>\n",
       "    <tr>\n",
       "      <th>...</th>\n",
       "      <td>...</td>\n",
       "      <td>...</td>\n",
       "    </tr>\n",
       "    <tr>\n",
       "      <th>79</th>\n",
       "      <td>1993.0</td>\n",
       "      <td>7</td>\n",
       "    </tr>\n",
       "    <tr>\n",
       "      <th>80</th>\n",
       "      <td>1994.0</td>\n",
       "      <td>1</td>\n",
       "    </tr>\n",
       "    <tr>\n",
       "      <th>81</th>\n",
       "      <td>1995.0</td>\n",
       "      <td>1</td>\n",
       "    </tr>\n",
       "    <tr>\n",
       "      <th>82</th>\n",
       "      <td>1997.0</td>\n",
       "      <td>2</td>\n",
       "    </tr>\n",
       "    <tr>\n",
       "      <th>83</th>\n",
       "      <td>2000.0</td>\n",
       "      <td>3</td>\n",
       "    </tr>\n",
       "  </tbody>\n",
       "</table>\n",
       "<p>84 rows × 2 columns</p>\n",
       "</div>"
      ],
      "text/plain": [
       "      year  effectif\n",
       "0   1914.0         5\n",
       "1   1915.0         9\n",
       "2   1916.0        22\n",
       "3   1917.0        61\n",
       "4   1918.0        68\n",
       "..     ...       ...\n",
       "79  1993.0         7\n",
       "80  1994.0         1\n",
       "81  1995.0         1\n",
       "82  1997.0         2\n",
       "83  2000.0         3\n",
       "\n",
       "[84 rows x 2 columns]"
      ]
     },
     "execution_count": 52,
     "metadata": {},
     "output_type": "execute_result"
    }
   ],
   "source": [
    "### On transforme en DataFrame le résultat du regroupement par année, toutes périodes confondues\n",
    "deaths_count = (\n",
    "    df_p[df_p['deathYear'] < 2001]\n",
    "    .groupby('deathYear')\n",
    "    .size()\n",
    "    .reset_index(name='effectif')\n",
    "    .rename(columns={'deathYear': 'year'})\n",
    ")\n",
    "\n",
    "deaths_count\n"
   ]
  },
  {
   "cell_type": "code",
   "execution_count": 40,
   "id": "7fdc507e-f074-4c4a-bda5-ca2a6c69f387",
   "metadata": {},
   "outputs": [
    {
     "data": {
      "image/png": "[encoded data removed]",
      "text/plain": [
       "<Figure size 1600x800 with 1 Axes>"
      ]
     },
     "metadata": {},
     "output_type": "display_data"
    }
   ],
   "source": [
    "### Représentation graphique des effectifs par année\n",
    "\n",
    "ax =deaths_count.plot(x='year', y='effectif', kind='bar',rot=60, fontsize=8, figsize=(16,8))\n",
    "\n",
    "\n",
    "max_xticks = 20\n",
    "xloc = plt.MaxNLocator(max_xticks)\n",
    "ax.xaxis.set_major_locator(xloc)\n",
    "\n",
    "plt.ylabel('Effectif')\n",
    "plt.xlabel('Années')\n",
    "plt.title('Nombre de morts par années')\n",
    "plt.show()"
   ]
  },
  {
   "cell_type": "markdown",
   "id": "ab845937-6017-44df-bec9-d78867a706a2",
   "metadata": {},
   "source": [
    "## On se concentre sur les morts durant 14-18"
   ]
  },
  {
   "cell_type": "code",
   "execution_count": 53,
   "id": "dcd067cb-f58d-44a1-bdb6-991bbcc3811c",
   "metadata": {},
   "outputs": [
    {
     "data": {
      "image/png": "[encoded data removed]",
      "text/plain": [
       "<Figure size 1000x500 with 1 Axes>"
      ]
     },
     "metadata": {},
     "output_type": "display_data"
    }
   ],
   "source": [
    "## on regarde les morts uniquements pendant 14-18\n",
    "\n",
    "df_ww1_by_year = (\n",
    "    df_p[\n",
    "        (df_p['deathYear'] >= 1914) & \n",
    "        (df_p['deathYear'] <= 1918)\n",
    "    ]\n",
    "    .groupby('deathYear')\n",
    "    .size()\n",
    "    .reset_index(name='effectif')\n",
    "    .rename(columns={'deathYear': 'year'})\n",
    "    .sort_values('year')\n",
    ")\n",
    "\n",
    "ax = df_ww1_by_year.plot(\n",
    "    x='year', y='effectif', kind='bar',\n",
    "    rot=0, figsize=(10, 5)\n",
    ")\n",
    "\n",
    "plt.title(\"Nombre de morts par année (filtrage par année seulement, 1914–1918)\")\n",
    "plt.xlabel(\"Année\")\n",
    "plt.ylabel(\"Effectif\")\n",
    "plt.grid(axis='y')\n",
    "plt.tight_layout()\n",
    "plt.show()"
   ]
  },
  {
   "cell_type": "code",
   "execution_count": 57,
   "id": "ae1e0e92",
   "metadata": {},
   "outputs": [
    {
     "name": "stderr",
     "output_type": "stream",
     "text": [
      "C:\\Users\\menou\\AppData\\Local\\Temp\\ipykernel_24424\\3974172042.py:12: UserWarning: Converting to PeriodArray/Index representation will drop timezone information.\n",
      "  df_ww1_by_month['year_month'] = df_ww1_by_month['deathDate'].dt.to_period('M').astype(str)\n"
     ]
    },
    {
     "data": {
      "image/png": "[encoded data removed]",
      "text/plain": [
       "<Figure size 1400x600 with 1 Axes>"
      ]
     },
     "metadata": {},
     "output_type": "display_data"
    }
   ],
   "source": [
    "# Représentation des morts pendant la guerre (dates précises)\n",
    "df_p['deathDate'] = pd.to_datetime(df_p['deathDate'], errors='coerce', utc=True)\n",
    "\n",
    "\n",
    "\n",
    "# Group by year_month\n",
    "df_ww1_by_month = df_p[\n",
    "    (df_p['deathDate'] >= ww1_start) & \n",
    "    (df_p['deathDate'] <= ww1_end)\n",
    "].copy()\n",
    "\n",
    "df_ww1_by_month['year_month'] = df_ww1_by_month['deathDate'].dt.to_period('M').astype(str)\n",
    "df_ww1_by_month_grouped = (\n",
    "    df_ww1_by_month\n",
    "    .groupby('year_month')\n",
    "    .size()\n",
    "    .reset_index(name='effectif')\n",
    ")\n",
    "# Plot\n",
    "ax = df_ww1_by_month_grouped.plot(\n",
    "    x='year_month', y='effectif', kind='bar',\n",
    "    figsize=(14, 6)\n",
    ")\n",
    "\n",
    "plt.title(\"Nombre de morts par mois pendant la Première Guerre mondiale\")\n",
    "plt.xlabel(\"Mois\")\n",
    "plt.ylabel(\"Effectif\")\n",
    "plt.xticks(rotation=90)\n",
    "plt.grid(axis='y')\n",
    "plt.tight_layout()\n",
    "plt.show()\n",
    "\n"
   ]
  },
  {
   "cell_type": "markdown",
   "id": "c60b84a9-99a7-46b0-8ae9-11bf26128fe7",
   "metadata": {},
   "source": [
    "### Codage par période de cinq ans\n",
    "On peut s'attendre à une période de surmortalité claire pendant 14-18, mais cela peut toujours être intéressant de vérifier ce fait. "
   ]
  },
  {
   "cell_type": "code",
   "execution_count": 58,
   "id": "aeb81ea8",
   "metadata": {},
   "outputs": [],
   "source": [
    "# Créer une copie indépendante filtrée pour les années de décès raisonnables\n",
    "cdf_deaths = df_p[df_p['deathYear'] < 2001].copy(deep=True)"
   ]
  },
  {
   "cell_type": "code",
   "execution_count": 59,
   "id": "0746413c",
   "metadata": {},
   "outputs": [
    {
     "data": {
      "text/html": [
       "<div>\n",
       "<style scoped>\n",
       "    .dataframe tbody tr th:only-of-type {\n",
       "        vertical-align: middle;\n",
       "    }\n",
       "\n",
       "    .dataframe tbody tr th {\n",
       "        vertical-align: top;\n",
       "    }\n",
       "\n",
       "    .dataframe thead th {\n",
       "        text-align: right;\n",
       "    }\n",
       "</style>\n",
       "<table border=\"1\" class=\"dataframe\">\n",
       "  <thead>\n",
       "    <tr style=\"text-align: right;\">\n",
       "      <th></th>\n",
       "      <th>personUri</th>\n",
       "      <th>personLabel</th>\n",
       "      <th>allegiance</th>\n",
       "      <th>birthDate</th>\n",
       "      <th>birthYear</th>\n",
       "      <th>deathDate</th>\n",
       "      <th>deathYear</th>\n",
       "      <th>allegiance_clean</th>\n",
       "      <th>deathMonth</th>\n",
       "      <th>deathDay</th>\n",
       "    </tr>\n",
       "  </thead>\n",
       "  <tbody>\n",
       "    <tr>\n",
       "      <th>0</th>\n",
       "      <td>http://www.wikidata.org/entity/Q6225085</td>\n",
       "      <td>John Capper</td>\n",
       "      <td>United Kingdom of Great Britain and Ireland</td>\n",
       "      <td>1861-12-07 00:00:00+00:00</td>\n",
       "      <td>1861</td>\n",
       "      <td>1955-05-24 00:00:00+00:00</td>\n",
       "      <td>1955.0</td>\n",
       "      <td>United Kingdom</td>\n",
       "      <td>5.0</td>\n",
       "      <td>24.0</td>\n",
       "    </tr>\n",
       "    <tr>\n",
       "      <th>1</th>\n",
       "      <td>http://www.wikidata.org/entity/Q3724015</td>\n",
       "      <td>Emanuele Vittorio Parodi</td>\n",
       "      <td>Kingdom of Italy</td>\n",
       "      <td>1862-01-22 00:00:00+00:00</td>\n",
       "      <td>1862</td>\n",
       "      <td>1945-04-13 00:00:00+00:00</td>\n",
       "      <td>1945.0</td>\n",
       "      <td>Italy</td>\n",
       "      <td>4.0</td>\n",
       "      <td>13.0</td>\n",
       "    </tr>\n",
       "    <tr>\n",
       "      <th>2</th>\n",
       "      <td>http://www.wikidata.org/entity/Q57569</td>\n",
       "      <td>Prince Henry of Prussia</td>\n",
       "      <td>Germany</td>\n",
       "      <td>1862-08-14 00:00:00+00:00</td>\n",
       "      <td>1862</td>\n",
       "      <td>1929-04-20 00:00:00+00:00</td>\n",
       "      <td>1929.0</td>\n",
       "      <td>Germany</td>\n",
       "      <td>4.0</td>\n",
       "      <td>20.0</td>\n",
       "    </tr>\n",
       "  </tbody>\n",
       "</table>\n",
       "</div>"
      ],
      "text/plain": [
       "                                 personUri               personLabel  \\\n",
       "0  http://www.wikidata.org/entity/Q6225085               John Capper   \n",
       "1  http://www.wikidata.org/entity/Q3724015  Emanuele Vittorio Parodi   \n",
       "2    http://www.wikidata.org/entity/Q57569   Prince Henry of Prussia   \n",
       "\n",
       "                                    allegiance                 birthDate  \\\n",
       "0  United Kingdom of Great Britain and Ireland 1861-12-07 00:00:00+00:00   \n",
       "1                             Kingdom of Italy 1862-01-22 00:00:00+00:00   \n",
       "2                                      Germany 1862-08-14 00:00:00+00:00   \n",
       "\n",
       "  birthYear                 deathDate  deathYear allegiance_clean  deathMonth  \\\n",
       "0      1861 1955-05-24 00:00:00+00:00     1955.0   United Kingdom         5.0   \n",
       "1      1862 1945-04-13 00:00:00+00:00     1945.0            Italy         4.0   \n",
       "2      1862 1929-04-20 00:00:00+00:00     1929.0          Germany         4.0   \n",
       "\n",
       "   deathDay  \n",
       "0      24.0  \n",
       "1      13.0  \n",
       "2      20.0  "
      ]
     },
     "execution_count": 59,
     "metadata": {},
     "output_type": "execute_result"
    }
   ],
   "source": [
    "cdf_deaths.head(3)"
   ]
  },
  {
   "cell_type": "code",
   "execution_count": 63,
   "id": "7c29f5c0-bf9f-444d-be57-2d39bf882e23",
   "metadata": {
    "tags": []
   },
   "outputs": [
    {
     "name": "stdout",
     "output_type": "stream",
     "text": [
      "[1909, 1914, 1919, 1924, 1929] [1984, 1989, 1994, 1999, 2004]\n"
     ]
    }
   ],
   "source": [
    "### Créer une liste d'années pour séparer en périodes de 5 ans\n",
    "# noter que la dernière année sera exclue, \n",
    "# elle donc doit être supérieure à la valeur maximale \n",
    "l_5_deaths = list(range(1909, 2005, 5))\n",
    "print(l_5_deaths[:5], l_5_deaths[-5:])"
   ]
  },
  {
   "cell_type": "code",
   "execution_count": 64,
   "id": "06ab381e-f317-4767-9790-a9fcbfcb1853",
   "metadata": {},
   "outputs": [
    {
     "data": {
      "text/html": [
       "<div>\n",
       "<style scoped>\n",
       "    .dataframe tbody tr th:only-of-type {\n",
       "        vertical-align: middle;\n",
       "    }\n",
       "\n",
       "    .dataframe tbody tr th {\n",
       "        vertical-align: top;\n",
       "    }\n",
       "\n",
       "    .dataframe thead th {\n",
       "        text-align: right;\n",
       "    }\n",
       "</style>\n",
       "<table border=\"1\" class=\"dataframe\">\n",
       "  <thead>\n",
       "    <tr style=\"text-align: right;\">\n",
       "      <th></th>\n",
       "      <th>personUri</th>\n",
       "      <th>personLabel</th>\n",
       "      <th>allegiance</th>\n",
       "      <th>birthDate</th>\n",
       "      <th>birthYear</th>\n",
       "      <th>deathDate</th>\n",
       "      <th>deathYear</th>\n",
       "      <th>allegiance_clean</th>\n",
       "      <th>deathMonth</th>\n",
       "      <th>deathDay</th>\n",
       "      <th>periodes</th>\n",
       "    </tr>\n",
       "  </thead>\n",
       "  <tbody>\n",
       "    <tr>\n",
       "      <th>0</th>\n",
       "      <td>http://www.wikidata.org/entity/Q6225085</td>\n",
       "      <td>John Capper</td>\n",
       "      <td>United Kingdom of Great Britain and Ireland</td>\n",
       "      <td>1861-12-07 00:00:00+00:00</td>\n",
       "      <td>1861</td>\n",
       "      <td>1955-05-24 00:00:00+00:00</td>\n",
       "      <td>1955.0</td>\n",
       "      <td>United Kingdom</td>\n",
       "      <td>5.0</td>\n",
       "      <td>24.0</td>\n",
       "      <td>1954-1958</td>\n",
       "    </tr>\n",
       "    <tr>\n",
       "      <th>1</th>\n",
       "      <td>http://www.wikidata.org/entity/Q3724015</td>\n",
       "      <td>Emanuele Vittorio Parodi</td>\n",
       "      <td>Kingdom of Italy</td>\n",
       "      <td>1862-01-22 00:00:00+00:00</td>\n",
       "      <td>1862</td>\n",
       "      <td>1945-04-13 00:00:00+00:00</td>\n",
       "      <td>1945.0</td>\n",
       "      <td>Italy</td>\n",
       "      <td>4.0</td>\n",
       "      <td>13.0</td>\n",
       "      <td>1944-1948</td>\n",
       "    </tr>\n",
       "    <tr>\n",
       "      <th>2</th>\n",
       "      <td>http://www.wikidata.org/entity/Q57569</td>\n",
       "      <td>Prince Henry of Prussia</td>\n",
       "      <td>Germany</td>\n",
       "      <td>1862-08-14 00:00:00+00:00</td>\n",
       "      <td>1862</td>\n",
       "      <td>1929-04-20 00:00:00+00:00</td>\n",
       "      <td>1929.0</td>\n",
       "      <td>Germany</td>\n",
       "      <td>4.0</td>\n",
       "      <td>20.0</td>\n",
       "      <td>1929-1933</td>\n",
       "    </tr>\n",
       "  </tbody>\n",
       "</table>\n",
       "</div>"
      ],
      "text/plain": [
       "                                 personUri               personLabel  \\\n",
       "0  http://www.wikidata.org/entity/Q6225085               John Capper   \n",
       "1  http://www.wikidata.org/entity/Q3724015  Emanuele Vittorio Parodi   \n",
       "2    http://www.wikidata.org/entity/Q57569   Prince Henry of Prussia   \n",
       "\n",
       "                                    allegiance                 birthDate  \\\n",
       "0  United Kingdom of Great Britain and Ireland 1861-12-07 00:00:00+00:00   \n",
       "1                             Kingdom of Italy 1862-01-22 00:00:00+00:00   \n",
       "2                                      Germany 1862-08-14 00:00:00+00:00   \n",
       "\n",
       "  birthYear                 deathDate  deathYear allegiance_clean  deathMonth  \\\n",
       "0      1861 1955-05-24 00:00:00+00:00     1955.0   United Kingdom         5.0   \n",
       "1      1862 1945-04-13 00:00:00+00:00     1945.0            Italy         4.0   \n",
       "2      1862 1929-04-20 00:00:00+00:00     1929.0          Germany         4.0   \n",
       "\n",
       "   deathDay   periodes  \n",
       "0      24.0  1954-1958  \n",
       "1      13.0  1944-1948  \n",
       "2      20.0  1929-1933  "
      ]
     },
     "execution_count": 64,
     "metadata": {},
     "output_type": "execute_result"
    }
   ],
   "source": [
    "### fonction pd.cut : https://pandas.pydata.org/pandas-docs/stable/reference/api/pandas.cut.html\n",
    "# On ajoute une nouvelle colonne qui contient la période sur la base de la liste précédente\n",
    "# et de la valeur de l'année\n",
    "\n",
    "cdf_deaths['periodes'] = pd.cut(cdf_deaths['deathYear'], l_5_deaths, right=False)\n",
    "\n",
    "\n",
    "### Transformer le code ajouté pour qu'il soit plus lisible\n",
    "# noter qu'on a arrondi les valeurs\n",
    "cdf_deaths['periodes'] = cdf_deaths['periodes'].apply(lambda x: f\"{int(x.left)}-{int(x.right)-1}\" if pd.notnull(x) else None)\n",
    "\n",
    "# Inspection\n",
    "cdf_deaths.head(3)"
   ]
  },
  {
   "cell_type": "code",
   "execution_count": 65,
   "id": "4e943cfe-40d8-49c0-afa1-a55f964f657a",
   "metadata": {},
   "outputs": [
    {
     "name": "stderr",
     "output_type": "stream",
     "text": [
      "C:\\Users\\menou\\AppData\\Local\\Temp\\ipykernel_24424\\3302375577.py:2: FutureWarning: The default of observed=False is deprecated and will be changed to True in a future version of pandas. Pass observed=False to retain current behavior or observed=True to adopt the future default and silence this warning.\n",
      "  cdf_deaths.groupby(by='periodes').size()\n"
     ]
    },
    {
     "data": {
      "text/plain": [
       "periodes\n",
       "1909-1913      0\n",
       "1914-1918    165\n",
       "1919-1923     51\n",
       "1924-1928     51\n",
       "1929-1933     46\n",
       "1934-1938     40\n",
       "1939-1943     45\n",
       "1944-1948     52\n",
       "1949-1953     42\n",
       "1954-1958     59\n",
       "1959-1963     63\n",
       "1964-1968     68\n",
       "1969-1973     67\n",
       "1974-1978     66\n",
       "1979-1983     64\n",
       "1984-1988     35\n",
       "1989-1993     21\n",
       "1994-1998      4\n",
       "1999-2003      3\n",
       "dtype: int64"
      ]
     },
     "execution_count": 65,
     "metadata": {},
     "output_type": "execute_result"
    }
   ],
   "source": [
    "### compter les naissances par périodes de 5 ans\n",
    "cdf_deaths.groupby(by='periodes').size()"
   ]
  },
  {
   "cell_type": "code",
   "execution_count": 66,
   "id": "9a1dd793-210a-42c3-b68b-d0e1756277d1",
   "metadata": {},
   "outputs": [
    {
     "name": "stderr",
     "output_type": "stream",
     "text": [
      "C:\\Users\\menou\\AppData\\Local\\Temp\\ipykernel_24424\\1769884436.py:1: FutureWarning: The default of observed=False is deprecated and will be changed to True in a future version of pandas. Pass observed=False to retain current behavior or observed=True to adopt the future default and silence this warning.\n",
      "  ax = cdf_deaths.groupby(by='periodes').size().plot(kind='bar',rot=60, fontsize=8, figsize=(16,8))\n"
     ]
    },
    {
     "data": {
      "image/png": "[encoded data removed]",
      "text/plain": [
       "<Figure size 1600x800 with 1 Axes>"
      ]
     },
     "metadata": {},
     "output_type": "display_data"
    }
   ],
   "source": [
    "ax = cdf_deaths.groupby(by='periodes').size().plot(kind='bar',rot=60, fontsize=8, figsize=(16,8))\n",
    "plt.ylabel('Effectif')\n",
    "plt.xlabel('Périodes')\n",
    "plt.title('Morts par périodes de cinq ans')\n",
    "plt.show()"
   ]
  },
  {
   "cell_type": "markdown",
   "id": "86daf72a",
   "metadata": {},
   "source": [
    "Nous observons clairement la surmortalité durant 14-18. Cela peut sembler évident mais reste pertinent à l'exercice. "
   ]
  },
  {
   "cell_type": "markdown",
   "id": "7d3da8ee-300d-4fb8-be6e-384e1e4186ef",
   "metadata": {},
   "source": [
    "## Ajouter la représentation des nationalités"
   ]
  },
  {
   "cell_type": "code",
   "execution_count": 67,
   "id": "e95d55b5",
   "metadata": {},
   "outputs": [
    {
     "name": "stderr",
     "output_type": "stream",
     "text": [
      "C:\\Users\\menou\\AppData\\Local\\Temp\\ipykernel_24424\\3241196984.py:2: FutureWarning: The default of observed=False is deprecated and will be changed to True in a future version of pandas. Pass observed=False to retain current behavior or observed=True to adopt the future default and silence this warning.\n",
      "  country_fr = pd.DataFrame(cdf_deaths[cdf_deaths['allegiance_clean'] == 'France'].groupby('periodes').size())\n"
     ]
    },
    {
     "data": {
      "text/html": [
       "<div>\n",
       "<style scoped>\n",
       "    .dataframe tbody tr th:only-of-type {\n",
       "        vertical-align: middle;\n",
       "    }\n",
       "\n",
       "    .dataframe tbody tr th {\n",
       "        vertical-align: top;\n",
       "    }\n",
       "\n",
       "    .dataframe thead th {\n",
       "        text-align: right;\n",
       "    }\n",
       "</style>\n",
       "<table border=\"1\" class=\"dataframe\">\n",
       "  <thead>\n",
       "    <tr style=\"text-align: right;\">\n",
       "      <th></th>\n",
       "      <th>country_fr</th>\n",
       "    </tr>\n",
       "    <tr>\n",
       "      <th>periodes</th>\n",
       "      <th></th>\n",
       "    </tr>\n",
       "  </thead>\n",
       "  <tbody>\n",
       "    <tr>\n",
       "      <th>1979-1983</th>\n",
       "      <td>18</td>\n",
       "    </tr>\n",
       "    <tr>\n",
       "      <th>1984-1988</th>\n",
       "      <td>13</td>\n",
       "    </tr>\n",
       "    <tr>\n",
       "      <th>1989-1993</th>\n",
       "      <td>9</td>\n",
       "    </tr>\n",
       "    <tr>\n",
       "      <th>1994-1998</th>\n",
       "      <td>0</td>\n",
       "    </tr>\n",
       "    <tr>\n",
       "      <th>1999-2003</th>\n",
       "      <td>1</td>\n",
       "    </tr>\n",
       "  </tbody>\n",
       "</table>\n",
       "</div>"
      ],
      "text/plain": [
       "           country_fr\n",
       "periodes             \n",
       "1979-1983          18\n",
       "1984-1988          13\n",
       "1989-1993           9\n",
       "1994-1998           0\n",
       "1999-2003           1"
      ]
     },
     "execution_count": 67,
     "metadata": {},
     "output_type": "execute_result"
    }
   ],
   "source": [
    "### Regrouper et compter avec un fitre sur la nationalité française (FR)\n",
    "country_fr = pd.DataFrame(cdf_deaths[cdf_deaths['allegiance_clean'] == 'France'].groupby('periodes').size())\n",
    "country_fr.columns = ['country_fr']\n",
    "country_fr.tail()\n",
    "\n"
   ]
  },
  {
   "cell_type": "code",
   "execution_count": 68,
   "id": "17ae3b32-dc7c-4a5c-a2b8-b2f9c9886a5d",
   "metadata": {},
   "outputs": [
    {
     "name": "stdout",
     "output_type": "stream",
     "text": [
      "   allegiance_clean  effectif\n",
      "10           France       254\n",
      "31   United Kingdom       124\n",
      "15            Italy       119\n",
      "32    United States       116\n",
      "11          Germany        86\n",
      "24           Poland        56\n",
      "1         Australia        44\n",
      "6            Canada        35\n",
      "27           Russia        30\n",
      "2   Austria-Hungary        19\n"
     ]
    }
   ],
   "source": [
    "### Regrouper et compter les effectifs\n",
    "top10_allegiances = (\n",
    "    cdf_deaths.groupby('allegiance_clean')\n",
    "         .size()\n",
    "         .reset_index(name='effectif')\n",
    "         .sort_values('effectif', ascending=False)\n",
    "         .head(10)\n",
    ")\n",
    "\n",
    "print(top10_allegiances)"
   ]
  },
  {
   "cell_type": "code",
   "execution_count": 69,
   "id": "fd7cc5e0-471f-469e-ae39-9365de7bfc18",
   "metadata": {},
   "outputs": [],
   "source": [
    "# on définit les alliances\n",
    "def code_alliances(allegiance_clean):\n",
    "    # Allies during WW1\n",
    "    allies = {\n",
    "        \"France\", \"Italy\", \"United States\", \"United Kingdom\",\n",
    "        \"Australia\", \"Canada\", \"New Zealand\", \"Belgium\",\n",
    "        \"Russian Empire\", \"Russia\", \"South Africa\", \"Ireland\",\n",
    "        \"Portugal\", \"Romania\", \"Serbia\"\n",
    "    }\n",
    "\n",
    "    # Central Powers during WW1\n",
    "    central_powers = {\n",
    "        \"Germany\", \"German Empire\", \"German Reich\", \"Nazi Germany\",\n",
    "        \"Austria-Hungary\", \"Austria\", \"Bulgaria\", \"Ottoman Empire\",\n",
    "        \"Kingdom of Saxony\", \"Kingdom of Prussia\", \"Hungary\", \"Kingdom of Bavaria\"\n",
    "    }\n",
    "\n",
    "    if allegiance_clean in allies:\n",
    "        return \"Allies\"\n",
    "    elif allegiance_clean in central_powers:\n",
    "        return \"Central Powers\"\n",
    "    else:\n",
    "        return \"Other\""
   ]
  },
  {
   "cell_type": "code",
   "execution_count": 70,
   "id": "633f4f6e",
   "metadata": {},
   "outputs": [],
   "source": [
    "cdf_deaths['alliance'] = cdf_deaths['allegiance_clean'].apply(code_alliances)\n"
   ]
  },
  {
   "cell_type": "code",
   "execution_count": 71,
   "id": "58c41c97",
   "metadata": {},
   "outputs": [
    {
     "name": "stdout",
     "output_type": "stream",
     "text": [
      "         alliance  effectif\n",
      "0          Allies       752\n",
      "1  Central Powers       121\n",
      "2           Other        69\n"
     ]
    }
   ],
   "source": [
    "# on regarde la distribution\n",
    "\n",
    "alliance_counts = (\n",
    "    cdf_deaths['alliance']\n",
    "    .value_counts()\n",
    "    .reset_index(name='effectif')\n",
    "    .rename(columns={'index': 'alliance'})\n",
    ")\n",
    "\n",
    "print(alliance_counts)\n"
   ]
  },
  {
   "cell_type": "code",
   "execution_count": 72,
   "id": "9cac4be0",
   "metadata": {},
   "outputs": [],
   "source": [
    "# Group by birth decade and alliance\n",
    "cdf_deaths['periodes'] = (cdf_deaths['deathYear'] // 5) * 5\n",
    "\n",
    "merged = (\n",
    "    cdf_deaths.groupby(['periodes', 'alliance'])\n",
    "    .size()\n",
    "    .unstack(fill_value=0)\n",
    ")\n",
    "\n",
    "merged.index = merged.index.map(str)\n"
   ]
  },
  {
   "cell_type": "code",
   "execution_count": 73,
   "id": "d188f96f-feca-464b-b338-f87e3c9cb23b",
   "metadata": {},
   "outputs": [
    {
     "data": {
      "image/png": "[encoded data removed]",
      "text/plain": [
       "<Figure size 2000x600 with 1 Axes>"
      ]
     },
     "metadata": {},
     "output_type": "display_data"
    }
   ],
   "source": [
    "### Documentation\n",
    "# https://pandas.pydata.org/pandas-docs/stable/reference/api/pandas.DataFrame.plot.bar.html\n",
    "ax = merged.plot.bar(\n",
    "    stacked=True,\n",
    "    rot=70,\n",
    "    fontsize=9,\n",
    "    figsize=(20, 6),\n",
    "    color=['#0055A4', '#FFCC00', '#CCCCCC'] \n",
    ")\n",
    "plt.title(\"Distribution of WW1 Aces by Alliance and Death Period\")\n",
    "plt.xlabel(\"Period\")\n",
    "plt.ylabel(\"Number of Aces\")\n",
    "plt.tight_layout()\n",
    "plt.show()"
   ]
  },
  {
   "cell_type": "markdown",
   "id": "6322d228",
   "metadata": {},
   "source": [
    "## Analyse des données"
   ]
  },
  {
   "cell_type": "code",
   "execution_count": 88,
   "id": "a2cf6b9f",
   "metadata": {},
   "outputs": [],
   "source": [
    "# on veut comparer les proportions des trois dernières périodes par rapport aux autres\n",
    "last_3 = merged_2.tail(3)\n",
    "last_3_total = last_3['tot'].sum()"
   ]
  },
  {
   "cell_type": "code",
   "execution_count": 89,
   "id": "667c65bf",
   "metadata": {},
   "outputs": [],
   "source": [
    "rest = merged_2.iloc[:-3]\n",
    "rest_total = rest['tot'].sum()"
   ]
  },
  {
   "cell_type": "code",
   "execution_count": 90,
   "id": "8d96e483",
   "metadata": {},
   "outputs": [],
   "source": [
    "total_all = last_3_total + rest_total\n",
    "\n",
    "last_3_prop = round(last_3_total / total_all, 2)\n",
    "rest_prop = round(rest_total / total_all, 2)\n"
   ]
  },
  {
   "cell_type": "code",
   "execution_count": 95,
   "id": "cb7b594a",
   "metadata": {},
   "outputs": [
    {
     "data": {
      "image/png": "[encoded data removed]",
      "text/plain": [
       "<Figure size 800x600 with 1 Axes>"
      ]
     },
     "metadata": {},
     "output_type": "display_data"
    }
   ],
   "source": [
    "compare_df = pd.DataFrame({\n",
    "    'période': ['Avant 1892', '1892-1897'],\n",
    "    'effectif': [rest_total, last_3_total]\n",
    "})\n",
    "\n",
    "ax = compare_df.plot.bar(\n",
    "    x='période',\n",
    "    y='effectif',\n",
    "    color=['#CCCCCC', '#0055A4'],\n",
    "    rot=0,\n",
    "    figsize=(8, 6)\n",
    ")\n",
    "\n",
    "total_all = rest_total + last_3_total\n",
    "props = [round(rest_total / total_all, 2), round(last_3_total / total_all, 2)]\n",
    "\n",
    "for bar, prop in zip(ax.patches, props):\n",
    "    ax.text(\n",
    "        bar.get_x() + bar.get_width() / 2,\n",
    "        bar.get_height() / 2,\n",
    "        f\"{prop}\",\n",
    "        ha='center',\n",
    "        va='center',\n",
    "        color='black',\n",
    "        weight='bold',\n",
    "        size=12\n",
    "    )\n",
    "\n",
    "plt.title(\"Proportion des naissances : avant vs. 1892-1897\")\n",
    "plt.xlabel(\"Période\")\n",
    "plt.ylabel(\"Nombre total d'as\")\n",
    "plt.tight_layout()\n",
    "plt.show()\n",
    "\n"
   ]
  },
  {
   "cell_type": "code",
   "execution_count": 98,
   "id": "3de18064",
   "metadata": {},
   "outputs": [
    {
     "name": "stdout",
     "output_type": "stream",
     "text": [
      "Le groupe 'Avant 1892' comprend 16 périodes de 2 ans et équivaut à 44%.\n",
      "Le groupe '1892–1897' comprend 3 périodes de 2 ans et équivaut à 56%.\n"
     ]
    }
   ],
   "source": [
    "# On compte combien de période les deux catégories comprennent\n",
    "num_rest_periods = len(merged_2.iloc[:-3])\n",
    "num_last_periods = len(merged_2.tail(3))\n",
    "\n",
    "\n",
    "print(f\"Le groupe 'Avant 1892' comprend {num_rest_periods} périodes de 2 ans et équivaut à 44%.\")\n",
    "print(f\"Le groupe '1892–1897' comprend {num_last_periods} périodes de 2 ans et équivaut à 56%.\")\n"
   ]
  }
 ],
 "metadata": {
  "kernelspec": {
   "display_name": "Python 3",
   "language": "python",
   "name": "python3"
  },
  "language_info": {
   "codemirror_mode": {
    "name": "ipython",
    "version": 3
   },
   "file_extension": ".py",
   "mimetype": "text/x-python",
   "name": "python",
   "nbconvert_exporter": "python",
   "pygments_lexer": "ipython3",
   "version": "3.11.9"
  }
 },
 "nbformat": 4,
 "nbformat_minor": 5
}

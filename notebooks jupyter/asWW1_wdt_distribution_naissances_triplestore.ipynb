{
 "cells": [
  {
   "cell_type": "markdown",
   "id": "9150426b-5190-4539-8204-61253a0f1bd4",
   "metadata": {},
   "source": [
    "# Distribution des naissances dans le temps \n",
    "\n",
    "Dans ce carnet est proposée une analyse de la distribution dans le temps des années de naissance de la population retenue, et la mise en évidence de générations.\n",
    "\n",
    "On met aussi en évidence l'évolution dans le temps des genres"
   ]
  },
  {
   "cell_type": "code",
   "execution_count": 18,
   "id": "231af92f-a7b1-479a-a734-0b8a9c0722e8",
   "metadata": {
    "tags": []
   },
   "outputs": [],
   "source": [
    "### Librairie à installer dans l'environnement conda (si on exécute en local)\n",
    "# qui sera choisi pour exécuter le carnet\n",
    "from SPARQLWrapper import SPARQLWrapper, JSON, TURTLE, XML, RDFXML\n",
    "import pandas as pd\n",
    "\n",
    "import matplotlib.pyplot as plt\n",
    "import numpy as np"
   ]
  },
  {
   "cell_type": "code",
   "execution_count": 19,
   "id": "e6ce0f0e-db36-47cd-8015-a5bf33f0f7fa",
   "metadata": {
    "tags": []
   },
   "outputs": [],
   "source": [
    "### Librairies déjà installées avec Python\n",
    "import pprint\n",
    "import csv\n",
    "import sys\n",
    "\n",
    "import sqlite3 as sql\n",
    "\n",
    "import time\n",
    "import datetime\n",
    "from dateutil import parser\n",
    "\n",
    "from importlib import reload\n",
    "from shutil import copyfile\n"
   ]
  },
  {
   "cell_type": "code",
   "execution_count": 20,
   "id": "9b90838d-2160-49e3-8adb-a67ff2cd112e",
   "metadata": {},
   "outputs": [],
   "source": [
    "### Importer un module de fonctions crées ad hoc\n",
    "##  ATTENTION : le fichier 'sparql_functions.py' doit se trouver \n",
    "#   dans un dossier qui se situe dans le chemin ('path') de recherche\n",
    "#   vu par le présent carnet Jupyter afin que\n",
    "#   l'importation fonctionne correctement\n",
    "\n",
    "# Add parent directory to the path\n",
    "sys.path.insert(0, '..')\n",
    "\n",
    "### If you want to add the parent-parent directory,\n",
    "sys.path.insert(0, '../..')\n",
    "\n",
    "\n",
    "import sparql_functions as spqf"
   ]
  },
  {
   "cell_type": "markdown",
   "id": "3fe8665b-f64c-42bb-8786-4aee3673867c",
   "metadata": {},
   "source": [
    "## SPARQL Query qui récupère les données\n",
    "\n",
    "On exécute la requête grâce à une fonction de la librairie locale qui réalise la mise en forme"
   ]
  },
  {
   "cell_type": "code",
   "execution_count": 21,
   "id": "cf08874b-9ba0-4f5c-8eee-aebd9f0d0d26",
   "metadata": {},
   "outputs": [],
   "source": [
    "## define SPARQL enpoint\n",
    "endpoint = \"https://ag1gha303ygjmx4r.allegrograph.cloud/repositories/As-de-la-Guerre\""
   ]
  },
  {
   "cell_type": "code",
   "execution_count": 26,
   "id": "164e80e8-1834-473a-a605-a3c1a660eff3",
   "metadata": {},
   "outputs": [],
   "source": [
    "query = \"\"\"\n",
    "PREFIX wd: <http://www.wikidata.org/entity/>\n",
    "PREFIX wdt: <http://www.wikidata.org/prop/direct/>\n",
    "PREFIX rdfs: <http://www.w3.org/2000/01/rdf-schema#>\n",
    "PREFIX xsd: <http://www.w3.org/2001/XMLSchema#>\n",
    "\n",
    "SELECT ?ace\n",
    "       (SAMPLE(?label) AS ?aceLabel)\n",
    "       (SAMPLE(?allegLabel) AS ?allegiance)\n",
    "       (SAMPLE(?birthDate) AS ?birthDate)\n",
    "       (SAMPLE(?birthYearRaw) AS ?birthYear)\n",
    "       (SAMPLE(?deathDate) AS ?deathDate)\n",
    "       (SAMPLE(?deathYearRaw) AS ?deathYear)\n",
    "WHERE {\n",
    "  GRAPH <https://github.com/samohTDNM/as-ww1/blob/main/docs/wikidata-import.md> {\n",
    "    ?ace rdfs:label ?label ;\n",
    "         wdt:P106 wd:Q2095549 ;\n",
    "         wdt:P945 ?alleg .\n",
    "\n",
    "    ?alleg rdfs:label ?allegLabel .\n",
    "\n",
    "    OPTIONAL { \n",
    "      ?ace wdt:P569 ?birthDate .\n",
    "      BIND(xsd:integer(SUBSTR(STR(?birthDate), 1, 4)) AS ?birthYearRaw)\n",
    "    }\n",
    "    OPTIONAL { \n",
    "      ?ace wdt:P570 ?deathDate .\n",
    "      BIND(xsd:integer(SUBSTR(STR(?deathDate), 1, 4)) AS ?deathYearRaw)\n",
    "    }\n",
    "  }\n",
    "}\n",
    "GROUP BY ?ace\n",
    "ORDER BY ?birthYear\n",
    "\n",
    "\n",
    "\"\"\""
   ]
  },
  {
   "cell_type": "code",
   "execution_count": 27,
   "id": "70f2370f-e287-404f-ba7b-aaf79021047e",
   "metadata": {},
   "outputs": [],
   "source": [
    "### Executer la requête avec les fonctions de la librairie locale\n",
    "qr = spqf.get_json_sparql_result(endpoint,query)"
   ]
  },
  {
   "cell_type": "code",
   "execution_count": 28,
   "id": "21bfd9f5-4c63-4b8c-af10-f9ddec203db2",
   "metadata": {},
   "outputs": [
    {
     "name": "stdout",
     "output_type": "stream",
     "text": [
      "957\n"
     ]
    },
    {
     "data": {
      "text/plain": [
       "[['http://www.wikidata.org/entity/Q6225085',\n",
       "  'John Capper',\n",
       "  'United Kingdom of Great Britain and Ireland',\n",
       "  '1861-12-07T00:00:00Z',\n",
       "  '1861',\n",
       "  '1955-05-24T00:00:00Z',\n",
       "  '1955'],\n",
       " ['http://www.wikidata.org/entity/Q3724015',\n",
       "  'Emanuele Vittorio Parodi',\n",
       "  'Kingdom of Italy',\n",
       "  '1862-01-22T00:00:00Z',\n",
       "  '1862',\n",
       "  '1945-04-13T00:00:00Z',\n",
       "  '1945'],\n",
       " ['http://www.wikidata.org/entity/Q57569',\n",
       "  'Prince Henry of Prussia',\n",
       "  'Germany',\n",
       "  '1862-08-14T00:00:00Z',\n",
       "  '1862',\n",
       "  '1929-04-20T00:00:00Z',\n",
       "  '1929']]"
      ]
     },
     "execution_count": 28,
     "metadata": {},
     "output_type": "execute_result"
    }
   ],
   "source": [
    "r = [l for l in spqf.sparql_result_to_list(qr)]\n",
    "print(len(r))\n",
    "r[:3]"
   ]
  },
  {
   "cell_type": "code",
   "execution_count": 30,
   "id": "236bbba5-a4df-4a7b-b215-44c9bc3f355f",
   "metadata": {},
   "outputs": [
    {
     "data": {
      "text/html": [
       "<div>\n",
       "<style scoped>\n",
       "    .dataframe tbody tr th:only-of-type {\n",
       "        vertical-align: middle;\n",
       "    }\n",
       "\n",
       "    .dataframe tbody tr th {\n",
       "        vertical-align: top;\n",
       "    }\n",
       "\n",
       "    .dataframe thead th {\n",
       "        text-align: right;\n",
       "    }\n",
       "</style>\n",
       "<table border=\"1\" class=\"dataframe\">\n",
       "  <thead>\n",
       "    <tr style=\"text-align: right;\">\n",
       "      <th></th>\n",
       "      <th>personUri</th>\n",
       "      <th>personLabel</th>\n",
       "      <th>allegiance</th>\n",
       "      <th>birthDate</th>\n",
       "      <th>birthYear</th>\n",
       "      <th>deathDate</th>\n",
       "      <th>deathYear</th>\n",
       "    </tr>\n",
       "  </thead>\n",
       "  <tbody>\n",
       "    <tr>\n",
       "      <th>0</th>\n",
       "      <td>http://www.wikidata.org/entity/Q6225085</td>\n",
       "      <td>John Capper</td>\n",
       "      <td>United Kingdom of Great Britain and Ireland</td>\n",
       "      <td>1861-12-07T00:00:00Z</td>\n",
       "      <td>1861</td>\n",
       "      <td>1955-05-24T00:00:00Z</td>\n",
       "      <td>1955</td>\n",
       "    </tr>\n",
       "    <tr>\n",
       "      <th>1</th>\n",
       "      <td>http://www.wikidata.org/entity/Q3724015</td>\n",
       "      <td>Emanuele Vittorio Parodi</td>\n",
       "      <td>Kingdom of Italy</td>\n",
       "      <td>1862-01-22T00:00:00Z</td>\n",
       "      <td>1862</td>\n",
       "      <td>1945-04-13T00:00:00Z</td>\n",
       "      <td>1945</td>\n",
       "    </tr>\n",
       "    <tr>\n",
       "      <th>2</th>\n",
       "      <td>http://www.wikidata.org/entity/Q57569</td>\n",
       "      <td>Prince Henry of Prussia</td>\n",
       "      <td>Germany</td>\n",
       "      <td>1862-08-14T00:00:00Z</td>\n",
       "      <td>1862</td>\n",
       "      <td>1929-04-20T00:00:00Z</td>\n",
       "      <td>1929</td>\n",
       "    </tr>\n",
       "    <tr>\n",
       "      <th>3</th>\n",
       "      <td>http://www.wikidata.org/entity/Q193236</td>\n",
       "      <td>Gabriele D'Annunzio</td>\n",
       "      <td>Kingdom of Italy</td>\n",
       "      <td>1863-03-12T00:00:00Z</td>\n",
       "      <td>1863</td>\n",
       "      <td>1938-03-01T00:00:00Z</td>\n",
       "      <td>1938</td>\n",
       "    </tr>\n",
       "    <tr>\n",
       "      <th>4</th>\n",
       "      <td>http://www.wikidata.org/entity/Q1337203</td>\n",
       "      <td>Emile Reymond</td>\n",
       "      <td>France</td>\n",
       "      <td>1865-04-09T00:00:00Z</td>\n",
       "      <td>1865</td>\n",
       "      <td>1914-10-22T00:00:00Z</td>\n",
       "      <td>1914</td>\n",
       "    </tr>\n",
       "  </tbody>\n",
       "</table>\n",
       "</div>"
      ],
      "text/plain": [
       "                                 personUri               personLabel  \\\n",
       "0  http://www.wikidata.org/entity/Q6225085               John Capper   \n",
       "1  http://www.wikidata.org/entity/Q3724015  Emanuele Vittorio Parodi   \n",
       "2    http://www.wikidata.org/entity/Q57569   Prince Henry of Prussia   \n",
       "3   http://www.wikidata.org/entity/Q193236       Gabriele D'Annunzio   \n",
       "4  http://www.wikidata.org/entity/Q1337203             Emile Reymond   \n",
       "\n",
       "                                    allegiance             birthDate  \\\n",
       "0  United Kingdom of Great Britain and Ireland  1861-12-07T00:00:00Z   \n",
       "1                             Kingdom of Italy  1862-01-22T00:00:00Z   \n",
       "2                                      Germany  1862-08-14T00:00:00Z   \n",
       "3                             Kingdom of Italy  1863-03-12T00:00:00Z   \n",
       "4                                       France  1865-04-09T00:00:00Z   \n",
       "\n",
       "  birthYear             deathDate deathYear  \n",
       "0      1861  1955-05-24T00:00:00Z      1955  \n",
       "1      1862  1945-04-13T00:00:00Z      1945  \n",
       "2      1862  1929-04-20T00:00:00Z      1929  \n",
       "3      1863  1938-03-01T00:00:00Z      1938  \n",
       "4      1865  1914-10-22T00:00:00Z      1914  "
      ]
     },
     "execution_count": 30,
     "metadata": {},
     "output_type": "execute_result"
    }
   ],
   "source": [
    "### Créer un DataFrame à partir du résultat\n",
    "df_p = pd.DataFrame(r)\n",
    "df_p.columns = [\n",
    "    'personUri',\n",
    "    'personLabel',\n",
    "    'allegiance',\n",
    "    'birthDate',\n",
    "    'birthYear',\n",
    "    'deathDate',\n",
    "    'deathYear'\n",
    "]\n",
    "df_p.head()\n"
   ]
  },
  {
   "cell_type": "code",
   "execution_count": 31,
   "id": "eb664e6b-7fd0-4757-8bff-db79a0d52f97",
   "metadata": {
    "tags": []
   },
   "outputs": [
    {
     "name": "stdout",
     "output_type": "stream",
     "text": [
      "<class 'pandas.core.frame.DataFrame'>\n",
      "RangeIndex: 957 entries, 0 to 956\n",
      "Data columns (total 7 columns):\n",
      " #   Column       Non-Null Count  Dtype \n",
      "---  ------       --------------  ----- \n",
      " 0   personUri    957 non-null    object\n",
      " 1   personLabel  957 non-null    object\n",
      " 2   allegiance   957 non-null    object\n",
      " 3   birthDate    957 non-null    object\n",
      " 4   birthYear    957 non-null    object\n",
      " 5   deathDate    957 non-null    object\n",
      " 6   deathYear    957 non-null    object\n",
      "dtypes: object(7)\n",
      "memory usage: 52.5+ KB\n"
     ]
    }
   ],
   "source": [
    "df_p.info()"
   ]
  },
  {
   "cell_type": "markdown",
   "id": "4912fbea-fc0a-443c-a015-034431fbf194",
   "metadata": {},
   "source": [
    "### Vérifier les nationalités présentes directement sur la base de données\n",
    "\n",
    "\n",
    "Voir les requêtes correspondantes dans le [SPARQL notebook qui créé la population](../../sparqlbooks/wikidata_import_population.sparqlbook)"
   ]
  },
  {
   "cell_type": "markdown",
   "id": "2de05023-549c-4de3-8dd8-1c78afaf6227",
   "metadata": {},
   "source": [
    "### Ajouter une colonne au DataFrame avec l'allégeance nettoyée'"
   ]
  },
  {
   "cell_type": "code",
   "execution_count": 34,
   "id": "0a674d8c-3a47-4c0a-9af4-7b68d6512e7a",
   "metadata": {},
   "outputs": [],
   "source": [
    "#on normalize\n",
    "df_p['allegiance'] = df_p['allegiance'].str.strip()\n"
   ]
  },
  {
   "cell_type": "code",
   "execution_count": 35,
   "id": "949b06f2",
   "metadata": {},
   "outputs": [],
   "source": [
    "# la fonction, voir autres notebooks\n",
    "allegiance_clean_map = {\n",
    "    \"Kingdom of Italy\": \"Italy\",\n",
    "    \"Italy\": \"Italy\",\n",
    "    \"United Kingdom of Great Britain and Ireland\": \"United Kingdom\",\n",
    "    \"United Kingdom\": \"United Kingdom\",\n",
    "    \"British Empire\": \"United Kingdom\",\n",
    "    \"Germany\": \"Germany\",\n",
    "    \"German Empire\": \"Germany\",\n",
    "    \"German Reich\": \"Germany\",\n",
    "    \"Nazi Germany\": \"Germany\",\n",
    "    \"Austria-Hungary\": \"Austria-Hungary\",\n",
    "    \"Austria–Hungary\": \"Austria-Hungary\",  # en-dash\n",
    "    \"Austria\": \"Austria-Hungary\",\n",
    "    \"Second Polish Republic\": \"Poland\",\n",
    "    \"Kingdom of Romania\": \"Romania\",\n",
    "    \"Kingdom of Hungary\": \"Hungary\",\n",
    "    \"Hungary\": \"Hungary\",\n",
    "    \"Russian Empire\": \"Russia\",\n",
    "    \"Soviet Union\": \"Russia\",\n",
    "}\n"
   ]
  },
  {
   "cell_type": "code",
   "execution_count": 37,
   "id": "9302fc64",
   "metadata": {},
   "outputs": [],
   "source": [
    "df_p['allegiance_clean'] = df_p['allegiance'].replace(allegiance_clean_map)\n"
   ]
  },
  {
   "cell_type": "code",
   "execution_count": 39,
   "id": "2d04f7a3",
   "metadata": {},
   "outputs": [
    {
     "name": "stdout",
     "output_type": "stream",
     "text": [
      "      allegiance_clean  effectif\n",
      "10              France       255\n",
      "31      United Kingdom       125\n",
      "15               Italy       122\n",
      "32       United States       118\n",
      "11             Germany        86\n",
      "24              Poland        63\n",
      "1            Australia        44\n",
      "6               Canada        35\n",
      "27              Russia        30\n",
      "2      Austria-Hungary        19\n",
      "3              Belgium         9\n",
      "21         New Zealand         7\n",
      "5             Bulgaria         5\n",
      "13             Hungary         4\n",
      "29        South Africa         4\n",
      "26             Romania         4\n",
      "23      Ottoman Empire         3\n",
      "14             Ireland         3\n",
      "30              Sweden         2\n",
      "25            Portugal         2\n",
      "22              Norway         2\n",
      "18  Kingdom of Prussia         2\n",
      "0            Argentina         1\n",
      "4               Brazil         1\n",
      "7                Chile         1\n",
      "8           Costa Rica         1\n",
      "9       Czechoslovakia         1\n",
      "17  Kingdom of Bavaria         1\n",
      "16               Japan         1\n",
      "12              Greece         1\n"
     ]
    }
   ],
   "source": [
    "df_p['allegiance_clean'] = df_p['allegiance'].replace(allegiance_clean_map)\n",
    "\n",
    "df_p_allegiance_clean = df_p.groupby('allegiance_clean').size().reset_index(name='effectif')\n",
    "df_p_allegiance_clean = df_p_allegiance_clean.sort_values('effectif', ascending=False)\n",
    "\n",
    "print(df_p_allegiance_clean.head(30))\n",
    "\n"
   ]
  },
  {
   "cell_type": "markdown",
   "id": "c741c989-50ea-4f3d-a28d-89959d2c739a",
   "metadata": {},
   "source": [
    "## Effectifs par année"
   ]
  },
  {
   "cell_type": "code",
   "execution_count": 40,
   "id": "136263a8-722c-460e-bcc0-1aef61051025",
   "metadata": {},
   "outputs": [
    {
     "name": "stdout",
     "output_type": "stream",
     "text": [
      "<class 'pandas.core.series.Series'>\n",
      "RangeIndex: 957 entries, 0 to 956\n",
      "Series name: birthYear\n",
      "Non-Null Count  Dtype \n",
      "--------------  ----- \n",
      "957 non-null    object\n",
      "dtypes: object(1)\n",
      "memory usage: 7.6+ KB\n"
     ]
    }
   ],
   "source": [
    "### On inspecte les valeurs de la colonne 'birthYear' \n",
    "# et on observe que le type de données est 'object', ici texte\n",
    "df_p['birthYear'].info()"
   ]
  },
  {
   "cell_type": "code",
   "execution_count": 41,
   "id": "fc39e9a0-2c3b-4fe5-be24-603b6a61a566",
   "metadata": {},
   "outputs": [],
   "source": [
    "### On transforme le type de valeur de la colonne BirthYear\n",
    "# de objet à entier\n",
    "df_p['birthYear'] = df_p['birthYear'].astype(int)"
   ]
  },
  {
   "cell_type": "code",
   "execution_count": null,
   "id": "d9f288a0-21e0-45f3-82d6-77e480ad9731",
   "metadata": {},
   "outputs": [
    {
     "data": {
      "text/html": [
       "<div>\n",
       "<style scoped>\n",
       "    .dataframe tbody tr th:only-of-type {\n",
       "        vertical-align: middle;\n",
       "    }\n",
       "\n",
       "    .dataframe tbody tr th {\n",
       "        vertical-align: top;\n",
       "    }\n",
       "\n",
       "    .dataframe thead th {\n",
       "        text-align: right;\n",
       "    }\n",
       "</style>\n",
       "<table border=\"1\" class=\"dataframe\">\n",
       "  <thead>\n",
       "    <tr style=\"text-align: right;\">\n",
       "      <th></th>\n",
       "      <th>year</th>\n",
       "      <th>effectif</th>\n",
       "    </tr>\n",
       "  </thead>\n",
       "  <tbody>\n",
       "    <tr>\n",
       "      <th>0</th>\n",
       "      <td>1861</td>\n",
       "      <td>1</td>\n",
       "    </tr>\n",
       "    <tr>\n",
       "      <th>1</th>\n",
       "      <td>1862</td>\n",
       "      <td>2</td>\n",
       "    </tr>\n",
       "    <tr>\n",
       "      <th>2</th>\n",
       "      <td>1863</td>\n",
       "      <td>1</td>\n",
       "    </tr>\n",
       "    <tr>\n",
       "      <th>3</th>\n",
       "      <td>1865</td>\n",
       "      <td>1</td>\n",
       "    </tr>\n",
       "    <tr>\n",
       "      <th>4</th>\n",
       "      <td>1866</td>\n",
       "      <td>2</td>\n",
       "    </tr>\n",
       "    <tr>\n",
       "      <th>5</th>\n",
       "      <td>1867</td>\n",
       "      <td>2</td>\n",
       "    </tr>\n",
       "    <tr>\n",
       "      <th>6</th>\n",
       "      <td>1868</td>\n",
       "      <td>2</td>\n",
       "    </tr>\n",
       "    <tr>\n",
       "      <th>7</th>\n",
       "      <td>1869</td>\n",
       "      <td>2</td>\n",
       "    </tr>\n",
       "    <tr>\n",
       "      <th>8</th>\n",
       "      <td>1870</td>\n",
       "      <td>2</td>\n",
       "    </tr>\n",
       "    <tr>\n",
       "      <th>9</th>\n",
       "      <td>1871</td>\n",
       "      <td>1</td>\n",
       "    </tr>\n",
       "    <tr>\n",
       "      <th>10</th>\n",
       "      <td>1872</td>\n",
       "      <td>1</td>\n",
       "    </tr>\n",
       "    <tr>\n",
       "      <th>11</th>\n",
       "      <td>1873</td>\n",
       "      <td>1</td>\n",
       "    </tr>\n",
       "    <tr>\n",
       "      <th>12</th>\n",
       "      <td>1874</td>\n",
       "      <td>6</td>\n",
       "    </tr>\n",
       "    <tr>\n",
       "      <th>13</th>\n",
       "      <td>1875</td>\n",
       "      <td>2</td>\n",
       "    </tr>\n",
       "    <tr>\n",
       "      <th>14</th>\n",
       "      <td>1876</td>\n",
       "      <td>8</td>\n",
       "    </tr>\n",
       "    <tr>\n",
       "      <th>15</th>\n",
       "      <td>1877</td>\n",
       "      <td>5</td>\n",
       "    </tr>\n",
       "    <tr>\n",
       "      <th>16</th>\n",
       "      <td>1878</td>\n",
       "      <td>6</td>\n",
       "    </tr>\n",
       "    <tr>\n",
       "      <th>17</th>\n",
       "      <td>1879</td>\n",
       "      <td>10</td>\n",
       "    </tr>\n",
       "    <tr>\n",
       "      <th>18</th>\n",
       "      <td>1880</td>\n",
       "      <td>12</td>\n",
       "    </tr>\n",
       "    <tr>\n",
       "      <th>19</th>\n",
       "      <td>1881</td>\n",
       "      <td>13</td>\n",
       "    </tr>\n",
       "    <tr>\n",
       "      <th>20</th>\n",
       "      <td>1882</td>\n",
       "      <td>9</td>\n",
       "    </tr>\n",
       "    <tr>\n",
       "      <th>21</th>\n",
       "      <td>1883</td>\n",
       "      <td>18</td>\n",
       "    </tr>\n",
       "    <tr>\n",
       "      <th>22</th>\n",
       "      <td>1884</td>\n",
       "      <td>16</td>\n",
       "    </tr>\n",
       "    <tr>\n",
       "      <th>23</th>\n",
       "      <td>1885</td>\n",
       "      <td>23</td>\n",
       "    </tr>\n",
       "    <tr>\n",
       "      <th>24</th>\n",
       "      <td>1886</td>\n",
       "      <td>28</td>\n",
       "    </tr>\n",
       "    <tr>\n",
       "      <th>25</th>\n",
       "      <td>1887</td>\n",
       "      <td>31</td>\n",
       "    </tr>\n",
       "    <tr>\n",
       "      <th>26</th>\n",
       "      <td>1888</td>\n",
       "      <td>33</td>\n",
       "    </tr>\n",
       "    <tr>\n",
       "      <th>27</th>\n",
       "      <td>1889</td>\n",
       "      <td>33</td>\n",
       "    </tr>\n",
       "    <tr>\n",
       "      <th>28</th>\n",
       "      <td>1890</td>\n",
       "      <td>53</td>\n",
       "    </tr>\n",
       "    <tr>\n",
       "      <th>29</th>\n",
       "      <td>1891</td>\n",
       "      <td>56</td>\n",
       "    </tr>\n",
       "    <tr>\n",
       "      <th>30</th>\n",
       "      <td>1892</td>\n",
       "      <td>82</td>\n",
       "    </tr>\n",
       "    <tr>\n",
       "      <th>31</th>\n",
       "      <td>1893</td>\n",
       "      <td>70</td>\n",
       "    </tr>\n",
       "    <tr>\n",
       "      <th>32</th>\n",
       "      <td>1894</td>\n",
       "      <td>86</td>\n",
       "    </tr>\n",
       "    <tr>\n",
       "      <th>33</th>\n",
       "      <td>1895</td>\n",
       "      <td>78</td>\n",
       "    </tr>\n",
       "    <tr>\n",
       "      <th>34</th>\n",
       "      <td>1896</td>\n",
       "      <td>91</td>\n",
       "    </tr>\n",
       "    <tr>\n",
       "      <th>35</th>\n",
       "      <td>1897</td>\n",
       "      <td>73</td>\n",
       "    </tr>\n",
       "    <tr>\n",
       "      <th>36</th>\n",
       "      <td>1898</td>\n",
       "      <td>49</td>\n",
       "    </tr>\n",
       "    <tr>\n",
       "      <th>37</th>\n",
       "      <td>1899</td>\n",
       "      <td>36</td>\n",
       "    </tr>\n",
       "    <tr>\n",
       "      <th>38</th>\n",
       "      <td>1900</td>\n",
       "      <td>6</td>\n",
       "    </tr>\n",
       "    <tr>\n",
       "      <th>39</th>\n",
       "      <td>1901</td>\n",
       "      <td>2</td>\n",
       "    </tr>\n",
       "    <tr>\n",
       "      <th>40</th>\n",
       "      <td>1902</td>\n",
       "      <td>1</td>\n",
       "    </tr>\n",
       "    <tr>\n",
       "      <th>41</th>\n",
       "      <td>1903</td>\n",
       "      <td>2</td>\n",
       "    </tr>\n",
       "    <tr>\n",
       "      <th>42</th>\n",
       "      <td>1904</td>\n",
       "      <td>1</td>\n",
       "    </tr>\n",
       "  </tbody>\n",
       "</table>\n",
       "</div>"
      ],
      "text/plain": [
       "    year  effectif\n",
       "0   1861         1\n",
       "1   1862         2\n",
       "2   1863         1\n",
       "3   1865         1\n",
       "4   1866         2\n",
       "5   1867         2\n",
       "6   1868         2\n",
       "7   1869         2\n",
       "8   1870         2\n",
       "9   1871         1\n",
       "10  1872         1\n",
       "11  1873         1\n",
       "12  1874         6\n",
       "13  1875         2\n",
       "14  1876         8\n",
       "15  1877         5\n",
       "16  1878         6\n",
       "17  1879        10\n",
       "18  1880        12\n",
       "19  1881        13\n",
       "20  1882         9\n",
       "21  1883        18\n",
       "22  1884        16\n",
       "23  1885        23\n",
       "24  1886        28\n",
       "25  1887        31\n",
       "26  1888        33\n",
       "27  1889        33\n",
       "28  1890        53\n",
       "29  1891        56\n",
       "30  1892        82\n",
       "31  1893        70\n",
       "32  1894        86\n",
       "33  1895        78\n",
       "34  1896        91\n",
       "35  1897        73\n",
       "36  1898        49\n",
       "37  1899        36\n",
       "38  1900         6\n",
       "39  1901         2\n",
       "40  1902         1\n",
       "41  1903         2\n",
       "42  1904         1"
      ]
     },
     "execution_count": 44,
     "metadata": {},
     "output_type": "execute_result"
    }
   ],
   "source": [
    "### On transforme en DataFrame le résultat du regroupement par année\n",
    "# noter qu'un ajoute un filtre pour que l'année maximale de naissance soit 1904\n",
    "years_count = pd.DataFrame(df_p[df_p['birthYear'] < 1905].groupby('birthYear').size())\\\n",
    "                .reset_index(drop=False)\n",
    "years_count.columns=['year','effectif']\n",
    "years_count"
   ]
  },
  {
   "cell_type": "code",
   "execution_count": 45,
   "id": "7fdc507e-f074-4c4a-bda5-ca2a6c69f387",
   "metadata": {},
   "outputs": [
    {
     "data": {
      "image/png": "[encoded data removed]",
      "text/plain": [
       "<Figure size 1600x800 with 1 Axes>"
      ]
     },
     "metadata": {},
     "output_type": "display_data"
    }
   ],
   "source": [
    "### Représentation graphique des effectifs par année\n",
    "\n",
    "ax = years_count.plot(x='year', y='effectif', kind='bar',rot=60, fontsize=8, figsize=(16,8))\n",
    "\n",
    "\n",
    "max_xticks = 20\n",
    "xloc = plt.MaxNLocator(max_xticks)\n",
    "ax.xaxis.set_major_locator(xloc)\n",
    "\n",
    "plt.ylabel('Effectif')\n",
    "plt.xlabel('Années')\n",
    "plt.title('Nombre de naissances par année')\n",
    "plt.show()"
   ]
  },
  {
   "cell_type": "markdown",
   "id": "ab845937-6017-44df-bec9-d78867a706a2",
   "metadata": {},
   "source": [
    "## Regrouper les effectifs par périodes de 5 ans"
   ]
  },
  {
   "cell_type": "code",
   "execution_count": 46,
   "id": "dcd067cb-f58d-44a1-bdb6-991bbcc3811c",
   "metadata": {},
   "outputs": [],
   "source": [
    "### Créer une copie indépendante du DataFrame (attention aux copies de variables qui sont seulement des alias) \n",
    "cdf_p = df_p[df_p['birthYear'] < 2001].copy(deep=True)"
   ]
  },
  {
   "cell_type": "code",
   "execution_count": 47,
   "id": "f7002b54-5b9a-41ff-b207-3d209bfea3b2",
   "metadata": {},
   "outputs": [
    {
     "data": {
      "text/html": [
       "<div>\n",
       "<style scoped>\n",
       "    .dataframe tbody tr th:only-of-type {\n",
       "        vertical-align: middle;\n",
       "    }\n",
       "\n",
       "    .dataframe tbody tr th {\n",
       "        vertical-align: top;\n",
       "    }\n",
       "\n",
       "    .dataframe thead th {\n",
       "        text-align: right;\n",
       "    }\n",
       "</style>\n",
       "<table border=\"1\" class=\"dataframe\">\n",
       "  <thead>\n",
       "    <tr style=\"text-align: right;\">\n",
       "      <th></th>\n",
       "      <th>personUri</th>\n",
       "      <th>personLabel</th>\n",
       "      <th>allegiance</th>\n",
       "      <th>birthDate</th>\n",
       "      <th>birthYear</th>\n",
       "      <th>deathDate</th>\n",
       "      <th>deathYear</th>\n",
       "      <th>allegiance_clean</th>\n",
       "    </tr>\n",
       "  </thead>\n",
       "  <tbody>\n",
       "    <tr>\n",
       "      <th>0</th>\n",
       "      <td>http://www.wikidata.org/entity/Q6225085</td>\n",
       "      <td>John Capper</td>\n",
       "      <td>United Kingdom of Great Britain and Ireland</td>\n",
       "      <td>1861-12-07T00:00:00Z</td>\n",
       "      <td>1861</td>\n",
       "      <td>1955-05-24T00:00:00Z</td>\n",
       "      <td>1955</td>\n",
       "      <td>United Kingdom</td>\n",
       "    </tr>\n",
       "    <tr>\n",
       "      <th>1</th>\n",
       "      <td>http://www.wikidata.org/entity/Q3724015</td>\n",
       "      <td>Emanuele Vittorio Parodi</td>\n",
       "      <td>Kingdom of Italy</td>\n",
       "      <td>1862-01-22T00:00:00Z</td>\n",
       "      <td>1862</td>\n",
       "      <td>1945-04-13T00:00:00Z</td>\n",
       "      <td>1945</td>\n",
       "      <td>Italy</td>\n",
       "    </tr>\n",
       "    <tr>\n",
       "      <th>2</th>\n",
       "      <td>http://www.wikidata.org/entity/Q57569</td>\n",
       "      <td>Prince Henry of Prussia</td>\n",
       "      <td>Germany</td>\n",
       "      <td>1862-08-14T00:00:00Z</td>\n",
       "      <td>1862</td>\n",
       "      <td>1929-04-20T00:00:00Z</td>\n",
       "      <td>1929</td>\n",
       "      <td>Germany</td>\n",
       "    </tr>\n",
       "  </tbody>\n",
       "</table>\n",
       "</div>"
      ],
      "text/plain": [
       "                                 personUri               personLabel  \\\n",
       "0  http://www.wikidata.org/entity/Q6225085               John Capper   \n",
       "1  http://www.wikidata.org/entity/Q3724015  Emanuele Vittorio Parodi   \n",
       "2    http://www.wikidata.org/entity/Q57569   Prince Henry of Prussia   \n",
       "\n",
       "                                    allegiance             birthDate  \\\n",
       "0  United Kingdom of Great Britain and Ireland  1861-12-07T00:00:00Z   \n",
       "1                             Kingdom of Italy  1862-01-22T00:00:00Z   \n",
       "2                                      Germany  1862-08-14T00:00:00Z   \n",
       "\n",
       "   birthYear             deathDate deathYear allegiance_clean  \n",
       "0       1861  1955-05-24T00:00:00Z      1955   United Kingdom  \n",
       "1       1862  1945-04-13T00:00:00Z      1945            Italy  \n",
       "2       1862  1929-04-20T00:00:00Z      1929          Germany  "
      ]
     },
     "execution_count": 47,
     "metadata": {},
     "output_type": "execute_result"
    }
   ],
   "source": [
    "cdf_p.head(3)"
   ]
  },
  {
   "cell_type": "code",
   "execution_count": 48,
   "id": "15117967-9901-423a-a898-d5b710399439",
   "metadata": {},
   "outputs": [
    {
     "name": "stdout",
     "output_type": "stream",
     "text": [
      "1861 1904\n"
     ]
    }
   ],
   "source": [
    "### Année minimale et maximale dans la population\n",
    "print(min(cdf_p['birthYear']), max(cdf_p['birthYear']))"
   ]
  },
  {
   "cell_type": "markdown",
   "id": "c60b84a9-99a7-46b0-8ae9-11bf26128fe7",
   "metadata": {},
   "source": [
    "### Codage par période de cinq ans"
   ]
  },
  {
   "cell_type": "code",
   "execution_count": 50,
   "id": "7c29f5c0-bf9f-444d-be57-2d39bf882e23",
   "metadata": {
    "tags": []
   },
   "outputs": [
    {
     "name": "stdout",
     "output_type": "stream",
     "text": [
      "[1860, 1865, 1870, 1875, 1880] [1880, 1885, 1890, 1895, 1900]\n"
     ]
    }
   ],
   "source": [
    "### Créer une liste d'années pour séparer en périodes de 5 ans\n",
    "# noter que la dernière année sera exclue, \n",
    "# elle donc doit être supérieure à la valeur maximale \n",
    "l_5 = list(range(1860, 1905, 5))\n",
    "print(l_5[:5],l_5[-5:])"
   ]
  },
  {
   "cell_type": "code",
   "execution_count": 51,
   "id": "06ab381e-f317-4767-9790-a9fcbfcb1853",
   "metadata": {},
   "outputs": [
    {
     "data": {
      "text/html": [
       "<div>\n",
       "<style scoped>\n",
       "    .dataframe tbody tr th:only-of-type {\n",
       "        vertical-align: middle;\n",
       "    }\n",
       "\n",
       "    .dataframe tbody tr th {\n",
       "        vertical-align: top;\n",
       "    }\n",
       "\n",
       "    .dataframe thead th {\n",
       "        text-align: right;\n",
       "    }\n",
       "</style>\n",
       "<table border=\"1\" class=\"dataframe\">\n",
       "  <thead>\n",
       "    <tr style=\"text-align: right;\">\n",
       "      <th></th>\n",
       "      <th>personUri</th>\n",
       "      <th>personLabel</th>\n",
       "      <th>allegiance</th>\n",
       "      <th>birthDate</th>\n",
       "      <th>birthYear</th>\n",
       "      <th>deathDate</th>\n",
       "      <th>deathYear</th>\n",
       "      <th>allegiance_clean</th>\n",
       "      <th>periodes</th>\n",
       "    </tr>\n",
       "  </thead>\n",
       "  <tbody>\n",
       "    <tr>\n",
       "      <th>0</th>\n",
       "      <td>http://www.wikidata.org/entity/Q6225085</td>\n",
       "      <td>John Capper</td>\n",
       "      <td>United Kingdom of Great Britain and Ireland</td>\n",
       "      <td>1861-12-07T00:00:00Z</td>\n",
       "      <td>1861</td>\n",
       "      <td>1955-05-24T00:00:00Z</td>\n",
       "      <td>1955</td>\n",
       "      <td>United Kingdom</td>\n",
       "      <td>1860-1864</td>\n",
       "    </tr>\n",
       "    <tr>\n",
       "      <th>1</th>\n",
       "      <td>http://www.wikidata.org/entity/Q3724015</td>\n",
       "      <td>Emanuele Vittorio Parodi</td>\n",
       "      <td>Kingdom of Italy</td>\n",
       "      <td>1862-01-22T00:00:00Z</td>\n",
       "      <td>1862</td>\n",
       "      <td>1945-04-13T00:00:00Z</td>\n",
       "      <td>1945</td>\n",
       "      <td>Italy</td>\n",
       "      <td>1860-1864</td>\n",
       "    </tr>\n",
       "    <tr>\n",
       "      <th>2</th>\n",
       "      <td>http://www.wikidata.org/entity/Q57569</td>\n",
       "      <td>Prince Henry of Prussia</td>\n",
       "      <td>Germany</td>\n",
       "      <td>1862-08-14T00:00:00Z</td>\n",
       "      <td>1862</td>\n",
       "      <td>1929-04-20T00:00:00Z</td>\n",
       "      <td>1929</td>\n",
       "      <td>Germany</td>\n",
       "      <td>1860-1864</td>\n",
       "    </tr>\n",
       "  </tbody>\n",
       "</table>\n",
       "</div>"
      ],
      "text/plain": [
       "                                 personUri               personLabel  \\\n",
       "0  http://www.wikidata.org/entity/Q6225085               John Capper   \n",
       "1  http://www.wikidata.org/entity/Q3724015  Emanuele Vittorio Parodi   \n",
       "2    http://www.wikidata.org/entity/Q57569   Prince Henry of Prussia   \n",
       "\n",
       "                                    allegiance             birthDate  \\\n",
       "0  United Kingdom of Great Britain and Ireland  1861-12-07T00:00:00Z   \n",
       "1                             Kingdom of Italy  1862-01-22T00:00:00Z   \n",
       "2                                      Germany  1862-08-14T00:00:00Z   \n",
       "\n",
       "   birthYear             deathDate deathYear allegiance_clean   periodes  \n",
       "0       1861  1955-05-24T00:00:00Z      1955   United Kingdom  1860-1864  \n",
       "1       1862  1945-04-13T00:00:00Z      1945            Italy  1860-1864  \n",
       "2       1862  1929-04-20T00:00:00Z      1929          Germany  1860-1864  "
      ]
     },
     "execution_count": 51,
     "metadata": {},
     "output_type": "execute_result"
    }
   ],
   "source": [
    "### fonction pd.cut : https://pandas.pydata.org/pandas-docs/stable/reference/api/pandas.cut.html\n",
    "# On ajoute une nouvelle colonne qui contient la période sur la base de la liste précédente\n",
    "# et de la valeur de l'année\n",
    "\n",
    "cdf_p['periodes'] = pd.cut(cdf_p['birthYear'], l_5, right=False)\n",
    "\n",
    "### Transformer le code ajouté pour qu'il soit plus lisible\n",
    "# noter qu'on a arrondi les valeurs\n",
    "cdf_p['periodes'] = cdf_p['periodes'].apply(lambda x : str(int(x.left))+'-'+ str(int(x.right)-1))\n",
    "\n",
    "# Inspection\n",
    "cdf_p.head(3)"
   ]
  },
  {
   "cell_type": "code",
   "execution_count": 52,
   "id": "4e943cfe-40d8-49c0-afa1-a55f964f657a",
   "metadata": {},
   "outputs": [
    {
     "name": "stderr",
     "output_type": "stream",
     "text": [
      "C:\\Users\\menou\\AppData\\Local\\Temp\\ipykernel_27980\\1755115692.py:2: FutureWarning: The default of observed=False is deprecated and will be changed to True in a future version of pandas. Pass observed=False to retain current behavior or observed=True to adopt the future default and silence this warning.\n",
      "  cdf_p.groupby(by='periodes').size()\n"
     ]
    },
    {
     "data": {
      "text/plain": [
       "periodes\n",
       "1860-1864      4\n",
       "1865-1869      9\n",
       "1870-1874     11\n",
       "1875-1879     31\n",
       "1880-1884     68\n",
       "1885-1889    148\n",
       "1890-1894    347\n",
       "1895-1899    327\n",
       "dtype: int64"
      ]
     },
     "execution_count": 52,
     "metadata": {},
     "output_type": "execute_result"
    }
   ],
   "source": [
    "### compter les naissances par périodes de 5 ans\n",
    "cdf_p.groupby(by='periodes').size()"
   ]
  },
  {
   "cell_type": "code",
   "execution_count": 53,
   "id": "9a1dd793-210a-42c3-b68b-d0e1756277d1",
   "metadata": {},
   "outputs": [
    {
     "name": "stderr",
     "output_type": "stream",
     "text": [
      "C:\\Users\\menou\\AppData\\Local\\Temp\\ipykernel_27980\\3694462858.py:1: FutureWarning: The default of observed=False is deprecated and will be changed to True in a future version of pandas. Pass observed=False to retain current behavior or observed=True to adopt the future default and silence this warning.\n",
      "  ax = cdf_p.groupby(by='periodes').size().plot(kind='bar',rot=60, fontsize=8, figsize=(16,8))\n"
     ]
    },
    {
     "data": {
      "image/png": "[encoded data removed]",
      "text/plain": [
       "<Figure size 1600x800 with 1 Axes>"
      ]
     },
     "metadata": {},
     "output_type": "display_data"
    }
   ],
   "source": [
    "ax = cdf_p.groupby(by='periodes').size().plot(kind='bar',rot=60, fontsize=8, figsize=(16,8))\n",
    "plt.ylabel('Effectif')\n",
    "plt.xlabel('Périodes')\n",
    "plt.title('Naissances par périodes de cinq ans')\n",
    "plt.show()"
   ]
  },
  {
   "cell_type": "markdown",
   "id": "7d3da8ee-300d-4fb8-be6e-384e1e4186ef",
   "metadata": {},
   "source": [
    "## Ajouter la représentation des nationalités"
   ]
  },
  {
   "cell_type": "code",
   "execution_count": null,
   "id": "e829d134",
   "metadata": {},
   "outputs": [],
   "source": [
    "### Regrouper et compter les effectifs\n",
    "top10_allegiances = (\n",
    "    cdf_p.groupby('allegiance_clean')\n",
    "         .size()\n",
    "         .reset_index(name='effectif')\n",
    "         .sort_values('effectif', ascending=False)\n",
    "         .head(10)\n",
    ")\n",
    "\n",
    "print(top10_allegiances)"
   ]
  },
  {
   "cell_type": "code",
   "execution_count": 54,
   "id": "e95d55b5",
   "metadata": {},
   "outputs": [
    {
     "name": "stderr",
     "output_type": "stream",
     "text": [
      "C:\\Users\\menou\\AppData\\Local\\Temp\\ipykernel_27980\\3285687334.py:2: FutureWarning: The default of observed=False is deprecated and will be changed to True in a future version of pandas. Pass observed=False to retain current behavior or observed=True to adopt the future default and silence this warning.\n",
      "  country_fr = pd.DataFrame(cdf_p[cdf_p['allegiance_clean'] == 'France'].groupby('periodes').size())\n"
     ]
    },
    {
     "data": {
      "text/html": [
       "<div>\n",
       "<style scoped>\n",
       "    .dataframe tbody tr th:only-of-type {\n",
       "        vertical-align: middle;\n",
       "    }\n",
       "\n",
       "    .dataframe tbody tr th {\n",
       "        vertical-align: top;\n",
       "    }\n",
       "\n",
       "    .dataframe thead th {\n",
       "        text-align: right;\n",
       "    }\n",
       "</style>\n",
       "<table border=\"1\" class=\"dataframe\">\n",
       "  <thead>\n",
       "    <tr style=\"text-align: right;\">\n",
       "      <th></th>\n",
       "      <th>country_fr</th>\n",
       "    </tr>\n",
       "    <tr>\n",
       "      <th>periodes</th>\n",
       "      <th></th>\n",
       "    </tr>\n",
       "  </thead>\n",
       "  <tbody>\n",
       "    <tr>\n",
       "      <th>1875-1879</th>\n",
       "      <td>16</td>\n",
       "    </tr>\n",
       "    <tr>\n",
       "      <th>1880-1884</th>\n",
       "      <td>32</td>\n",
       "    </tr>\n",
       "    <tr>\n",
       "      <th>1885-1889</th>\n",
       "      <td>47</td>\n",
       "    </tr>\n",
       "    <tr>\n",
       "      <th>1890-1894</th>\n",
       "      <td>89</td>\n",
       "    </tr>\n",
       "    <tr>\n",
       "      <th>1895-1899</th>\n",
       "      <td>59</td>\n",
       "    </tr>\n",
       "  </tbody>\n",
       "</table>\n",
       "</div>"
      ],
      "text/plain": [
       "           country_fr\n",
       "periodes             \n",
       "1875-1879          16\n",
       "1880-1884          32\n",
       "1885-1889          47\n",
       "1890-1894          89\n",
       "1895-1899          59"
      ]
     },
     "execution_count": 54,
     "metadata": {},
     "output_type": "execute_result"
    }
   ],
   "source": [
    "### Regrouper et compter avec un fitre sur la nationalité française (FR)\n",
    "country_fr = pd.DataFrame(cdf_p[cdf_p['allegiance_clean'] == 'France'].groupby('periodes').size())\n",
    "country_fr.columns = ['country_fr']\n",
    "country_fr.tail()\n",
    "\n"
   ]
  },
  {
   "cell_type": "code",
   "execution_count": 56,
   "id": "fd7cc5e0-471f-469e-ae39-9365de7bfc18",
   "metadata": {},
   "outputs": [],
   "source": [
    "# on définit les alliances\n",
    "def code_alliances(allegiance_clean):\n",
    "    # Allies during WW1\n",
    "    allies = {\n",
    "        \"France\", \"Italy\", \"United States\", \"United Kingdom\",\n",
    "        \"Australia\", \"Canada\", \"New Zealand\", \"Belgium\",\n",
    "        \"Russian Empire\", \"Russia\", \"South Africa\", \"Ireland\",\n",
    "        \"Portugal\", \"Romania\", \"Serbia\"\n",
    "    }\n",
    "\n",
    "    # Central Powers during WW1\n",
    "    central_powers = {\n",
    "        \"Germany\", \"German Empire\", \"German Reich\", \"Nazi Germany\",\n",
    "        \"Austria-Hungary\", \"Austria\", \"Bulgaria\", \"Ottoman Empire\",\n",
    "        \"Kingdom of Saxony\", \"Kingdom of Prussia\", \"Hungary\", \"Kingdom of Bavaria\"\n",
    "    }\n",
    "\n",
    "    if allegiance_clean in allies:\n",
    "        return \"Allies\"\n",
    "    elif allegiance_clean in central_powers:\n",
    "        return \"Central Powers\"\n",
    "    else:\n",
    "        return \"Other\""
   ]
  },
  {
   "cell_type": "code",
   "execution_count": 57,
   "id": "633f4f6e",
   "metadata": {},
   "outputs": [],
   "source": [
    "cdf_p['alliance'] = cdf_p['allegiance_clean'].apply(code_alliances)\n"
   ]
  },
  {
   "cell_type": "code",
   "execution_count": null,
   "id": "58c41c97",
   "metadata": {},
   "outputs": [
    {
     "name": "stdout",
     "output_type": "stream",
     "text": [
      "         alliance  effectif\n",
      "0          Allies       759\n",
      "1  Central Powers       121\n",
      "2           Other        77\n"
     ]
    }
   ],
   "source": [
    "# on regarde la distribution\n",
    "\n",
    "alliance_counts = (\n",
    "    cdf_p['alliance']\n",
    "    .value_counts()\n",
    "    .reset_index(name='effectif')\n",
    "    .rename(columns={'index': 'alliance'})\n",
    ")\n",
    "\n",
    "print(alliance_counts)\n"
   ]
  },
  {
   "cell_type": "code",
   "execution_count": 62,
   "id": "9cac4be0",
   "metadata": {},
   "outputs": [],
   "source": [
    "# Group by birth decade and alliance\n",
    "cdf_p['periodes'] = (cdf_p['birthYear'] // 5) * 5\n",
    "\n",
    "merged = (\n",
    "    cdf_p.groupby(['periodes', 'alliance'])\n",
    "    .size()\n",
    "    .unstack(fill_value=0)\n",
    ")\n",
    "\n",
    "merged.index = merged.index.map(str)\n"
   ]
  },
  {
   "cell_type": "code",
   "execution_count": 65,
   "id": "d188f96f-feca-464b-b338-f87e3c9cb23b",
   "metadata": {},
   "outputs": [
    {
     "data": {
      "image/png": "[encoded data removed]",
      "text/plain": [
       "<Figure size 2000x600 with 1 Axes>"
      ]
     },
     "metadata": {},
     "output_type": "display_data"
    }
   ],
   "source": [
    "### Documentation\n",
    "# https://pandas.pydata.org/pandas-docs/stable/reference/api/pandas.DataFrame.plot.bar.html\n",
    "ax = merged.plot.bar(\n",
    "    stacked=True,\n",
    "    rot=70,\n",
    "    fontsize=9,\n",
    "    figsize=(20, 6),\n",
    "    color=['#0055A4', '#FFCC00', '#CCCCCC'] \n",
    ")\n",
    "plt.title(\"Distribution of WW1 Aces by Alliance and Birth Period\")\n",
    "plt.xlabel(\"Period\")\n",
    "plt.ylabel(\"Number of Aces\")\n",
    "plt.tight_layout()\n",
    "plt.show()"
   ]
  },
  {
   "cell_type": "markdown",
   "id": "ba5a7825-df2b-4e94-9f90-2ffb03267ee3",
   "metadata": {},
   "source": [
    "### Codage par période de deux ans\n",
    "\n",
    "Comme on voit bien dans le graphique précédent qu'il y a une période avec des effectifs importants, \n",
    "on restraint la période analysée et on affine avec un découpage par périodes de deux ans "
   ]
  },
  {
   "cell_type": "code",
   "execution_count": 72,
   "id": "999af2f6-438d-4dbb-91b5-ad4ee449c067",
   "metadata": {
    "tags": []
   },
   "outputs": [
    {
     "name": "stdout",
     "output_type": "stream",
     "text": [
      "[1860, 1862, 1864, 1866, 1868] [1890, 1892, 1894, 1896, 1898]\n"
     ]
    }
   ],
   "source": [
    "l_2 = list(range(1860, 1900, 2))\n",
    "print(l_2[:5],l_2[-5:])"
   ]
  },
  {
   "cell_type": "code",
   "execution_count": 73,
   "id": "59fbb2a2-39c4-404b-b1c0-10be66742fae",
   "metadata": {},
   "outputs": [
    {
     "data": {
      "text/html": [
       "<div>\n",
       "<style scoped>\n",
       "    .dataframe tbody tr th:only-of-type {\n",
       "        vertical-align: middle;\n",
       "    }\n",
       "\n",
       "    .dataframe tbody tr th {\n",
       "        vertical-align: top;\n",
       "    }\n",
       "\n",
       "    .dataframe thead th {\n",
       "        text-align: right;\n",
       "    }\n",
       "</style>\n",
       "<table border=\"1\" class=\"dataframe\">\n",
       "  <thead>\n",
       "    <tr style=\"text-align: right;\">\n",
       "      <th></th>\n",
       "      <th>personUri</th>\n",
       "      <th>personLabel</th>\n",
       "      <th>allegiance</th>\n",
       "      <th>birthDate</th>\n",
       "      <th>birthYear</th>\n",
       "      <th>deathDate</th>\n",
       "      <th>deathYear</th>\n",
       "      <th>allegiance_clean</th>\n",
       "      <th>periodes</th>\n",
       "      <th>alliance</th>\n",
       "      <th>per_2</th>\n",
       "    </tr>\n",
       "  </thead>\n",
       "  <tbody>\n",
       "    <tr>\n",
       "      <th>0</th>\n",
       "      <td>http://www.wikidata.org/entity/Q6225085</td>\n",
       "      <td>John Capper</td>\n",
       "      <td>United Kingdom of Great Britain and Ireland</td>\n",
       "      <td>1861-12-07T00:00:00Z</td>\n",
       "      <td>1861</td>\n",
       "      <td>1955-05-24T00:00:00Z</td>\n",
       "      <td>1955</td>\n",
       "      <td>United Kingdom</td>\n",
       "      <td>1860</td>\n",
       "      <td>Allies</td>\n",
       "      <td>1860-1861</td>\n",
       "    </tr>\n",
       "    <tr>\n",
       "      <th>1</th>\n",
       "      <td>http://www.wikidata.org/entity/Q3724015</td>\n",
       "      <td>Emanuele Vittorio Parodi</td>\n",
       "      <td>Kingdom of Italy</td>\n",
       "      <td>1862-01-22T00:00:00Z</td>\n",
       "      <td>1862</td>\n",
       "      <td>1945-04-13T00:00:00Z</td>\n",
       "      <td>1945</td>\n",
       "      <td>Italy</td>\n",
       "      <td>1860</td>\n",
       "      <td>Allies</td>\n",
       "      <td>1862-1863</td>\n",
       "    </tr>\n",
       "    <tr>\n",
       "      <th>2</th>\n",
       "      <td>http://www.wikidata.org/entity/Q57569</td>\n",
       "      <td>Prince Henry of Prussia</td>\n",
       "      <td>Germany</td>\n",
       "      <td>1862-08-14T00:00:00Z</td>\n",
       "      <td>1862</td>\n",
       "      <td>1929-04-20T00:00:00Z</td>\n",
       "      <td>1929</td>\n",
       "      <td>Germany</td>\n",
       "      <td>1860</td>\n",
       "      <td>Central Powers</td>\n",
       "      <td>1862-1863</td>\n",
       "    </tr>\n",
       "  </tbody>\n",
       "</table>\n",
       "</div>"
      ],
      "text/plain": [
       "                                 personUri               personLabel  \\\n",
       "0  http://www.wikidata.org/entity/Q6225085               John Capper   \n",
       "1  http://www.wikidata.org/entity/Q3724015  Emanuele Vittorio Parodi   \n",
       "2    http://www.wikidata.org/entity/Q57569   Prince Henry of Prussia   \n",
       "\n",
       "                                    allegiance             birthDate  \\\n",
       "0  United Kingdom of Great Britain and Ireland  1861-12-07T00:00:00Z   \n",
       "1                             Kingdom of Italy  1862-01-22T00:00:00Z   \n",
       "2                                      Germany  1862-08-14T00:00:00Z   \n",
       "\n",
       "   birthYear             deathDate deathYear allegiance_clean  periodes  \\\n",
       "0       1861  1955-05-24T00:00:00Z      1955   United Kingdom      1860   \n",
       "1       1862  1945-04-13T00:00:00Z      1945            Italy      1860   \n",
       "2       1862  1929-04-20T00:00:00Z      1929          Germany      1860   \n",
       "\n",
       "         alliance      per_2  \n",
       "0          Allies  1860-1861  \n",
       "1          Allies  1862-1863  \n",
       "2  Central Powers  1862-1863  "
      ]
     },
     "execution_count": 73,
     "metadata": {},
     "output_type": "execute_result"
    }
   ],
   "source": [
    "### Découpage tous les deux ans\n",
    "# fonction pd.cut : https://pandas.pydata.org/pandas-docs/stable/reference/api/pandas.cut.html\n",
    "\n",
    "cdf_p['per_2'] = pd.cut(cdf_p['birthYear'], l_2, right=False)\n",
    "\n",
    "### Transformer le code ajouté pour qu'il soit plus lisible\n",
    "# noter qu'on a arrondi les valeurs\n",
    "cdf_p['per_2'] = cdf_p['per_2'].apply(lambda x : str(int(x.left))+'-'+ str(int(x.right)-1))\n",
    "\n",
    "# Inspection\n",
    "cdf_p.head(3)"
   ]
  },
  {
   "cell_type": "code",
   "execution_count": null,
   "id": "1c28f1d0-f1e2-4dfc-9892-2b3204544f45",
   "metadata": {},
   "outputs": [
    {
     "name": "stderr",
     "output_type": "stream",
     "text": [
      "C:\\Users\\menou\\AppData\\Local\\Temp\\ipykernel_27980\\3802819244.py:5: FutureWarning: The default of observed=False is deprecated and will be changed to True in a future version of pandas. Pass observed=False to retain current behavior or observed=True to adopt the future default and silence this warning.\n",
      "  .groupby('per_2')\n"
     ]
    },
    {
     "data": {
      "text/html": [
       "<div>\n",
       "<style scoped>\n",
       "    .dataframe tbody tr th:only-of-type {\n",
       "        vertical-align: middle;\n",
       "    }\n",
       "\n",
       "    .dataframe tbody tr th {\n",
       "        vertical-align: top;\n",
       "    }\n",
       "\n",
       "    .dataframe thead th {\n",
       "        text-align: right;\n",
       "    }\n",
       "</style>\n",
       "<table border=\"1\" class=\"dataframe\">\n",
       "  <thead>\n",
       "    <tr style=\"text-align: right;\">\n",
       "      <th></th>\n",
       "      <th>Allies</th>\n",
       "    </tr>\n",
       "    <tr>\n",
       "      <th>per_2</th>\n",
       "      <th></th>\n",
       "    </tr>\n",
       "  </thead>\n",
       "  <tbody>\n",
       "    <tr>\n",
       "      <th>1888-1889</th>\n",
       "      <td>52</td>\n",
       "    </tr>\n",
       "    <tr>\n",
       "      <th>1890-1891</th>\n",
       "      <td>81</td>\n",
       "    </tr>\n",
       "    <tr>\n",
       "      <th>1892-1893</th>\n",
       "      <td>116</td>\n",
       "    </tr>\n",
       "    <tr>\n",
       "      <th>1894-1895</th>\n",
       "      <td>133</td>\n",
       "    </tr>\n",
       "    <tr>\n",
       "      <th>1896-1897</th>\n",
       "      <td>125</td>\n",
       "    </tr>\n",
       "  </tbody>\n",
       "</table>\n",
       "</div>"
      ],
      "text/plain": [
       "           Allies\n",
       "per_2            \n",
       "1888-1889      52\n",
       "1890-1891      81\n",
       "1892-1893     116\n",
       "1894-1895     133\n",
       "1896-1897     125"
      ]
     },
     "execution_count": 76,
     "metadata": {},
     "output_type": "execute_result"
    }
   ],
   "source": [
    "### On regroupe par nationalité comme ci-dessus\n",
    "\n",
    "allies_2 = pd.DataFrame(\n",
    "    cdf_p[(cdf_p['alliance'] == 'Allies') & (cdf_p['birthYear'] > 1850)]\n",
    "    .groupby('per_2')\n",
    "    .size()\n",
    ")\n",
    "allies_2.columns = ['Allies']\n",
    "\n",
    "allies_2.tail()\n"
   ]
  },
  {
   "cell_type": "code",
   "execution_count": 78,
   "id": "0e28a9c3-ab14-40db-bf3a-469dbcb93500",
   "metadata": {},
   "outputs": [
    {
     "name": "stderr",
     "output_type": "stream",
     "text": [
      "C:\\Users\\menou\\AppData\\Local\\Temp\\ipykernel_27980\\354149380.py:4: FutureWarning: The default of observed=False is deprecated and will be changed to True in a future version of pandas. Pass observed=False to retain current behavior or observed=True to adopt the future default and silence this warning.\n",
      "  .groupby('per_2')\n"
     ]
    },
    {
     "data": {
      "text/html": [
       "<div>\n",
       "<style scoped>\n",
       "    .dataframe tbody tr th:only-of-type {\n",
       "        vertical-align: middle;\n",
       "    }\n",
       "\n",
       "    .dataframe tbody tr th {\n",
       "        vertical-align: top;\n",
       "    }\n",
       "\n",
       "    .dataframe thead th {\n",
       "        text-align: right;\n",
       "    }\n",
       "</style>\n",
       "<table border=\"1\" class=\"dataframe\">\n",
       "  <thead>\n",
       "    <tr style=\"text-align: right;\">\n",
       "      <th></th>\n",
       "      <th>Central Powers</th>\n",
       "    </tr>\n",
       "    <tr>\n",
       "      <th>per_2</th>\n",
       "      <th></th>\n",
       "    </tr>\n",
       "  </thead>\n",
       "  <tbody>\n",
       "    <tr>\n",
       "      <th>1888-1889</th>\n",
       "      <td>10</td>\n",
       "    </tr>\n",
       "    <tr>\n",
       "      <th>1890-1891</th>\n",
       "      <td>21</td>\n",
       "    </tr>\n",
       "    <tr>\n",
       "      <th>1892-1893</th>\n",
       "      <td>23</td>\n",
       "    </tr>\n",
       "    <tr>\n",
       "      <th>1894-1895</th>\n",
       "      <td>16</td>\n",
       "    </tr>\n",
       "    <tr>\n",
       "      <th>1896-1897</th>\n",
       "      <td>19</td>\n",
       "    </tr>\n",
       "  </tbody>\n",
       "</table>\n",
       "</div>"
      ],
      "text/plain": [
       "           Central Powers\n",
       "per_2                    \n",
       "1888-1889              10\n",
       "1890-1891              21\n",
       "1892-1893              23\n",
       "1894-1895              16\n",
       "1896-1897              19"
      ]
     },
     "execution_count": 78,
     "metadata": {},
     "output_type": "execute_result"
    }
   ],
   "source": [
    "### Idem\n",
    "central_2 = pd.DataFrame(\n",
    "    cdf_p[(cdf_p['alliance'] == 'Central Powers') & (cdf_p['birthYear'] > 1850)]\n",
    "    .groupby('per_2')\n",
    "    .size()\n",
    ")\n",
    "central_2.columns = ['Central Powers']\n",
    "\n",
    "central_2.tail()\n"
   ]
  },
  {
   "cell_type": "code",
   "execution_count": 79,
   "id": "d9653fcd",
   "metadata": {},
   "outputs": [
    {
     "name": "stderr",
     "output_type": "stream",
     "text": [
      "C:\\Users\\menou\\AppData\\Local\\Temp\\ipykernel_27980\\2078097046.py:3: FutureWarning: The default of observed=False is deprecated and will be changed to True in a future version of pandas. Pass observed=False to retain current behavior or observed=True to adopt the future default and silence this warning.\n",
      "  .groupby('per_2')\n"
     ]
    },
    {
     "data": {
      "text/html": [
       "<div>\n",
       "<style scoped>\n",
       "    .dataframe tbody tr th:only-of-type {\n",
       "        vertical-align: middle;\n",
       "    }\n",
       "\n",
       "    .dataframe tbody tr th {\n",
       "        vertical-align: top;\n",
       "    }\n",
       "\n",
       "    .dataframe thead th {\n",
       "        text-align: right;\n",
       "    }\n",
       "</style>\n",
       "<table border=\"1\" class=\"dataframe\">\n",
       "  <thead>\n",
       "    <tr style=\"text-align: right;\">\n",
       "      <th></th>\n",
       "      <th>Other</th>\n",
       "    </tr>\n",
       "    <tr>\n",
       "      <th>per_2</th>\n",
       "      <th></th>\n",
       "    </tr>\n",
       "  </thead>\n",
       "  <tbody>\n",
       "    <tr>\n",
       "      <th>1888-1889</th>\n",
       "      <td>4</td>\n",
       "    </tr>\n",
       "    <tr>\n",
       "      <th>1890-1891</th>\n",
       "      <td>7</td>\n",
       "    </tr>\n",
       "    <tr>\n",
       "      <th>1892-1893</th>\n",
       "      <td>13</td>\n",
       "    </tr>\n",
       "    <tr>\n",
       "      <th>1894-1895</th>\n",
       "      <td>15</td>\n",
       "    </tr>\n",
       "    <tr>\n",
       "      <th>1896-1897</th>\n",
       "      <td>20</td>\n",
       "    </tr>\n",
       "  </tbody>\n",
       "</table>\n",
       "</div>"
      ],
      "text/plain": [
       "           Other\n",
       "per_2           \n",
       "1888-1889      4\n",
       "1890-1891      7\n",
       "1892-1893     13\n",
       "1894-1895     15\n",
       "1896-1897     20"
      ]
     },
     "execution_count": 79,
     "metadata": {},
     "output_type": "execute_result"
    }
   ],
   "source": [
    "other_2 = pd.DataFrame(\n",
    "    cdf_p[(cdf_p['alliance'] == 'Other') & (cdf_p['birthYear'] > 1850)]\n",
    "    .groupby('per_2')\n",
    "    .size()\n",
    ")\n",
    "other_2.columns = ['Other']\n",
    "\n",
    "other_2.tail()"
   ]
  },
  {
   "cell_type": "code",
   "execution_count": 81,
   "id": "ebcbeed3-851b-416e-9f30-d1251ac5e579",
   "metadata": {},
   "outputs": [
    {
     "data": {
      "text/html": [
       "<div>\n",
       "<style scoped>\n",
       "    .dataframe tbody tr th:only-of-type {\n",
       "        vertical-align: middle;\n",
       "    }\n",
       "\n",
       "    .dataframe tbody tr th {\n",
       "        vertical-align: top;\n",
       "    }\n",
       "\n",
       "    .dataframe thead th {\n",
       "        text-align: right;\n",
       "    }\n",
       "</style>\n",
       "<table border=\"1\" class=\"dataframe\">\n",
       "  <thead>\n",
       "    <tr style=\"text-align: right;\">\n",
       "      <th></th>\n",
       "      <th>Allies</th>\n",
       "      <th>Central Powers</th>\n",
       "      <th>Other</th>\n",
       "    </tr>\n",
       "    <tr>\n",
       "      <th>per_2</th>\n",
       "      <th></th>\n",
       "      <th></th>\n",
       "      <th></th>\n",
       "    </tr>\n",
       "  </thead>\n",
       "  <tbody>\n",
       "    <tr>\n",
       "      <th>1888-1889</th>\n",
       "      <td>52</td>\n",
       "      <td>10</td>\n",
       "      <td>4</td>\n",
       "    </tr>\n",
       "    <tr>\n",
       "      <th>1890-1891</th>\n",
       "      <td>81</td>\n",
       "      <td>21</td>\n",
       "      <td>7</td>\n",
       "    </tr>\n",
       "    <tr>\n",
       "      <th>1892-1893</th>\n",
       "      <td>116</td>\n",
       "      <td>23</td>\n",
       "      <td>13</td>\n",
       "    </tr>\n",
       "    <tr>\n",
       "      <th>1894-1895</th>\n",
       "      <td>133</td>\n",
       "      <td>16</td>\n",
       "      <td>15</td>\n",
       "    </tr>\n",
       "    <tr>\n",
       "      <th>1896-1897</th>\n",
       "      <td>125</td>\n",
       "      <td>19</td>\n",
       "      <td>20</td>\n",
       "    </tr>\n",
       "  </tbody>\n",
       "</table>\n",
       "</div>"
      ],
      "text/plain": [
       "           Allies  Central Powers  Other\n",
       "per_2                                   \n",
       "1888-1889      52              10      4\n",
       "1890-1891      81              21      7\n",
       "1892-1893     116              23     13\n",
       "1894-1895     133              16     15\n",
       "1896-1897     125              19     20"
      ]
     },
     "execution_count": 81,
     "metadata": {},
     "output_type": "execute_result"
    }
   ],
   "source": [
    "merged_2 = pd.concat([allies_2, central_2, other_2], axis=1).fillna(0)\n",
    "\n",
    "merged_2.tail()"
   ]
  },
  {
   "cell_type": "code",
   "execution_count": null,
   "id": "ae8f6224-9c2b-47ce-ace0-c1d4a05c4869",
   "metadata": {},
   "outputs": [
    {
     "data": {
      "text/html": [
       "<div>\n",
       "<style scoped>\n",
       "    .dataframe tbody tr th:only-of-type {\n",
       "        vertical-align: middle;\n",
       "    }\n",
       "\n",
       "    .dataframe tbody tr th {\n",
       "        vertical-align: top;\n",
       "    }\n",
       "\n",
       "    .dataframe thead th {\n",
       "        text-align: right;\n",
       "    }\n",
       "</style>\n",
       "<table border=\"1\" class=\"dataframe\">\n",
       "  <thead>\n",
       "    <tr style=\"text-align: right;\">\n",
       "      <th></th>\n",
       "      <th>Allies</th>\n",
       "      <th>Central Powers</th>\n",
       "      <th>Other</th>\n",
       "      <th>tot</th>\n",
       "    </tr>\n",
       "    <tr>\n",
       "      <th>per_2</th>\n",
       "      <th></th>\n",
       "      <th></th>\n",
       "      <th></th>\n",
       "      <th></th>\n",
       "    </tr>\n",
       "  </thead>\n",
       "  <tbody>\n",
       "    <tr>\n",
       "      <th>1888-1889</th>\n",
       "      <td>52</td>\n",
       "      <td>10</td>\n",
       "      <td>4</td>\n",
       "      <td>66</td>\n",
       "    </tr>\n",
       "    <tr>\n",
       "      <th>1890-1891</th>\n",
       "      <td>81</td>\n",
       "      <td>21</td>\n",
       "      <td>7</td>\n",
       "      <td>109</td>\n",
       "    </tr>\n",
       "    <tr>\n",
       "      <th>1892-1893</th>\n",
       "      <td>116</td>\n",
       "      <td>23</td>\n",
       "      <td>13</td>\n",
       "      <td>152</td>\n",
       "    </tr>\n",
       "    <tr>\n",
       "      <th>1894-1895</th>\n",
       "      <td>133</td>\n",
       "      <td>16</td>\n",
       "      <td>15</td>\n",
       "      <td>164</td>\n",
       "    </tr>\n",
       "    <tr>\n",
       "      <th>1896-1897</th>\n",
       "      <td>125</td>\n",
       "      <td>19</td>\n",
       "      <td>20</td>\n",
       "      <td>164</td>\n",
       "    </tr>\n",
       "  </tbody>\n",
       "</table>\n",
       "</div>"
      ],
      "text/plain": [
       "           Allies  Central Powers  Other  tot\n",
       "per_2                                        \n",
       "1888-1889      52              10      4   66\n",
       "1890-1891      81              21      7  109\n",
       "1892-1893     116              23     13  152\n",
       "1894-1895     133              16     15  164\n",
       "1896-1897     125              19     20  164"
      ]
     },
     "execution_count": 83,
     "metadata": {},
     "output_type": "execute_result"
    }
   ],
   "source": [
    "### On transforme le type de valeur de l'index\n",
    "# et on ajoute une colonne avec le total\n",
    "merged_2.index = merged_2.index.map(str)\n",
    "\n",
    "merged_2['tot'] = merged_2['Allies'] + merged_2['Central Powers'] + merged_2['Other']\n",
    "merged_2.tail()"
   ]
  },
  {
   "cell_type": "code",
   "execution_count": null,
   "id": "5569f274-e09d-4be4-a3bc-352f99d58997",
   "metadata": {},
   "outputs": [
    {
     "name": "stdout",
     "output_type": "stream",
     "text": [
      "[1.0, 0.67, 1.0, 0.5, 1.0, 1.0]\n"
     ]
    }
   ],
   "source": [
    "### On prépare les valeurs pour l'affichage des fréquences (proportion par rapport au total)\n",
    "\n",
    "# on regroupe les valeurs\n",
    "alliances_flat = (\n",
    "    merged_2['Allies'].tolist() +\n",
    "    merged_2['Central Powers'].tolist() +\n",
    "    merged_2['Other'].tolist()\n",
    ")\n",
    "\n",
    "totals = merged_2['tot'].tolist() * 3\n",
    "\n",
    "\n",
    "lp = [round(v / t, 2) if t > 0 else 0 for v, t in zip(alliances_flat, totals)]\n",
    "\n",
    "\n",
    "print(lp[:6])  "
   ]
  },
  {
   "cell_type": "code",
   "execution_count": 87,
   "id": "928a67b9-19f2-44e7-b4eb-7b20b534f73c",
   "metadata": {},
   "outputs": [
    {
     "data": {
      "image/png": "[encoded data removed]",
      "text/plain": [
       "<Figure size 2000x800 with 1 Axes>"
      ]
     },
     "metadata": {},
     "output_type": "display_data"
    }
   ],
   "source": [
    "### Graphique avec la distribution (proportion) par période de deux ans et pays\n",
    "\n",
    "ax = merged_2.plot.bar(\n",
    "    stacked=True,\n",
    "    y=['Allies', 'Central Powers', 'Other'],\n",
    "    rot=70,\n",
    "    fontsize=9,\n",
    "    figsize=(20, 8),\n",
    "    color=['#0055A4', '#FFCC00', '#CCCCCC']  \n",
    ")\n",
    "\n",
    "for bar, v in zip(ax.patches, lp): \n",
    "    ax.text(\n",
    "        bar.get_x() + bar.get_width() / 2,\n",
    "        bar.get_y() + bar.get_height() / 2,\n",
    "        v,\n",
    "        ha='center',\n",
    "        color='black',\n",
    "        weight='bold',\n",
    "        size=10\n",
    "    )\n",
    "\n",
    "plt.ylabel('Effectifs par période avec proportion des alliances')\n",
    "plt.xlabel('Périodes')\n",
    "plt.title(\"Distribution des naissances par période de 2 ans, proportion des alliances\")\n",
    "\n",
    "\n",
    "## On peut enregistrer l'image dans un fichier (noter le dossier créé préalablement)\n",
    "# qu'on pourra ensuite introduire dans un travail et commenter\n",
    "\n",
    "# Doc.: https://matplotlib.org/stable/api/_as_gen/matplotlib.pyplot.savefig.html\n",
    "plt.savefig('naissances_distribution_2ans_pays.jpg', bbox_inches='tight', pad_inches=0.2)\n",
    "plt.show()"
   ]
  },
  {
   "cell_type": "markdown",
   "id": "6322d228",
   "metadata": {},
   "source": [
    "## Analyse des données"
   ]
  },
  {
   "cell_type": "code",
   "execution_count": 88,
   "id": "a2cf6b9f",
   "metadata": {},
   "outputs": [],
   "source": [
    "# on veut comparer les proportions des trois dernières périodes par rapport aux autres\n",
    "last_3 = merged_2.tail(3)\n",
    "last_3_total = last_3['tot'].sum()"
   ]
  },
  {
   "cell_type": "code",
   "execution_count": 89,
   "id": "667c65bf",
   "metadata": {},
   "outputs": [],
   "source": [
    "rest = merged_2.iloc[:-3]\n",
    "rest_total = rest['tot'].sum()"
   ]
  },
  {
   "cell_type": "code",
   "execution_count": 90,
   "id": "8d96e483",
   "metadata": {},
   "outputs": [],
   "source": [
    "total_all = last_3_total + rest_total\n",
    "\n",
    "last_3_prop = round(last_3_total / total_all, 2)\n",
    "rest_prop = round(rest_total / total_all, 2)\n"
   ]
  },
  {
   "cell_type": "code",
   "execution_count": 95,
   "id": "cb7b594a",
   "metadata": {},
   "outputs": [
    {
     "data": {
      "image/png": "[encoded data removed]",
      "text/plain": [
       "<Figure size 800x600 with 1 Axes>"
      ]
     },
     "metadata": {},
     "output_type": "display_data"
    }
   ],
   "source": [
    "compare_df = pd.DataFrame({\n",
    "    'période': ['Avant 1892', '1892-1897'],\n",
    "    'effectif': [rest_total, last_3_total]\n",
    "})\n",
    "\n",
    "ax = compare_df.plot.bar(\n",
    "    x='période',\n",
    "    y='effectif',\n",
    "    color=['#CCCCCC', '#0055A4'],\n",
    "    rot=0,\n",
    "    figsize=(8, 6)\n",
    ")\n",
    "\n",
    "total_all = rest_total + last_3_total\n",
    "props = [round(rest_total / total_all, 2), round(last_3_total / total_all, 2)]\n",
    "\n",
    "for bar, prop in zip(ax.patches, props):\n",
    "    ax.text(\n",
    "        bar.get_x() + bar.get_width() / 2,\n",
    "        bar.get_height() / 2,\n",
    "        f\"{prop}\",\n",
    "        ha='center',\n",
    "        va='center',\n",
    "        color='black',\n",
    "        weight='bold',\n",
    "        size=12\n",
    "    )\n",
    "\n",
    "plt.title(\"Proportion des naissances : avant vs. 1892-1897\")\n",
    "plt.xlabel(\"Période\")\n",
    "plt.ylabel(\"Nombre total d'as\")\n",
    "plt.tight_layout()\n",
    "plt.show()\n",
    "\n"
   ]
  },
  {
   "cell_type": "code",
   "execution_count": 98,
   "id": "3de18064",
   "metadata": {},
   "outputs": [
    {
     "name": "stdout",
     "output_type": "stream",
     "text": [
      "Le groupe 'Avant 1892' comprend 16 périodes de 2 ans et équivaut à 44%.\n",
      "Le groupe '1892–1897' comprend 3 périodes de 2 ans et équivaut à 56%.\n"
     ]
    }
   ],
   "source": [
    "# On compte combien de période les deux catégories comprennent\n",
    "num_rest_periods = len(merged_2.iloc[:-3])\n",
    "num_last_periods = len(merged_2.tail(3))\n",
    "\n",
    "\n",
    "print(f\"Le groupe 'Avant 1892' comprend {num_rest_periods} périodes de 2 ans et équivaut à 44%.\")\n",
    "print(f\"Le groupe '1892–1897' comprend {num_last_periods} périodes de 2 ans et équivaut à 56%.\")\n"
   ]
  }
 ],
 "metadata": {
  "kernelspec": {
   "display_name": "Python 3",
   "language": "python",
   "name": "python3"
  },
  "language_info": {
   "codemirror_mode": {
    "name": "ipython",
    "version": 3
   },
   "file_extension": ".py",
   "mimetype": "text/x-python",
   "name": "python",
   "nbconvert_exporter": "python",
   "pygments_lexer": "ipython3",
   "version": "3.11.9"
  }
 },
 "nbformat": 4,
 "nbformat_minor": 5
}

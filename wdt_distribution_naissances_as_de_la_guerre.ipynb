{
 "cells": [
  {
   "cell_type": "markdown",
   "id": "392525be",
   "metadata": {},
   "source": [
    "# Distribution des naissances – As de la Guerre"
   ]
  },
  {
   "cell_type": "markdown",
   "id": "167cde31",
   "metadata": {},
   "source": [
    "\n",
    "Ce carnet propose une analyse de la distribution dans le temps des années de naissance de la population des **As de la Première Guerre mondiale**, en s'appuyant sur les données stockées dans un triplestore **AllegroGraph** personnel et hébergé dans le cloud.\n",
    "\n",
    "L'objectif est de :\n",
    "- Visualiser la distribution temporelle des naissances\n",
    "- Mettre en évidence des générations\n",
    "- Étudier l'évolution du genre dans le temps\n"
   ]
  },
  {
   "cell_type": "code",
   "execution_count": null,
   "id": "1725b095",
   "metadata": {},
   "outputs": [],
   "source": [
    "\n",
    "from SPARQLWrapper import SPARQLWrapper, JSON\n",
    "import pandas as pd\n",
    "import matplotlib.pyplot as plt\n",
    "import numpy as np\n",
    "import sys\n",
    "import os\n",
    "\n",
    "import sparql_functions as spqf\n"
   ]
  },
  {
   "cell_type": "code",
   "execution_count": null,
   "id": "7ad43c4a",
   "metadata": {},
   "outputs": [],
   "source": [
    "\n",
    "endpoint = \"https://ag18eeehwepcg5xz.allegrograph.cloud/repositories/As-de-la-Guerre\"\n",
    "\n",
    "query = '''\n",
    "PREFIX wd: <http://www.wikidata.org/entity/>\n",
    "PREFIX wdt: <http://www.wikidata.org/prop/direct/>\n",
    "PREFIX rdfs: <http://www.w3.org/2000/01/rdf-schema#>\n",
    "PREFIX xsd: <http://www.w3.org/2001/XMLSchema#>\n",
    "\n",
    "SELECT ?s (MAX(?label) as ?label) (xsd:integer(MAX(?birthDate)) as ?birthYear) (MAX(?gen) as ?genderUri)\n",
    "WHERE {\n",
    "  ?s wdt:P106 wd:Q2095549 .\n",
    "  ?s wdt:P607 wd:Q361 .\n",
    "  FILTER NOT EXISTS { ?s wdt:P31 wd:Q15632617. }\n",
    "  ?s rdfs:label ?label .\n",
    "  ?s wdt:P569 ?birthDate .\n",
    "  OPTIONAL { ?s wdt:P21 ?gen . }\n",
    "}\n",
    "GROUP BY ?s\n",
    "'''\n"
   ]
  },
  {
   "cell_type": "code",
   "execution_count": null,
   "id": "bc7f9b83",
   "metadata": {},
   "outputs": [],
   "source": [
    "\n",
    "qr = spqf.get_json_sparql_result(endpoint, query)\n",
    "r = [l for l in spqf.sparql_result_to_list(qr)]\n",
    "print(f\"{len(r)} résultats extraits.\")\n",
    "r[:5]\n"
   ]
  },
  {
   "cell_type": "code",
   "execution_count": null,
   "id": "06e279fd",
   "metadata": {},
   "outputs": [],
   "source": [
    "\n",
    "df = pd.DataFrame(r)\n",
    "df.columns = ['personUri', 'personLabel', 'birthYear', 'genderUri']\n",
    "df['birthYear'] = df['birthYear'].astype(int)\n",
    "df.head()\n"
   ]
  },
  {
   "cell_type": "code",
   "execution_count": null,
   "id": "2142b438",
   "metadata": {},
   "outputs": [],
   "source": [
    "\n",
    "def code_gender(g_uri):\n",
    "    if g_uri == 'http://www.wikidata.org/entity/Q6581097':\n",
    "        return 'M'\n",
    "    elif g_uri == 'http://www.wikidata.org/entity/Q6581072':\n",
    "        return 'F'\n",
    "    else:\n",
    "        return 'A'\n",
    "\n",
    "df['genCode'] = df.apply(lambda x: code_gender(x['genderUri']), axis=1)\n"
   ]
  },
  {
   "cell_type": "code",
   "execution_count": null,
   "id": "721b6e19",
   "metadata": {},
   "outputs": [],
   "source": [
    "\n",
    "years_count = pd.DataFrame(df[df['birthYear'] < 2001].groupby('birthYear').size()).reset_index()\n",
    "years_count.columns = ['year', 'effectif']\n",
    "\n",
    "ax = years_count.plot(x='year', y='effectif', kind='bar', rot=60, fontsize=8, figsize=(16, 6))\n",
    "plt.ylabel('Effectif')\n",
    "plt.xlabel('Années')\n",
    "plt.title('Nombre de naissances par année')\n",
    "plt.show()\n"
   ]
  },
  {
   "cell_type": "code",
   "execution_count": null,
   "id": "af40fa1e",
   "metadata": {},
   "outputs": [],
   "source": [
    "\n",
    "cdf = df[df['birthYear'] < 1951].copy()\n",
    "l_25 = list(range(1751, 1975, 25))\n",
    "cdf['periodes'] = pd.cut(cdf['birthYear'], l_25, right=False)\n",
    "cdf['periodes'] = cdf['periodes'].apply(lambda x: str(int(x.left)) + '-' + str(int(x.right)-1))\n"
   ]
  },
  {
   "cell_type": "code",
   "execution_count": null,
   "id": "3d2b563e",
   "metadata": {},
   "outputs": [],
   "source": [
    "\n",
    "ax = cdf.groupby('periodes').size().plot(kind='bar', rot=60, figsize=(16, 6))\n",
    "plt.ylabel('Effectif')\n",
    "plt.xlabel('Périodes')\n",
    "plt.title('Naissances par périodes de 25 ans')\n",
    "plt.show()\n"
   ]
  },
  {
   "cell_type": "code",
   "execution_count": null,
   "id": "abf3eaac",
   "metadata": {},
   "outputs": [],
   "source": [
    "\n",
    "gender_m = pd.DataFrame(cdf[cdf.genCode == 'M'].groupby('periodes').size())\n",
    "gender_m.columns = ['gen_m']\n",
    "\n",
    "gender_f = pd.DataFrame(cdf[cdf.genCode == 'F'].groupby('periodes').size())\n",
    "gender_f.columns = ['gen_f']\n",
    "\n",
    "merged = pd.merge(gender_m, gender_f, left_index=True, right_index=True)\n",
    "merged.index = merged.index.map(str)\n"
   ]
  },
  {
   "cell_type": "code",
   "execution_count": null,
   "id": "9fec1492",
   "metadata": {},
   "outputs": [],
   "source": [
    "\n",
    "ax = merged.plot.bar(stacked=True, rot=70, fontsize=9, figsize=(20, 6), color=['LightSteelBlue', 'LightCoral'])\n",
    "plt.title('Répartition des genres par période')\n",
    "plt.ylabel('Effectif')\n",
    "plt.xlabel('Périodes')\n",
    "plt.show()\n"
   ]
  },
  {
   "cell_type": "code",
   "execution_count": null,
   "id": "cd5aabe1",
   "metadata": {},
   "outputs": [],
   "source": [
    "\n",
    "os.makedirs('images', exist_ok=True)\n",
    "plt.savefig('images/naissances_distribution_25ans_genre.jpg', bbox_inches='tight', pad_inches=0.2)\n"
   ]
  }
 ],
 "metadata": {},
 "nbformat": 4,
 "nbformat_minor": 5
}
